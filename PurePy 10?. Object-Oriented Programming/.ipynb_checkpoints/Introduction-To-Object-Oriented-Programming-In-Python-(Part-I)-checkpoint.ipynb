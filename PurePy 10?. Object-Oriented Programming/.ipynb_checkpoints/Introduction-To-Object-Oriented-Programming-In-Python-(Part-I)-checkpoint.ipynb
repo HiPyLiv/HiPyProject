{
 "cells": [
  {
   "cell_type": "markdown",
   "metadata": {},
   "source": [
    "![title](../header.png)"
   ]
  },
  {
   "cell_type": "markdown",
   "metadata": {},
   "source": [
    "Object-Oriented Programming In Python (Part I)\n",
    "\n",
    "<b>Prerequisite knowledge</b>\n",
    "- Dictionaries\n",
    "- Functions\n",
    "- Importing modules\n",
    "- (Optional) Handling exceptions\n",
    "\n",
    "<b>Introduction</b>\n",
    "\n",
    "Object-oriented programming is one of Python's most powerful features, but also one that requires a large conceptual leap for beginners. The benefits of OOP are that the components of your program -- the data, and functions -- can be structured into \"objects\" that interact with each other, in an analogy to the way that the real world is also made of interacting objects. This provides an intuitive way to organize large programming projects and complex data structures. Moreover, OOP is at the core of how the Python language is structured. Your understanding of how Python really works, as well as how most of the imported modules you are used to using really work, will be vastly expanded once these concepts are understood.\n",
    "\n",
    "We will gradually build the intuition behind OOP before getting into the nitty-gritty -- jumping straight into examples will lead to confusion.\n",
    "\n",
    "\n",
    "<b>The big idea</b>\n",
    "\n",
    "The good news is you have already met examples of objects. In fact, in Python, everything is an object -- every string, list, and function is an object. For example,"
   ]
  },
  {
   "cell_type": "code",
   "execution_count": 1,
   "metadata": {},
   "outputs": [
    {
     "data": {
      "text/plain": [
       "'Hello world'"
      ]
     },
     "execution_count": 1,
     "metadata": {},
     "output_type": "execute_result"
    }
   ],
   "source": [
    "\"Hello world\""
   ]
  },
  {
   "cell_type": "markdown",
   "metadata": {},
   "source": [
    "is an object. It contains some data -- most importantly, the text -- and some functions. What kind of functions? Well, for instance"
   ]
  },
  {
   "cell_type": "code",
   "execution_count": 3,
   "metadata": {},
   "outputs": [
    {
     "data": {
      "text/plain": [
       "['Hello', 'world']"
      ]
     },
     "execution_count": 3,
     "metadata": {},
     "output_type": "execute_result"
    }
   ],
   "source": [
    "\"Hello world\".split()"
   ]
  },
  {
   "cell_type": "markdown",
   "metadata": {},
   "source": [
    "the function <code>split()</code> is a function that in some sense <i>belongs</i> to the string. This is the meaning of the . operator -- it is like the / in a file path. For example, Documents/my-cv.pdf means that \"my-cv.pdf\" somehow belongs to the folder \"Documents\". In Python, <code>\"Hello world\".split()</code> means that <code>split()</code> somehow belongs to the object <code>\"Hello world\"</code>. This concept is actually very familiar. We know that to get the square root function, we must import the <code>math</code> module, and then write <code>math.sqrt(x)</code> to use the function. The . operator shows that the <code>sqrt()</code> functions belongs to the module <code>math</code>.\n",
    "\n",
    "Moreover, <code>\"Hello world\"</code> has some other behaviours built into it. For instance, if I write"
   ]
  },
  {
   "cell_type": "code",
   "execution_count": 6,
   "metadata": {},
   "outputs": [
    {
     "data": {
      "text/plain": [
       "'Hello world! Good morning, morning!'"
      ]
     },
     "execution_count": 6,
     "metadata": {},
     "output_type": "execute_result"
    }
   ],
   "source": [
    "\"Hello world\" + \"! Good morning, morning!\""
   ]
  },
  {
   "cell_type": "markdown",
   "metadata": {},
   "source": [
    "we see that this object knows what to do if it meets the + operator. So this humble little piece of text is actually packing a whole lot of complex behaviours! You will likewise find the same pattern in every Python data type you have met so far. A list, for instance, contains the entries in the list as its data; it knows some functions such as <code>list.append()</code>; and it even knows what to do in situations such as\n"
   ]
  },
  {
   "cell_type": "code",
   "execution_count": 7,
   "metadata": {},
   "outputs": [
    {
     "data": {
      "text/plain": [
       "[1, 2, 3, 4]"
      ]
     },
     "execution_count": 7,
     "metadata": {},
     "output_type": "execute_result"
    }
   ],
   "source": [
    "[1, 2] + [3, 4]"
   ]
  },
  {
   "cell_type": "markdown",
   "metadata": {},
   "source": [
    "Until now, you have probably thought of \"string\" or \"list\" as being a \"type\". This is, not wrong, of course. But we need a new piece of terminology to move in to object-oriented thinking. \"String\" should now be thought of as a <i>class</i>. A class is the abstract blueprint for an object. The class <code>'str'</code> defines everything that a string can do. What data can a string contain? What functions does it know? How should it interact with other objects? What happens if you write <code>\"A string\"[4]</code>? The abstract class of strings contains the blueprints for every string we create.\n",
    "\n",
    "The deal with object-oriented programming is that we get to design our own classes, containing exactly the kind of data we want, with exactly the kind of behaviours we want. Then, our program can create objects using our class definition, called <i>instances</i> of the class, just like we have this general class of strings, and then create instances of strings every time we write <code>\"A string\"</code>.\n",
    "\n",
    "A vivid example might be the bad guys in a computer game. If the game is written using object-oriented programming, there will be in the code some class defining what is the bad guy -- this will be data such as what he looks like on the screen, his health, any weapons he is carrying (which will be objects in themselves!), and so on. Then he will have functions controlling his AI, what happens when his health reaches 0, and such. Then, the game will create multiple <i>instances</i> of this baddie to chase after the player, all of which contain their own collection of this rich information and behaviour.\n",
    "\n",
    "The rich complexity of many objects from modules you are already familiar with, such as <code>numpy</code>'s arrays and <code>pandas</code>' frames are due to those modules containing well-designed array and data frame classes.\n",
    "\n",
    "\n",
    "A final word of motivation. The concepts of object-oriented programming are significantly more abstract than anything up to this point. Do not be discouraged if it takes a while to 'click'.\n",
    "\n",
    "<b>Terminology</b>\n",
    "\n",
    "- <b>Classes</b> are the abstract blueprints for <b>objects</b>. When an object is made from a class, it is called an <b>instance</b> of the class.\n",
    "- Inside a class/object, stored variables are called <b>attributes</b>. An attribute is just a variable that belongs to an object, or sometimes, a variable shared by a whole class of objects.\n",
    "- Likewise, the functions that belong to a class/object are called the object's <b>methods</b>. A method is just a function that belongs to an object, but with one subtle difference we shall soon meet.\n",
    "\n",
    "From now on, we will use the terms attributes and methods to refer to data and functions stored inside objects and classes. You can see what attributes and methods any object has by using <code>dir()</code>:\n"
   ]
  },
  {
   "cell_type": "code",
   "execution_count": 8,
   "metadata": {},
   "outputs": [
    {
     "data": {
      "text/plain": [
       "['__add__',\n",
       " '__class__',\n",
       " '__contains__',\n",
       " '__delattr__',\n",
       " '__dir__',\n",
       " '__doc__',\n",
       " '__eq__',\n",
       " '__format__',\n",
       " '__ge__',\n",
       " '__getattribute__',\n",
       " '__getitem__',\n",
       " '__getnewargs__',\n",
       " '__gt__',\n",
       " '__hash__',\n",
       " '__init__',\n",
       " '__iter__',\n",
       " '__le__',\n",
       " '__len__',\n",
       " '__lt__',\n",
       " '__mod__',\n",
       " '__mul__',\n",
       " '__ne__',\n",
       " '__new__',\n",
       " '__reduce__',\n",
       " '__reduce_ex__',\n",
       " '__repr__',\n",
       " '__rmod__',\n",
       " '__rmul__',\n",
       " '__setattr__',\n",
       " '__sizeof__',\n",
       " '__str__',\n",
       " '__subclasshook__',\n",
       " 'capitalize',\n",
       " 'casefold',\n",
       " 'center',\n",
       " 'count',\n",
       " 'encode',\n",
       " 'endswith',\n",
       " 'expandtabs',\n",
       " 'find',\n",
       " 'format',\n",
       " 'format_map',\n",
       " 'index',\n",
       " 'isalnum',\n",
       " 'isalpha',\n",
       " 'isdecimal',\n",
       " 'isdigit',\n",
       " 'isidentifier',\n",
       " 'islower',\n",
       " 'isnumeric',\n",
       " 'isprintable',\n",
       " 'isspace',\n",
       " 'istitle',\n",
       " 'isupper',\n",
       " 'join',\n",
       " 'ljust',\n",
       " 'lower',\n",
       " 'lstrip',\n",
       " 'maketrans',\n",
       " 'partition',\n",
       " 'replace',\n",
       " 'rfind',\n",
       " 'rindex',\n",
       " 'rjust',\n",
       " 'rpartition',\n",
       " 'rsplit',\n",
       " 'rstrip',\n",
       " 'split',\n",
       " 'splitlines',\n",
       " 'startswith',\n",
       " 'strip',\n",
       " 'swapcase',\n",
       " 'title',\n",
       " 'translate',\n",
       " 'upper',\n",
       " 'zfill']"
      ]
     },
     "execution_count": 8,
     "metadata": {},
     "output_type": "execute_result"
    }
   ],
   "source": [
    "dir(\"Hello, world!\")"
   ]
  },
  {
   "cell_type": "markdown",
   "metadata": {},
   "source": [
    "Some of these methods will be familiar, others look strange and have underscores everywhere. We'll get onto those soon enough.\n",
    "\n",
    "<b>Basic examples and syntax</b>\n",
    "\n",
    "Before we look a more substantial example, let's look at the basic innards of a class, and how to make objects from it. To create a class, we use the python keyword <code>class</code> followed by the class's name, traditionally starting with a capital letter. Straight away, we shall also define a method inside the class called <code>\\__init\\__()</code>.\n"
   ]
  },
  {
   "cell_type": "code",
   "execution_count": 9,
   "metadata": {
    "collapsed": true
   },
   "outputs": [],
   "source": [
    "class Beekeeper():\n",
    "    def __init__(self):\n",
    "        pass\n",
    "    "
   ]
  },
  {
   "cell_type": "markdown",
   "metadata": {},
   "source": [
    "What's going on here? Almost every class comes with a method called <code>\\__init\\__()</code>. The underscores mean that this is a \"magic\" method (no, I'm not being patronizing, that's really what Python programmers call them). A magic method is a method that the Python interpreter automatically looks for in certain situations (Part III of this series will be more about magic methods).\n",
    "\n",
    "In this case, <u>Python knows to call this method whenever an instance of the class is created</u> -- that's the magic part. You'll also notice that it takes a parameter which we have called <code>self</code>. <u>Every object method takes the object itself as its first parameter</u>, and it is traditional to call it \"self\". The job of the <code>\\__init\\__()</code> method is to organize the data in the object. Let's flesh this out now and see how it works."
   ]
  },
  {
   "cell_type": "code",
   "execution_count": 10,
   "metadata": {
    "collapsed": true
   },
   "outputs": [],
   "source": [
    "class Beekeeper():\n",
    "    def __init__(self, name, age, field):\n",
    "        self.name = name\n",
    "        self.age = age\n",
    "        self.subject = field"
   ]
  },
  {
   "cell_type": "markdown",
   "metadata": {},
   "source": [
    "Just like any other function, the arguments passed to the <code>\\__init\\__()</code> method are forgotten once the function has finished running. Therefore, the <code>\\__init\\__()</code> method in this example is being used to store the data provided by the arguments as <i>attributes</i> of the object. To create or change an attribute is just like creating a variable, except we specify which object the attribute belongs to using the dot operator. In this case, the attribute will be part of the object the method belongs to, so we use <code>self</code>.\n",
    "\n",
    "You can also call other class methods from inside <code>\\__init\\__()</code>. For example:"
   ]
  },
  {
   "cell_type": "code",
   "execution_count": 11,
   "metadata": {
    "collapsed": true
   },
   "outputs": [],
   "source": [
    "class Beekeeper():\n",
    "    def __init__(self, name, age, field):\n",
    "        self.name = name\n",
    "        self.age = age\n",
    "        self.subject = field\n",
    "        self.confirm_creation()\n",
    "    \n",
    "    def confirm_creation(self):\n",
    "        print(\"Beekeeper {} has been created!\".format(self.name))\n",
    "    \n",
    "    def read_details(self):\n",
    "        print(\"Hi, I'm {}, aged {} and studying {}!\".format(self.name, self.age, self.subject))\n"
   ]
  },
  {
   "cell_type": "markdown",
   "metadata": {},
   "source": [
    "Notice, we had to be precise inside the <code>\\__init\\__()</code> method, and specify when calling the method that this method belonged to the object which we call <code>self</code>. This is a general habit -- whenever want to refer to attributes or methods of an object, we must use the dot operator. This applies whether we are referring to that data from outside the object, or from inside, in which case we use <code>self.</code>. Let's see now:\n"
   ]
  },
  {
   "cell_type": "code",
   "execution_count": 29,
   "metadata": {},
   "outputs": [
    {
     "name": "stdout",
     "output_type": "stream",
     "text": [
      "Beekeeper Sam has been created!\n"
     ]
    }
   ],
   "source": [
    "beekeeper1 = Beekeeper(\"Sam\", 24, \"mathematics\")"
   ]
  },
  {
   "cell_type": "markdown",
   "metadata": {},
   "source": [
    "This is how we create instances of the class <code>Beekeeper</code>. <u>The arguments passed when creating the instance are the arguments passed to the <code>\\__init\\__()</code> method</u>. Read the code and make sure this is clear before moving on.\n",
    "\n",
    "Now we can access and change the data just as we might expect:"
   ]
  },
  {
   "cell_type": "code",
   "execution_count": 30,
   "metadata": {},
   "outputs": [
    {
     "data": {
      "text/plain": [
       "8.0"
      ]
     },
     "execution_count": 30,
     "metadata": {},
     "output_type": "execute_result"
    }
   ],
   "source": [
    "beekeeper1.age / 3"
   ]
  },
  {
   "cell_type": "code",
   "execution_count": 32,
   "metadata": {
    "collapsed": true
   },
   "outputs": [],
   "source": [
    "beekeeper1.subject = 'pure mathematics'"
   ]
  },
  {
   "cell_type": "code",
   "execution_count": 33,
   "metadata": {},
   "outputs": [
    {
     "name": "stdout",
     "output_type": "stream",
     "text": [
      "Hi, I'm Sam, aged 24 and studying pure mathematics!\n"
     ]
    }
   ],
   "source": [
    "beekeeper1.read_details()"
   ]
  },
  {
   "cell_type": "code",
   "execution_count": 34,
   "metadata": {},
   "outputs": [
    {
     "name": "stdout",
     "output_type": "stream",
     "text": [
      "Beekeeper Rob has been created!\n"
     ]
    }
   ],
   "source": [
    "beekeeper2 = Beekeeper(\"Rob\", 30 , 'energy solutions')"
   ]
  },
  {
   "cell_type": "markdown",
   "metadata": {},
   "source": [
    "If you want your program to generate lots of instances of a class with a convenient way to access them, it can be helpful to use a dictionary."
   ]
  },
  {
   "cell_type": "code",
   "execution_count": 12,
   "metadata": {},
   "outputs": [
    {
     "name": "stdout",
     "output_type": "stream",
     "text": [
      "Beekeeper Sam C has been created!\n",
      "Beekeeper Sam B has been created!\n",
      "Beekeeper Rob has been created!\n"
     ]
    }
   ],
   "source": [
    "# this is a list, not a dictionary! just for this contrived example!\n",
    "keeper_info = [(\"Sam C\", 24, \"mathematics\"),\n",
    "               (\"Sam B\", 22, \"mathematics\"),\n",
    "               (\"Rob\", 30, 'energy solutions')]\n",
    "\n",
    "# this part is the dictionary!\n",
    "keepers = {}\n",
    "for keeper in keeper_info:\n",
    "    keepers[keeper[0]] = Beekeeper(keeper[0], keeper[1], keeper[2])"
   ]
  },
  {
   "cell_type": "code",
   "execution_count": 40,
   "metadata": {},
   "outputs": [
    {
     "data": {
      "text/plain": [
       "46"
      ]
     },
     "execution_count": 40,
     "metadata": {},
     "output_type": "execute_result"
    }
   ],
   "source": [
    "keepers['Sam B'].age + keepers['Sam C'].age"
   ]
  },
  {
   "cell_type": "markdown",
   "metadata": {},
   "source": [
    "<b>Let's put it to work</b>\n",
    "\n",
    "To learn the basic concepts of object-oriented programming, we will make a command-line to-do list app. The main objects will be lists and tasks.\n",
    "\n",
    "This program should be made in a Python module (.py file), not in Jupyter notebook or an interactive Python session (this is due to the nature of the project and not because these interfaces do not support object-oriented programming -- they do!). It is recommended that you type the sample code into your module by hand rather than copying and pasting as this will force you to pay attention.\n",
    "\n",
    "Firstly, copy and paste this code into a module, and read the comments. The structure of the program is that we have a dictionary containing objects belonging to a class called <code>TodoList</code>, which we shall define soon. Each instance of <code>TodoList</code> contains a list of tasks, each task itself being an object of the class <code>Task</code>. The methods of <code>TodoList</code> and <code>Task</code> handle operations like creating new tasks, marking tasks as complete, moving tasks to a different list, etc."
   ]
  },
  {
   "cell_type": "code",
   "execution_count": null,
   "metadata": {
    "collapsed": true
   },
   "outputs": [],
   "source": [
    "def create_new_list(*args):\n",
    "    pass\n",
    "\n",
    "\n",
    "def show_lists(*args):\n",
    "    pass\n",
    "\n",
    "\n",
    "def create_new_task(option):\n",
    "    pass\n",
    "\n",
    "\n",
    "def change_current_list(option):\n",
    "    pass\n",
    "\n",
    "\n",
    "def clear_all(*args):\n",
    "    pass\n",
    "\n",
    "\n",
    "def show(*args):\n",
    "    pass\n",
    "\n",
    "\n",
    "def show_all(option):\n",
    "    pass\n",
    "\n",
    "\n",
    "def move(option):\n",
    "    pass\n",
    "\n",
    "def mark(option):\n",
    "    pass\n",
    "\n",
    "def help_me(*args):\n",
    "    '''Displays Help for the application.\n",
    "    '''\n",
    "    print(\"\"\"\n",
    "    newlist -- create a new list \n",
    "    newtask -- create a new task in the current list \n",
    "    show -- show the tasks in the current list \n",
    "    all -- show all tasks\n",
    "    goto <listname> -- change the current list\n",
    "    mark #number -- mark task number # of the current list as completed/not completed \n",
    "    move #number -- move task number # of the current list to a different list \n",
    "    clear -- remove tasks marked completed\n",
    "    exit -- get me out of here!\n",
    "    \"\"\")\n",
    "\n",
    "# dictionary containing todo lists\n",
    "\n",
    "# lists = {'Default': TodoList('Default')}\n",
    "\n",
    "# there is a currently selected list on which operations like\n",
    "# \"show\" and \"newtask\" work.\n",
    "\n",
    "current_list = lists['Default']\n",
    "\n",
    "print(\"Welcome. Please type an option or type ? to see list of commands\")\n",
    "# main loop of the program:\n",
    "# get input, take the first word of the input as the command\n",
    "while True:\n",
    "    user_input = input(\"> \")\n",
    "    command = user_input.split()[0]\n",
    "    commands = {'newlist': create_new_list,\n",
    "                'newtask': create_new_task,\n",
    "                'show': show,\n",
    "                'goto': change_current_list,\n",
    "                'lists': show_lists,\n",
    "                'mark': mark,\n",
    "                'move': move,\n",
    "                '?': help_me,\n",
    "                'clear': clear_all,\n",
    "                'all': show_all}\n",
    "    # look for the right function in the dictionary and call it\n",
    "    if command.lower() == 'exit':\n",
    "        print(\"See you!\")\n",
    "        break\n",
    "    else:\n",
    "        try:\n",
    "            commands[command](user_input)\n",
    "        except KeyError:\n",
    "            \"Command not recognized. Type ? to see a list of commands.\""
   ]
  },
  {
   "cell_type": "markdown",
   "metadata": {},
   "source": [
    "So, this is the bare bones of the program. At the moment, it takes user input... and does precisely nothing with it. So, our project will be to fill out the functions, and define the classes as we go. The first class we define will be todo lists -- the idea is that the user can have multiple todo lasts, say, one for work, one for personal use. The todolist will have a name, a list of tasks, and some basic behaviours. At the top of your module, we will define the class <code>TodoList</code>:"
   ]
  },
  {
   "cell_type": "code",
   "execution_count": 41,
   "metadata": {
    "collapsed": true
   },
   "outputs": [],
   "source": [
    "class TodoList():\n",
    "    def __init__(self, name):\n",
    "        self.name = name\n",
    "        self.tasks = []"
   ]
  },
  {
   "cell_type": "markdown",
   "metadata": {},
   "source": [
    "Let's remind ourselves what this means. This is the class definition, and then the all important <code>\\__init\\__()</code> method, which is run by each newly created instance of the class. In this case, it assigns the input argument <code>name</code> to the attribute <code>name</code>, and then creates a new attribute called <code>tasks</code>, which is an empty list.\n",
    "\n",
    "Now let's write the code to create the <code>TodoLists</code>. Find the function called <code>create_new_list()</code>, and add some code:\n",
    "\n"
   ]
  },
  {
   "cell_type": "code",
   "execution_count": 42,
   "metadata": {
    "collapsed": true
   },
   "outputs": [],
   "source": [
    "def create_new_list(option):\n",
    "    list_name= input(\"Please enter a name for your list: \")\n",
    "    lists[list_name] = TodoList(list_name)"
   ]
  },
  {
   "cell_type": "markdown",
   "metadata": {},
   "source": [
    "Also, for this to work, we have to <b>un-comment the line</b> that says <code>lists = {'Default': TodoList('Default')}</code>. This just creates the dictionary called <code>lists</code>, and adds a so-called \"Default\" TodoList to get the ball rolling. So, this function creates a new TodoList, with a name specified by the user, and stores it in a dictionary with the name also acting as the key.\n",
    "\n",
    "Let's also uncomment the line saying <code>current_list = lists['Default']</code>. Now we have a variable for the todo list the user is currently viewing and editing. We should give the user the ability to change this list. So in the function <code>change_current_list</code>, add the following code:"
   ]
  },
  {
   "cell_type": "code",
   "execution_count": null,
   "metadata": {
    "collapsed": true
   },
   "outputs": [],
   "source": [
    "def change_current_list(option):\n",
    "    global current_list\n",
    "    # the user accesses this function with \"goto <list name>\"\n",
    "    # so we remove the \"goto \" part at the start to get just the name\n",
    "    list_name = option.lstrip('goto ')\n",
    "    try:\n",
    "        current_list = lists[list_name]\n",
    "    except KeyError:\n",
    "        print(\"Don't recognize list {}\".format(list_name))"
   ]
  },
  {
   "cell_type": "markdown",
   "metadata": {},
   "source": [
    "If you are unfamiliar with raising exceptions, this last bit of the code just tells Python what to do if a certain kind of error occurs instead of terminating the program -- in this case, what to do if the dictionary key does not exist. You can also create your own kinds of exceptions (hint: they are classes).\n",
    "\n",
    "The user should also be able to see all the lists available to choose from. So let's fill out the function:"
   ]
  },
  {
   "cell_type": "code",
   "execution_count": 43,
   "metadata": {
    "collapsed": true
   },
   "outputs": [],
   "source": [
    "def show_lists(*args):\n",
    "    for item in lists:\n",
    "        print(item)"
   ]
  },
  {
   "cell_type": "markdown",
   "metadata": {},
   "source": [
    "Now we want the user to be able to add new tasks to the currently selected list. First of all, we need to define what a task is! So let's write a new class called <code>Task</code>, underneath the class <code>TodoList</code>, which knows 4 things -- the task itself, the date the task should be done, which list the task belongs to, and whether the task has been completed yet. The first three we should define as parameters of the <code>\\__init\\__()</code> method."
   ]
  },
  {
   "cell_type": "code",
   "execution_count": 44,
   "metadata": {
    "collapsed": true
   },
   "outputs": [],
   "source": [
    "class Task():\n",
    "    '''Basic Task class. takes a description of the task, when to do it,\n",
    "    and a TodoList object it belongs to as initial arguments.\n",
    "    '''\n",
    "    def __init__(self, task, date, todolist):\n",
    "        self.task = task\n",
    "        self.date = date\n",
    "        self.todolist = todolist\n",
    "        self.completed = False"
   ]
  },
  {
   "cell_type": "markdown",
   "metadata": {},
   "source": [
    "This next step will be slightly abstract, so take a moment to try to follow what is going on. We are going to make the action of adding new tasks to a list a method of the list. See if you can spot the interesting part in the following code which we add the the TodoList class:"
   ]
  },
  {
   "cell_type": "code",
   "execution_count": null,
   "metadata": {
    "collapsed": true
   },
   "outputs": [],
   "source": [
    "class TodoList():\n",
    "    def __init__(self, name):\n",
    "        self.name = name\n",
    "        self.tasks = []\n",
    "\n",
    "    def add_task(self):\n",
    "        # any format is accepted as the date but a possible extension to the project\n",
    "        # would be to parse it into a date object and then write some code that\n",
    "        # alerts the user on the due date. see the datetime library.\n",
    "        task = input(\"What is your new task for list {}? \".format(current_list.name))\n",
    "        date = input(\"What date should you do the task? \")\n",
    "        self.tasks.append(Task(task, date, self))"
   ]
  },
  {
   "cell_type": "markdown",
   "metadata": {},
   "source": [
    "The interesting part is the last line, of course. <code>self.tasks.append()</code> is self explanatory. Then it is pretty clear that we are creating an instance of the class <code>Task</code>. The interesting part is that last argument. Recall that the <code>\\__init\\__()</code> method of <code>Task</code> takes the <code>TodoList</code> it belongs to as the last argument. So <u>the <code>TodoList</code> instance will pass itself as an argument to each new <code>Task</code> it creates, by referring to itself as <code>self</code></u>. We are not just passing the name of the list, but the whole thing, and all its data. Note that the following is equivalent:"
   ]
  },
  {
   "cell_type": "code",
   "execution_count": 45,
   "metadata": {
    "collapsed": true
   },
   "outputs": [],
   "source": [
    "class TodoList():\n",
    "    def __init__(self, name):\n",
    "        self.name = name\n",
    "        self.tasks = []\n",
    "\n",
    "    def add_task(spam):\n",
    "        # any format is accepted as the date but a possible extension to the project\n",
    "        # would be to parse it into a date object and then write some code that\n",
    "        # alerts the user on the due date. see the datetime library.\n",
    "        task = input(\"What is your new task for list {}? \".format(current_list.name))\n",
    "        date = input(\"What date should you do the task? \")\n",
    "        spam.tasks.append(Task(task, date, spam))"
   ]
  },
  {
   "cell_type": "markdown",
   "metadata": {},
   "source": [
    "This is because methods always understand their first argument to be the instance itself, regardless of what we choose to call it. But the idiomatic name is self, and self is a sensible choice, and so we choose to conform to this style standard.\n",
    "\n",
    "Now we just need to call this method whenever the user types <code>newtask</code>, so just fill out this function:"
   ]
  },
  {
   "cell_type": "code",
   "execution_count": 46,
   "metadata": {
    "collapsed": true
   },
   "outputs": [],
   "source": [
    "def create_new_task(*args):\n",
    "    current_list.add_task()"
   ]
  },
  {
   "cell_type": "markdown",
   "metadata": {},
   "source": [
    "The user will probably want to be able to view their lists, so let's add a method to the TodoList class that displays the tasks to the screen:"
   ]
  },
  {
   "cell_type": "code",
   "execution_count": 47,
   "metadata": {
    "collapsed": true
   },
   "outputs": [],
   "source": [
    "class TodoList():\n",
    "    def __init__(self, name):\n",
    "        self.name = name\n",
    "        self.tasks = []\n",
    "\n",
    "\n",
    "    def add_task(self):\n",
    "        task = input(\"What is your new task for list {}? \".format(current_list.name))\n",
    "        date = input(\"What date should you do the task? \")\n",
    "        self.tasks.append(Task(task, date, self))        \n",
    "\n",
    "        \n",
    "    def display(self):\n",
    "        for i, item in enumerate(self.tasks):\n",
    "            mark = \"Not completed\"\n",
    "            if item.completed:\n",
    "                mark = \"Complete!\"\n",
    "            print(\"{}. \\t {} \\t {} \\t {}\".format(i+1, item.task, mark, item.date))"
   ]
  },
  {
   "cell_type": "markdown",
   "metadata": {},
   "source": [
    "<code>enumerate()</code> is a fantastic built-in function that works like this:"
   ]
  },
  {
   "cell_type": "code",
   "execution_count": 49,
   "metadata": {},
   "outputs": [
    {
     "name": "stdout",
     "output_type": "stream",
     "text": [
      "0 I\n",
      "1 love\n",
      "2 HiPy\n"
     ]
    }
   ],
   "source": [
    "for i, word in enumerate(['I', 'love', 'HiPy']):\n",
    "    print(i, word)"
   ]
  },
  {
   "cell_type": "markdown",
   "metadata": {},
   "source": [
    "It is much preferred over <code>for i in range(len(a_list)):</code> in situations where you want both the list item and its index.\n",
    "\n",
    "Now we just make sure the user can access the <code>display()</code> method from our little command line. We'll give them two options to do this: show just the current list, or show all lists. Fill out the following functions like so."
   ]
  },
  {
   "cell_type": "code",
   "execution_count": 50,
   "metadata": {
    "collapsed": true
   },
   "outputs": [],
   "source": [
    "def show(*args):\n",
    "    current_list.display()\n",
    "\n",
    "\n",
    "def show_all(*args):\n",
    "    for todolist in lists.values():\n",
    "        print(todolist.name + \": \")\n",
    "        todolist.display()"
   ]
  },
  {
   "cell_type": "markdown",
   "metadata": {},
   "source": [
    "We're almost there now. Let's give the user the ability to tick off when they have completed a task. Inside the <code>Task</code> class, define the following method:"
   ]
  },
  {
   "cell_type": "code",
   "execution_count": 51,
   "metadata": {
    "collapsed": true
   },
   "outputs": [],
   "source": [
    "    def mark_completed(self):\n",
    "        self.completed = not self.completed"
   ]
  },
  {
   "cell_type": "markdown",
   "metadata": {},
   "source": [
    "And then fill in the <code>mark()</code> function to call this method. We subtract 1 from the task number because we want the user to think of the tasks as being indexed by 1, 2, 3... while of course, Python thinks of them as indexed by 0, 1, 2...\n",
    "\n",
    "This is another one where we want to take a number as an argument from the user, so we strip out the first part of the command 'mark '."
   ]
  },
  {
   "cell_type": "code",
   "execution_count": null,
   "metadata": {
    "collapsed": true
   },
   "outputs": [],
   "source": [
    "def mark(option):\n",
    "    try: \n",
    "        task_number = int(option.lstrip('mark ')) -1\n",
    "        current_list.tasks[task_number].mark_completed()\n",
    "    except KeyError:\n",
    "        print(\"Not a valid list item!\")"
   ]
  },
  {
   "cell_type": "markdown",
   "metadata": {},
   "source": [
    "Now that the tasks can be marked as completed, the user might want to be able to delete all of their completed tasks. This can be easily done with a list comprehension. Add this method to your <code>TodoList</code> class."
   ]
  },
  {
   "cell_type": "code",
   "execution_count": null,
   "metadata": {
    "collapsed": true
   },
   "outputs": [],
   "source": [
    "class TodoList():\n",
    "    def __init__(self, name):\n",
    "        self.name = name\n",
    "        self.tasks = []\n",
    "\n",
    "    def display(self):\n",
    "        for i, item in enumerate(self.tasks):\n",
    "            mark = \"Not completed\"\n",
    "            if item.completed:\n",
    "                mark = \"Complete!\"\n",
    "            print(\"{}. \\t {} \\t {} \\t {}\".format(i+1, item.task, mark, item.date))\n",
    "\n",
    "    def add_task(self):\n",
    "        task = input(\"What is your new task for list {}? \".format(current_list.name))\n",
    "        date = input(\"What date should you do the task? \")\n",
    "        self.tasks.append(Task(task, date, self))\n",
    "\n",
    "    def clear_completed(self):\n",
    "        ''' Rewrite task list, using only tasks with the completed attribute\n",
    "            set to False.\n",
    "        '''\n",
    "        self.tasks = [task for task in self.tasks if task.completed == False]"
   ]
  },
  {
   "cell_type": "markdown",
   "metadata": {},
   "source": [
    "and then of course fill out this function:"
   ]
  },
  {
   "cell_type": "code",
   "execution_count": 8,
   "metadata": {
    "collapsed": true
   },
   "outputs": [],
   "source": [
    "def clear_all(*args):\n",
    "    for todos in lists.values():\n",
    "        todos.clear_completed()"
   ]
  },
  {
   "cell_type": "markdown",
   "metadata": {},
   "source": [
    "The final option the user will have is to be able to move tasks from one list to another. This moving of objects from one structure into another is a simple but useful pattern for object-oriented programming in Python. In the <code>Task</code> class, add this last bit of code."
   ]
  },
  {
   "cell_type": "code",
   "execution_count": 9,
   "metadata": {
    "collapsed": true
   },
   "outputs": [],
   "source": [
    "class Task():\n",
    "    '''Basic Task class. takes a description of the task, when to do it,\n",
    "    and a TodoList object it belongs to as initial arguments.\n",
    "    '''\n",
    "    def __init__(self, task, date, todolist):\n",
    "        self.task = task\n",
    "        self.date = date\n",
    "        self.todolist = todolist\n",
    "        self.completed = False\n",
    "\n",
    "    def mark_completed(self):\n",
    "        self.completed = not self.completed\n",
    "\n",
    "    def move_task(self, new_list):\n",
    "        try:\n",
    "            lists[new_list].tasks.append(self)\n",
    "            self.todolist.tasks.remove(self)\n",
    "            self.todolist = new_list\n",
    "        except KeyError:\n",
    "            print(\"Not a valid list!\")\n",
    "            return"
   ]
  },
  {
   "cell_type": "markdown",
   "metadata": {},
   "source": [
    "There is a natural question here. Why is moving a task from one list to another a method of the <code>Task</code> class? Why shouldn't the <code>TodoList</code> classes handle passing the task between themselves? And the answer is: there's no reason why it shouldn't. In most cases, Python doesn't really care which class a method belongs to. We could also have made this an ordinary function. The point is that you, the programmer, get to decide how your code is organized, and what feels psychologically right to you. As I wrote this tutotrial, I felt that moving from one list to another is something that tasks do, rather than lists, so I made it a method of the task.\n",
    "\n",
    "Let's finish this by writing the function that calls this method."
   ]
  },
  {
   "cell_type": "code",
   "execution_count": null,
   "metadata": {
    "collapsed": true
   },
   "outputs": [],
   "source": [
    "def move(option):\n",
    "    '''\n",
    "    Expects argument of the form \"move #\" where #\n",
    "    is the number of the task to be moved.\n",
    "    '''\n",
    "    try: \n",
    "        task_number = int(option.lstrip('move ')) - 1\n",
    "    except IndexError:\n",
    "       print(\"Not a valid list item!\")\n",
    "       return\n",
    "    task = current_list.tasks[task_number].task\n",
    "    print(\"Move task \\\"{}\\\" to which list?\".format(task) )\n",
    "    show_lists()\n",
    "    move_to = input(\"> \")\n",
    "    #why don't we need try-except here?\n",
    "    task.move_task(move_to)"
   ]
  },
  {
   "cell_type": "markdown",
   "metadata": {},
   "source": [
    "We're basically done now. If you did everything right, you should have a module that looks something like this (you can also test it in the Notebook):"
   ]
  },
  {
   "cell_type": "code",
   "execution_count": null,
   "metadata": {},
   "outputs": [
    {
     "name": "stdout",
     "output_type": "stream",
     "text": [
      "Welcome. Please type an option or type ? to see list of commands\n",
      "> newlist\n",
      "Please enter a name for your list: Sam's list\n",
      "> newtask\n",
      "What is your new task for list Default? Get dressed\n",
      "What date should you do the task? Today\n",
      "> show\n",
      "1. \t Get dressed \t Not completed \t Today\n"
     ]
    }
   ],
   "source": [
    "class TodoList():\n",
    "    def __init__(self, name):\n",
    "        self.name = name\n",
    "        self.tasks = []\n",
    "\n",
    "    def display(self):\n",
    "        for i, item in enumerate(self.tasks):\n",
    "            mark = \"Not completed\"\n",
    "            if item.completed:\n",
    "                mark = \"Complete!\"\n",
    "            print(\"{}. \\t {} \\t {} \\t {}\".format(i+1, item.task, mark, item.date))\n",
    "\n",
    "    def add_task(self):\n",
    "        task = input(\"What is your new task for list {}? \".format(current_list.name))\n",
    "        date = input(\"What date should you do the task? \")\n",
    "        self.tasks.append(Task(task, date, self))\n",
    "\n",
    "    def clear_completed(self):\n",
    "        ''' Rewrite task list, using only tasks with the completed attribute\n",
    "            set to False.\n",
    "        '''\n",
    "        self.tasks = [task for task in self.tasks if task.completed == False]\n",
    "\n",
    "\n",
    "class Task():\n",
    "    '''Basic Task class. takes a description of the task, when to do it,\n",
    "    and a TodoList object it belongs to as initial arguments.\n",
    "    '''\n",
    "    def __init__(self, task, date, todolist):\n",
    "        self.task = task\n",
    "        self.date = date\n",
    "        self.todolist = todolist\n",
    "        self.completed = False\n",
    "\n",
    "    def mark_completed(self):\n",
    "        self.completed = not self.completed\n",
    "\n",
    "    def move_task(self, new_list):\n",
    "        try:\n",
    "            lists[new_list].tasks.append(self)\n",
    "            self.todolist.tasks.remove(self)\n",
    "            self.todolist = new_list\n",
    "        except KeyError:\n",
    "            print(\"Not a valid list!\")\n",
    "            return\n",
    "\n",
    "lists = {'Default': TodoList('Default')}\n",
    "\n",
    "def create_new_list(option):\n",
    "    list_name= input(\"Please enter a name for your list: \")\n",
    "    lists[list_name] = TodoList(list_name)\n",
    "\n",
    "\n",
    "def show_lists(*args):\n",
    "    for item in lists.values():\n",
    "        print(item.name)\n",
    "\n",
    "\n",
    "def create_new_task(option):\n",
    "    current_list.add_task()\n",
    "\n",
    "\n",
    "def change_current_list(option):\n",
    "    global current_list\n",
    "    list_name = option.lstrip('goto ')\n",
    "    try:\n",
    "        current_list = lists[list_name]\n",
    "    except KeyError:\n",
    "        print(\"Don't recognize list {}\".format(list_name))\n",
    "\n",
    "\n",
    "def clear_all(*args):\n",
    "    for todos in lists.values():\n",
    "        todos.clear_completed()\n",
    "\n",
    "\n",
    "def show(*args):\n",
    "    current_list.display()\n",
    "\n",
    "\n",
    "def show_all(*args):\n",
    "    for todolist in lists.values():\n",
    "        print(todolist.name + \": \")\n",
    "        todolist.display()\n",
    "\n",
    "\n",
    "def move(option):\n",
    "    '''\n",
    "    Expects argument of the form \"move #\" where #\n",
    "    is the number of the task to be moved.\n",
    "    '''\n",
    "    try: \n",
    "        task_number = int(option.lstrip('move ')) - 1\n",
    "    except IndexError:\n",
    "       print(\"Not a valid list item!\")\n",
    "       return\n",
    "    task = current_list.tasks[task_number].task\n",
    "    print(\"Move task \\\"{}\\\" to which list?\".format(task) )\n",
    "    show_lists()\n",
    "    move_to = input(\"> \")\n",
    "    #why don't we need try-except here?\n",
    "    task.move_task(move_to)\n",
    "\n",
    "def mark(option):\n",
    "    try: \n",
    "        task_number = int(option.lstrip('mark ')) -1\n",
    "        current_list.tasks[task_number].mark_completed()\n",
    "    except KeyError:\n",
    "        print(\"Not a valid list item!\")\n",
    "\n",
    "\n",
    "def help_me(*args):\n",
    "    print(\"\"\"\n",
    "    newlist -- create a new list \n",
    "    newtask -- create a new task in the current list \n",
    "    show -- show the tasks in the current list \n",
    "    all -- show all tasks\n",
    "    goto <listname> -- change the current list\n",
    "    mark #number -- mark task number # of the current list as completed/not completed \n",
    "    move #number -- move task number # of the current list to a different list \n",
    "    clear -- remove tasks marked completed\n",
    "    exit -- get me out of here!\n",
    "    \"\"\")\n",
    "\n",
    "\n",
    "current_list = lists['Default']\n",
    "\n",
    "print(\"Welcome. Please type an option or type ? to see list of commands\")\n",
    "# main loop of the program:\n",
    "# get input, take the first word of the input as the command\n",
    "while True:\n",
    "    user_input = input(\"> \")\n",
    "    command = user_input.split()[0]\n",
    "    commands = {'newlist': create_new_list,\n",
    "                'newtask': create_new_task,\n",
    "                'show': show,\n",
    "                'goto': change_current_list,\n",
    "                'lists': show_lists,\n",
    "                'mark': mark,\n",
    "                'move': move,\n",
    "                '?': help_me,\n",
    "                'clear': clear_all,\n",
    "                'all': show_all}\n",
    "    # look for the right function in the dictionary and call it\n",
    "    if command.lower() == 'exit':\n",
    "        saveload.save(lists)\n",
    "        print(\"See you!\")\n",
    "        break\n",
    "    else:\n",
    "        try:\n",
    "            commands[command](user_input)\n",
    "        except KeyError:\n",
    "            \"Command not recognized. Type ? to see a list of commands.\"\n"
   ]
  },
  {
   "cell_type": "markdown",
   "metadata": {},
   "source": [
    "Of course, to be actually useable as a todo-list, we need to be able to save and load the data. See the appendix for some code you can add to make this happen."
   ]
  },
  {
   "cell_type": "markdown",
   "metadata": {},
   "source": [
    "<b>Quiz / Exercises</b>\n",
    "\n",
    "1. What is the first parameter of any method?\n",
    "\n",
    "2. What is the purpose of the <code>\\__init\\__()</code> method? How do I call it and pass arguments to it?\n",
    "\n",
    "3. Rewrite the <code>move()</code> function and <code>move_task()</code> method so that it is a method of the <code>TodoList</code> class, rather than <code>Task</code>.\n",
    "\n",
    "4. To refer to the current instance, it is traditional to use <code>this</code>. True/False?\n",
    "\n",
    "5. The Boolean value <code>True</code> is an object. True/False (hint: does it have any methods or attributes?)"
   ]
  },
  {
   "cell_type": "markdown",
   "metadata": {},
   "source": [
    "In part II of this three-part series, we will look at inheritance and composition. These dual techniques allow us to create new classes from classes we have already defined."
   ]
  },
  {
   "cell_type": "markdown",
   "metadata": {},
   "source": [
    "<b>Appendix: Optional extras, technical stuff</b>\n",
    "\n",
    "<b>Class attributes and instance attributes</b>\n",
    "\n"
   ]
  },
  {
   "cell_type": "markdown",
   "metadata": {},
   "source": [
    "What happens if we omit use of <code>self</code>? Usually, we'll run into trouble, but it's worth looking at."
   ]
  },
  {
   "cell_type": "code",
   "execution_count": 2,
   "metadata": {
    "collapsed": true
   },
   "outputs": [],
   "source": [
    "class NoSelf():\n",
    "    an_attribute = \"Foo\"\n",
    "    def __init__(self):\n",
    "        self.another_attribute = \"Foo\"\n",
    "\n",
    "test1 = NoSelf()\n",
    "test2 = NoSelf()"
   ]
  },
  {
   "cell_type": "code",
   "execution_count": 3,
   "metadata": {},
   "outputs": [
    {
     "data": {
      "text/plain": [
       "'Bar'"
      ]
     },
     "execution_count": 3,
     "metadata": {},
     "output_type": "execute_result"
    }
   ],
   "source": [
    "test1.another_attribute = \"Bar\"\n",
    "test1.another_attribute"
   ]
  },
  {
   "cell_type": "code",
   "execution_count": 4,
   "metadata": {},
   "outputs": [
    {
     "data": {
      "text/plain": [
       "'Foo'"
      ]
     },
     "execution_count": 4,
     "metadata": {},
     "output_type": "execute_result"
    }
   ],
   "source": [
    "test2.another_attribute"
   ]
  },
  {
   "cell_type": "code",
   "execution_count": 6,
   "metadata": {
    "scrolled": false
   },
   "outputs": [
    {
     "data": {
      "text/plain": [
       "'Foo'"
      ]
     },
     "execution_count": 6,
     "metadata": {},
     "output_type": "execute_result"
    }
   ],
   "source": [
    "NoSelf.another_attribute = \"Bar\"\n",
    "test2.another_attribute"
   ]
  },
  {
   "cell_type": "code",
   "execution_count": 7,
   "metadata": {
    "scrolled": true
   },
   "outputs": [
    {
     "data": {
      "text/plain": [
       "'Bar'"
      ]
     },
     "execution_count": 7,
     "metadata": {},
     "output_type": "execute_result"
    }
   ],
   "source": [
    "NoSelf.an_attribute = \"Bar\"\n",
    "test2.an_attribute"
   ]
  },
  {
   "cell_type": "markdown",
   "metadata": {},
   "source": [
    "What we have been doing so far by using <code>self</code> is defining instance attributes. This means, the values they contain are local to the instance -- every instance of the class has its own unique version of the attribute. Omitting the <code>self</code> part defines a class attribute. If this is modified at the class level, it is modified for all instances of the class."
   ]
  },
  {
   "cell_type": "markdown",
   "metadata": {},
   "source": [
    "<b>Comparisons with other OOP languages</b>\n",
    "\n",
    "Many object-oriented programming languages such as Java have a concept of private and public methods and attributes. The idea is that a private method or attribute can only be accessed from within the object itself -- another method of that same object has to call it. In contrast, a public method can be called by any other part of the program . The idea is to provide some degree of safety and security -- preventing important variables from being changed willy-nilly, for instance. This is especially relevant in collaborative projects when allowing one person working on one part of the program to change important variables in another part of the program could have disasterous results.\n",
    "\n",
    "In Python we do not have this concept -- the language is designed not to throw up these kinds of artificial barriers (whether this is a good thing is down to personal taste). However, Python programmers have their own solution -- if a method or attribute is supposed to be private, an underscore is added to the beginning such as <code>_mymethod</code>. This doesn't actually do anything, it's just a warning to anyone else working with the code -- fiddle with this at your own risk!\n",
    "\n",
    "Another common safety feature is the idea of \"getters\" and \"setters\". These are methods which control access to private attributes. For instance, I may have some attributes that I do not want to be changed except in a specific, safe way. Therefore, I make the attribute private, but then create a \"setter\" method, which provides a safe interface for modifying that attribute (for instance, checking that it is being changed to a sensible value). Again, while there's nothing stopping you from defining setters, Python doesn't really have the concept of private attributes. Therefore, setter methods are not usually necessary."
   ]
  },
  {
   "cell_type": "markdown",
   "metadata": {},
   "source": [
    "<b>Adding a save/load feature</b>\n",
    "\n",
    "Feel free to use the functions defined below to create a save/load feature for your todo list. You will need to import the <code>json</code> library, add the save/load functions, and make a couple of modifications new the main loop (these are highlighted with comments)."
   ]
  },
  {
   "cell_type": "code",
   "execution_count": null,
   "metadata": {
    "collapsed": true
   },
   "outputs": [],
   "source": [
    "import json\n",
    "\n",
    "class TodoList():\n",
    "    def __init__(self, name):\n",
    "        self.name = name\n",
    "        self.tasks = []\n",
    "\n",
    "    def display(self):\n",
    "        for i, item in enumerate(self.tasks):\n",
    "            mark = \"Not completed\"\n",
    "            if item.completed:\n",
    "                mark = \"Complete!\"\n",
    "            print(\"{}. \\t {} \\t {} \\t {}\".format(i+1, item.task, mark, item.date))\n",
    "\n",
    "    def add_task(self):\n",
    "        task = input(\"What is your new task for list {}? \".format(current_list.name))\n",
    "        date = input(\"What date should you do the task? \")\n",
    "        self.tasks.append(Task(task, date, self))\n",
    "\n",
    "    def clear_completed(self):\n",
    "        ''' Rewrite task list, using only tasks with the completed attribute\n",
    "            set to False.\n",
    "        '''\n",
    "        self.tasks = [task for task in self.tasks if task.completed == False]\n",
    "\n",
    "\n",
    "class Task():\n",
    "    '''Basic Task class. takes a description of the task, when to do it,\n",
    "    and a TodoList object it belongs to as initial arguments.\n",
    "    '''\n",
    "    def __init__(self, task, date, todolist):\n",
    "        self.task = task\n",
    "        self.date = date\n",
    "        self.todolist = todolist\n",
    "        self.completed = False\n",
    "\n",
    "    def mark_completed(self):\n",
    "        self.completed = not self.completed\n",
    "\n",
    "    def move_task(self, new_list):\n",
    "        try:\n",
    "            lists[new_list].tasks.append(self)\n",
    "            self.todolist.tasks.remove(self)\n",
    "            self.todolist = new_list\n",
    "        except KeyError:\n",
    "            print(\"Not a valid list!\")\n",
    "            return\n",
    "\n",
    "\n",
    "def load(lists):\n",
    "    try:\n",
    "        with open(\"todolists.json\", \"r\") as f:\n",
    "            for line in f:\n",
    "                listdic = json.loads(line)\n",
    "                lists[listdic['name']] = TodoList(listdic['name'])\n",
    "                for task in listdic['tasks']:\n",
    "                    lists[listdic['name']].tasks.append(Task(task[0], task[1], lists[listdic['name']]))\n",
    "        return 0\n",
    "    except:\n",
    "        return 1\n",
    "\n",
    "\n",
    "def create_new_list(option):\n",
    "    list_name= input(\"Please enter a name for your list: \")\n",
    "    lists[list_name] = TodoList(list_name)\n",
    "\n",
    "\n",
    "def show_lists(*args):\n",
    "    for item in lists.values():\n",
    "        print(item.name)\n",
    "\n",
    "\n",
    "def create_new_task(option):\n",
    "    current_list.add_task()\n",
    "\n",
    "\n",
    "def change_current_list(option):\n",
    "    global current_list\n",
    "    list_name = option.lstrip('goto ')\n",
    "    try:\n",
    "        current_list = lists[list_name]\n",
    "    except KeyError:\n",
    "        print(\"Don't recognize list {}\".format(list_name))\n",
    "\n",
    "\n",
    "def clear_all(*args):\n",
    "    for todos in lists.values():\n",
    "        todos.clear_completed()\n",
    "\n",
    "\n",
    "def show(*args):\n",
    "    current_list.display()\n",
    "\n",
    "\n",
    "def show_all(*args):\n",
    "    for todolist in lists.values():\n",
    "        print(todolist.name + \": \")\n",
    "        todolist.display()\n",
    "\n",
    "\n",
    "def move(option):\n",
    "    '''\n",
    "    Expects argument of the form \"move #\" where #\n",
    "    is the number of the task to be moved.\n",
    "    '''\n",
    "    try: \n",
    "        task_number = int(option.lstrip('move ')) - 1\n",
    "    except IndexError:\n",
    "       print(\"Not a valid list item!\")\n",
    "       return\n",
    "    task = current_list.tasks[task_number].task\n",
    "    print(\"Move task \\\"{}\\\" to which list?\".format(task) )\n",
    "    show_lists()\n",
    "    move_to = input(\"> \")\n",
    "    #why don't we need try-except here?\n",
    "    task.move_task(move_to)\n",
    "\n",
    "def mark(option):\n",
    "    try: \n",
    "        task_number = int(option.lstrip('mark ')) -1\n",
    "        current_list.tasks[task_number].mark_completed()\n",
    "    except KeyError:\n",
    "        print(\"Not a valid list item!\")\n",
    "        \n",
    "def save(lists):\n",
    "    open(\"todolists.json\", \"w\").close()\n",
    "    for todolist in lists.values():\n",
    "        listdic = {'name': todolist.name,\n",
    "                    'tasks': [(item.task, item.date) for item in todolist.tasks]}\n",
    "        with open(\"todolists.json\", \"a\") as f:\n",
    "            json.dump(listdic, f)\n",
    "            f.write('\\n')\n",
    "\n",
    "\n",
    "def help_me(*args):\n",
    "    print(\"\"\"\n",
    "    newlist -- create a new list \n",
    "    newtask -- create a new task in the current list \n",
    "    show -- show the tasks in the current list \n",
    "    all -- show all tasks\n",
    "    goto <listname> -- change the current list\n",
    "    mark #number -- mark task number # of the current list as completed/not completed \n",
    "    move #number -- move task number # of the current list to a different list \n",
    "    clear -- remove tasks marked completed\n",
    "    exit -- get me out of here!\n",
    "    \"\"\")\n",
    "    \n",
    "### CHANGE THIS BIT\n",
    "lists = {}\n",
    "if load(lists):\n",
    "    lists = {'Default': TodoList('Default')}\n",
    "    current_list = lists['Default']\n",
    "else:\n",
    "    current_list = lists[next(iter(lists))]\n",
    "\n",
    "\n",
    "\n",
    "print(\"Welcome. Please type an option or type ? to see list of commands\")\n",
    "# main loop of the program:\n",
    "# get input, take the first word of the input as the command\n",
    "while True:\n",
    "    user_input = input(\"> \")\n",
    "    command = user_input.split()[0]\n",
    "    commands = {'newlist': create_new_list,\n",
    "                'newtask': create_new_task,\n",
    "                'show': show,\n",
    "                'goto': change_current_list,\n",
    "                'lists': show_lists,\n",
    "                'mark': mark,\n",
    "                'move': move,\n",
    "                '?': help_me,\n",
    "                'clear': clear_all,\n",
    "                'all': show_all}\n",
    "    # look for the right function in the dictionary and call it\n",
    "    if command.lower() == 'exit':\n",
    "        # AND CHANGE THIS BIT!!!!\n",
    "        save(lists)\n",
    "        print(\"See you!\")\n",
    "        break\n",
    "    else:\n",
    "        try:\n",
    "            commands[command](user_input)\n",
    "        except KeyError:\n",
    "            \"Command not recognized. Type ? to see a list of commands.\"\n"
   ]
  }
 ],
 "metadata": {
  "kernelspec": {
   "display_name": "Python 3",
   "language": "python",
   "name": "python3"
  },
  "language_info": {
   "codemirror_mode": {
    "name": "ipython",
    "version": 3
   },
   "file_extension": ".py",
   "mimetype": "text/x-python",
   "name": "python",
   "nbconvert_exporter": "python",
   "pygments_lexer": "ipython3",
   "version": "3.5.2"
  }
 },
 "nbformat": 4,
 "nbformat_minor": 1
}
