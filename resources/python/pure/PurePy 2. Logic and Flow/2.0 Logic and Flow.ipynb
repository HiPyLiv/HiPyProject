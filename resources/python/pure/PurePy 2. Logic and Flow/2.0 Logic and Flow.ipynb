{
 "cells": [
  {
   "cell_type": "markdown",
   "metadata": {},
   "source": [
    "![header](header.png)\n",
    "# Logic and flow control\n",
    "\n",
    "When programming, it is rare that our programs are so simple that they are merely a list of instructions. Often, we are required to perform an operation several times (with slight modification), or make a decision as to whether to perform one operation or another. These require the related notions of logic, and flow control.\n",
    "\n",
    "## Booleans\n",
    "\n",
    "So far we have met numbers, and briefly strings, as basic types of data in Python. We now introduce the so-called boolean types, named for the English mathematician George Boole. These are the basic atoms of logical reasoning: the condition of being True or False."
   ]
  },
  {
   "cell_type": "code",
   "execution_count": 1,
   "metadata": {
    "collapsed": true
   },
   "outputs": [],
   "source": [
    "this_is_true = True\n",
    "this_is_false = False"
   ]
  },
  {
   "cell_type": "markdown",
   "metadata": {},
   "source": [
    "Pay close attention. These capitalized True and False words are neither strings, nor variables. They are examples of the special keywords that form part of the Python language, which are not allowed to be used as variables.\n",
    "\n",
    "Of course, we do not want to have to manually assign things to being True or False. We wish to have the computer do it for us! This is where logical expressions come in. Think of it this way: __mathematical expressions evaluate to a number; logical expressions evaluate to a boolean.__\n",
    "\n",
    "Firstly, operations with booleans. There are 3 basic operations we can use to combine booleans to give a new boolean. The simplest, is \"not\". Applying the \"not\" operation to a boolean reverses its value:"
   ]
  },
  {
   "cell_type": "code",
   "execution_count": 2,
   "metadata": {},
   "outputs": [
    {
     "name": "stdout",
     "output_type": "stream",
     "text": [
      "False\n"
     ]
    }
   ],
   "source": [
    "print(not True)"
   ]
  },
  {
   "cell_type": "code",
   "execution_count": 3,
   "metadata": {},
   "outputs": [
    {
     "name": "stdout",
     "output_type": "stream",
     "text": [
      "True\n"
     ]
    }
   ],
   "source": [
    "print(not not True)"
   ]
  },
  {
   "cell_type": "code",
   "execution_count": 4,
   "metadata": {},
   "outputs": [
    {
     "name": "stdout",
     "output_type": "stream",
     "text": [
      "True\n"
     ]
    }
   ],
   "source": [
    "print(not False)"
   ]
  },
  {
   "cell_type": "code",
   "execution_count": 5,
   "metadata": {},
   "outputs": [
    {
     "name": "stdout",
     "output_type": "stream",
     "text": [
      "True\n"
     ]
    }
   ],
   "source": [
    "print(not(False)) # you can use brackets in boolean expressions\n",
    "                  #like in mathematical expressions,\n",
    "                  # to make them easier to read or express order of application"
   ]
  },
  {
   "cell_type": "markdown",
   "metadata": {},
   "source": [
    "The next operation is called \"or\". \"Or\" takes two booleans, and is considered True if either of its input booleans are True. You can think of it as \"one, the other, or both\"."
   ]
  },
  {
   "cell_type": "code",
   "execution_count": 6,
   "metadata": {},
   "outputs": [
    {
     "name": "stdout",
     "output_type": "stream",
     "text": [
      "True\n"
     ]
    }
   ],
   "source": [
    "print(True or False)"
   ]
  },
  {
   "cell_type": "code",
   "execution_count": 7,
   "metadata": {},
   "outputs": [
    {
     "name": "stdout",
     "output_type": "stream",
     "text": [
      "True\n"
     ]
    }
   ],
   "source": [
    "print(True or True)"
   ]
  },
  {
   "cell_type": "code",
   "execution_count": 8,
   "metadata": {},
   "outputs": [
    {
     "name": "stdout",
     "output_type": "stream",
     "text": [
      "False\n"
     ]
    }
   ],
   "source": [
    "print(False or False)"
   ]
  },
  {
   "cell_type": "markdown",
   "metadata": {},
   "source": [
    "The final operation is \"and\". \"And\" is considered True only if both inputs are True:"
   ]
  },
  {
   "cell_type": "code",
   "execution_count": 9,
   "metadata": {},
   "outputs": [
    {
     "name": "stdout",
     "output_type": "stream",
     "text": [
      "True\n"
     ]
    }
   ],
   "source": [
    "print(True and True)"
   ]
  },
  {
   "cell_type": "code",
   "execution_count": 10,
   "metadata": {},
   "outputs": [
    {
     "name": "stdout",
     "output_type": "stream",
     "text": [
      "False\n"
     ]
    }
   ],
   "source": [
    "print(True and False)"
   ]
  },
  {
   "cell_type": "code",
   "execution_count": 11,
   "metadata": {},
   "outputs": [
    {
     "name": "stdout",
     "output_type": "stream",
     "text": [
      "False\n"
     ]
    }
   ],
   "source": [
    "print(False and False)"
   ]
  },
  {
   "cell_type": "markdown",
   "metadata": {},
   "source": [
    "Note that and, or, not are all keywords.\n",
    "\n",
    "Now, this may seem all very abstract. The real use of these logical operations is to combine logical expressions. Most of these other logical expressions will be comparisons between objects. Suppose I am writing a quiz application. When the player gives an answer, I must make a comparison between the answer they give, and the correct answer, to decide whether or not they score a point. Two simple kinds of comparison are the greater than/less than comparisons between numbers: "
   ]
  },
  {
   "cell_type": "code",
   "execution_count": 12,
   "metadata": {},
   "outputs": [
    {
     "name": "stdout",
     "output_type": "stream",
     "text": [
      "True\n"
     ]
    }
   ],
   "source": [
    "x = 5\n",
    "print(x < 6)"
   ]
  },
  {
   "cell_type": "code",
   "execution_count": 13,
   "metadata": {},
   "outputs": [
    {
     "name": "stdout",
     "output_type": "stream",
     "text": [
      "False\n"
     ]
    }
   ],
   "source": [
    "print(x < 3)"
   ]
  },
  {
   "cell_type": "code",
   "execution_count": 14,
   "metadata": {},
   "outputs": [
    {
     "name": "stdout",
     "output_type": "stream",
     "text": [
      "True\n"
     ]
    }
   ],
   "source": [
    "print(x > 2 and x < 7)"
   ]
  },
  {
   "cell_type": "code",
   "execution_count": 15,
   "metadata": {},
   "outputs": [
    {
     "name": "stdout",
     "output_type": "stream",
     "text": [
      "True\n"
     ]
    }
   ],
   "source": [
    "print(x < 1 or x < 9)"
   ]
  },
  {
   "cell_type": "code",
   "execution_count": 16,
   "metadata": {},
   "outputs": [
    {
     "name": "stdout",
     "output_type": "stream",
     "text": [
      "False\n"
     ]
    }
   ],
   "source": [
    "print(x >= 6) # greater than or equal!"
   ]
  },
  {
   "cell_type": "markdown",
   "metadata": {},
   "source": [
    "To make a direct comparison for equality, we use a double equals <code>==</code>, to distinguish it from the variable assignment symbol <code>=</code>:"
   ]
  },
  {
   "cell_type": "code",
   "execution_count": 17,
   "metadata": {},
   "outputs": [
    {
     "name": "stdout",
     "output_type": "stream",
     "text": [
      "True\n"
     ]
    }
   ],
   "source": [
    "print(x == 5)"
   ]
  },
  {
   "cell_type": "markdown",
   "metadata": {},
   "source": [
    "To check whether two things are not equal, use <code>!=</code>"
   ]
  },
  {
   "cell_type": "code",
   "execution_count": 18,
   "metadata": {},
   "outputs": [
    {
     "name": "stdout",
     "output_type": "stream",
     "text": [
      "False\n"
     ]
    }
   ],
   "source": [
    "print(x != 5)"
   ]
  },
  {
   "cell_type": "markdown",
   "metadata": {},
   "source": [
    "You can use the modulo (\"remainder\") operator to check whether a number is, say, even:"
   ]
  },
  {
   "cell_type": "code",
   "execution_count": 19,
   "metadata": {},
   "outputs": [
    {
     "name": "stdout",
     "output_type": "stream",
     "text": [
      "False\n"
     ]
    }
   ],
   "source": [
    "print(x % 2 == 0) # no remainder when divided by 2 means it is even"
   ]
  },
  {
   "cell_type": "markdown",
   "metadata": {},
   "source": [
    "You may be surprised to find it is possible to compare lots of things, not just numbers. For example:"
   ]
  },
  {
   "cell_type": "code",
   "execution_count": 20,
   "metadata": {},
   "outputs": [
    {
     "name": "stdout",
     "output_type": "stream",
     "text": [
      "True\n"
     ]
    }
   ],
   "source": [
    "print(\"cat\" < \"dog\") # because cat comes first in the dictionary!"
   ]
  },
  {
   "cell_type": "code",
   "execution_count": 21,
   "metadata": {},
   "outputs": [
    {
     "name": "stdout",
     "output_type": "stream",
     "text": [
      "True\n"
     ]
    }
   ],
   "source": [
    "print(\"cat\" != \"Cat\") # capitals matter!"
   ]
  },
  {
   "cell_type": "markdown",
   "metadata": {},
   "source": [
    "Now that we are thoroughly bored of booleans, let's put them to work by using them to control our program.\n",
    "\n",
    "## if-statements\n",
    "\n",
    "Now we start programming proper. Using if-statements, we can tell our program to do something only if a particular expression is True. For example:"
   ]
  },
  {
   "cell_type": "code",
   "execution_count": 1,
   "metadata": {},
   "outputs": [
    {
     "name": "stdout",
     "output_type": "stream",
     "text": [
      "What is the capital of France? Paris\n",
      "Correct!\n"
     ]
    }
   ],
   "source": [
    "# The next line of code pauses the program and waits for the user to type a message\n",
    "answer = input(\"What is the capital of France? \")\n",
    "if answer == \"Paris\" or answer == \"paris\":\n",
    "    print(\"Correct!\")"
   ]
  },
  {
   "cell_type": "markdown",
   "metadata": {},
   "source": [
    "The key part for us, of course, is the second and third line. Firstly, the second line. It's what is called an if-statement, and it announces its arrival with the keyword \"if\". Following \"if\" is a logical expression, of the kind we have looked at above. Finally, there is a colon.\n",
    "\n",
    "A colon at the end of a line in Python announces that we are starting a new <i>block</i> of code, and the line is called the <i>header</i> of the block. In the case of the if-statement, the block is all the code that should be executed, should the if statement evaluate to True. Following every header, that is, __whenenver a line ends with a colon, the next line should be indented by 4 spaces__. The use of indentation is quite perculiar to Python; other languages tend to use curly braces to denote code blocks.\n",
    "\n",
    "Every line following the if-statement that is indented will be executed only if the boolean expression comes out True. To end the code block, and resume the normal flow of the program, begin a line without indentation. Example:"
   ]
  },
  {
   "cell_type": "code",
   "execution_count": 23,
   "metadata": {},
   "outputs": [
    {
     "name": "stdout",
     "output_type": "stream",
     "text": [
      "Can confirm that 5 is greater than 3,\n",
      "Please carry on with your day\n",
      "\n",
      "The if-statement has ended now\n",
      "\n",
      "The second if-statement has ended now\n"
     ]
    }
   ],
   "source": [
    "if 5 > 3:\n",
    "    print(\"Can confirm that 5 is greater than 3,\")\n",
    "    print(\"Please carry on with your day\")\n",
    "    \n",
    "print(\"\")\n",
    "print(\"The if-statement has ended now\")\n",
    "print(\"\")\n",
    "\n",
    "if 2 > 3:\n",
    "    print(\"If you are seeing this output, be very alarmed\")\n",
    "    \n",
    "print(\"The second if-statement has ended now\")"
   ]
  },
  {
   "cell_type": "markdown",
   "metadata": {},
   "source": [
    "From now on, we will be encountering indentation a lot. The structure of a Python program is expressed using indentation, and the Python interpreter can be very picky about correct indentation. So always indent after a header! You might want to consider setting the Tab key to insert 4 spaces in your coding environment.\n",
    "\n",
    "Now, it seems reasonable that if we wish to execute some code if something is True, there should be an option to do something only if it fails to be True. For this, we turn to <code>else</code>."
   ]
  },
  {
   "cell_type": "code",
   "execution_count": 24,
   "metadata": {},
   "outputs": [
    {
     "name": "stdout",
     "output_type": "stream",
     "text": [
      "What is the capital of France? Moscow\n",
      "Incorrect\n"
     ]
    }
   ],
   "source": [
    "answer = input(\"What is the capital of France? \")\n",
    "if answer == \"Paris\" or answer == \"paris\":\n",
    "    print(\"Correct!\")\n",
    "else:\n",
    "    print(\"Incorrect\")"
   ]
  },
  {
   "cell_type": "markdown",
   "metadata": {},
   "source": [
    "Hence, an if-else statement is like a fork in the road for the program. Now, if we want to set lots of little forks in the road, it might be tempting to do this:"
   ]
  },
  {
   "cell_type": "code",
   "execution_count": 25,
   "metadata": {},
   "outputs": [
    {
     "name": "stdout",
     "output_type": "stream",
     "text": [
      "What is the capital of France? F\n",
      "Very Funny\n"
     ]
    }
   ],
   "source": [
    "answer = input(\"What is the capital of France? \")\n",
    "if answer == \"Paris\" or answer == \"paris\":\n",
    "    print(\"Correct!\")\n",
    "else:\n",
    "    if answer == \"F\":\n",
    "        print(\"Very Funny\")\n",
    "    else:\n",
    "        print(\"Incorrect!\")"
   ]
  },
  {
   "cell_type": "markdown",
   "metadata": {},
   "source": [
    "Read the above example to ensure that you understand it, and then forget about it. Python has a neater solution, rolling the <code>else: if</code>... part into a single line:"
   ]
  },
  {
   "cell_type": "code",
   "execution_count": 26,
   "metadata": {},
   "outputs": [
    {
     "name": "stdout",
     "output_type": "stream",
     "text": [
      "What is the capital of France? F\n",
      "Very Funny\n"
     ]
    }
   ],
   "source": [
    "answer = input(\"What is the capital of France? \")\n",
    "if answer == \"Paris\" or answer == \"paris\":\n",
    "    print(\"Correct!\")\n",
    "elif answer == \"F\":    # elif is short for \"else, if\"\n",
    "    print(\"Very Funny\")\n",
    "else:\n",
    "    print(\"Incorrect!\")"
   ]
  },
  {
   "cell_type": "markdown",
   "metadata": {},
   "source": [
    "In this way, you can set a whole chain of conditions to check for before doing the else block. That's pretty much all there is to if-statements. It is worth bearing in mind, however, that if your program is becoming a tangled mess of if, elif, else, with varying layers of depth of indentation, it's probably time to rethink your design. For example, we will soon meet a structure called a dictionary, which would allow us to store the possible answers to the quiz question alongside their responses from the program in a table."
   ]
  },
  {
   "cell_type": "markdown",
   "metadata": {},
   "source": [
    "## Flow control: for-loops\n",
    "\n",
    "There are two kinds of loop in Python. A loop is a section of code that is repeated several times, usually with some variation.\n",
    "\n",
    "A for-loop is a loop that completes a task a certain number of times. In most programming languages, you simply specify \"do this 10 times\". In Python, you must \"iterate over\" something. Precisely what that means will be discussed in the more advanced articles. However, the intuition is straightforward enough: we __specify some kind of sequence, and perform a task for each term in the sequence__.\n",
    "\n",
    "Here is an example:"
   ]
  },
  {
   "cell_type": "code",
   "execution_count": 27,
   "metadata": {},
   "outputs": [
    {
     "name": "stdout",
     "output_type": "stream",
     "text": [
      "H\n",
      "e\n",
      "l\n",
      "l\n",
      "o\n",
      " \n",
      "w\n",
      "o\n",
      "r\n",
      "l\n",
      "d\n",
      "!\n"
     ]
    }
   ],
   "source": [
    "for letter in \"Hello world!\":\n",
    "    print(letter)"
   ]
  },
  {
   "cell_type": "markdown",
   "metadata": {},
   "source": [
    "Let's unpack it. Again, we have that pattern of keyword -- this time \"for\" -- followed by a statement and ending in a colon, all followed by an indented block. The indented block is the section of code that is to be repeated.\n",
    "\n",
    "Now, <code>\"Hello world!\"</code> is acting as the sequence -- it is a sequence of characters. What about a list of words?"
   ]
  },
  {
   "cell_type": "code",
   "execution_count": 28,
   "metadata": {},
   "outputs": [
    {
     "name": "stdout",
     "output_type": "stream",
     "text": [
      "Hello\n",
      "World\n"
     ]
    }
   ],
   "source": [
    "for word in [\"Hello\", \"World\"]:\n",
    "    print(word)"
   ]
  },
  {
   "cell_type": "markdown",
   "metadata": {},
   "source": [
    "The sequence here is a list, denoted by square braces (we'll see much more of lists in tutorials to come!). In the last two examples, \"letter\" and \"word\" are temporary variables we assign to each member of the list as we iterate through it. They can be anything -- letter and word were just chosen here to be clear and readable.\n",
    "\n",
    "The design philosophy here is that, when programming, if we want to do a task over and over again, we probably want to take a collection of data, such as a list, and perform an operation on each piece of data. That is what this is all about.\n",
    "\n",
    "Now, what if we really do want to do something 10 times, rather than work our way through a word or list? Then we have a function called <code>range()</code> which generates a sequences of numbers for us. Want to do something 10 times?"
   ]
  },
  {
   "cell_type": "code",
   "execution_count": 29,
   "metadata": {},
   "outputs": [
    {
     "name": "stdout",
     "output_type": "stream",
     "text": [
      "Spam\n",
      "Spam\n",
      "Spam\n",
      "Spam\n",
      "Spam\n",
      "Spam\n",
      "Spam\n",
      "Spam\n",
      "Spam\n",
      "Spam\n"
     ]
    }
   ],
   "source": [
    "for x in range(10):\n",
    "    print(\"Spam\")"
   ]
  },
  {
   "cell_type": "markdown",
   "metadata": {},
   "source": [
    "Note, we still had to specify a dummy variable <code>x</code>, but we didn't have to mention it in the code block. We just performed the task for each element of the sequence provided by the <code>range()</code> function which is"
   ]
  },
  {
   "cell_type": "code",
   "execution_count": 30,
   "metadata": {},
   "outputs": [
    {
     "name": "stdout",
     "output_type": "stream",
     "text": [
      "0\n",
      "1\n",
      "2\n",
      "3\n",
      "4\n",
      "5\n",
      "6\n",
      "7\n",
      "8\n",
      "9\n"
     ]
    }
   ],
   "source": [
    "for x in range(10):\n",
    "    print(x)"
   ]
  },
  {
   "cell_type": "markdown",
   "metadata": {},
   "source": [
    "## While-loops\n",
    "\n",
    "The other kind of loop we have at our disposal is called a while-loop. Instead of doing something a fixed number of times, the while-loop executes its contents until some condition is met. This makes them work a lot like if statements, since we are checking whether a certain logical expression evaluates to True, or False.\n",
    "\n",
    "While-loops come with a word of warning. Prudence is required when programming the loop. If the condition is never met, then the program may continue to execute forever, until it is halted by outside forces, such as an interrupt message from the keyboard (usually ctrl+c), or the computer freezes because the computations it is performing have got out of hand.\n",
    "\n",
    "As a familiar real-world example, a computer game is nothing but a while-loop. The loop consists of\n",
    "* getting input from the player via the keyboard or joypad,\n",
    "* updating the game state, \n",
    "* drawing the results on the screen.\n",
    "\n",
    "This loop is repeated possibly hundreds of times per second in the case of real-time games, or at the leisure of the player in turn-based games. The loop halts when the player wins, loses, or quits the game.\n",
    "\n",
    "The first example we will see for a while-loop is one that emulates a for-loop. In this case, a certain counter is started, and that counter is incremented each time the looping block is executed. When the counter reaches a certain point, the loop stops.\n"
   ]
  },
  {
   "cell_type": "code",
   "execution_count": 31,
   "metadata": {},
   "outputs": [
    {
     "name": "stdout",
     "output_type": "stream",
     "text": [
      "Spam\n",
      "Spam\n",
      "Spam\n",
      "Spam\n",
      "Spam\n",
      "Spam\n",
      "Spam\n",
      "Spam\n",
      "Spam\n",
      "Spam\n"
     ]
    }
   ],
   "source": [
    "counter = 0\n",
    "while counter < 10:\n",
    "    print(\"Spam\")\n",
    "    counter = counter + 1 # increment the counter"
   ]
  },
  {
   "cell_type": "markdown",
   "metadata": {},
   "source": [
    "Of course, there is not much point in doing this. However, counters remain useful if they only increment under specific conditions, which requires use of an if-statement to decide when to increment the counter."
   ]
  },
  {
   "cell_type": "code",
   "execution_count": null,
   "metadata": {
    "collapsed": true
   },
   "outputs": [],
   "source": [
    "# Find the 8th word containing an i\n",
    "\n",
    "words = [\"automatic\",\n",
    "\"nappy\",\n",
    "\"stem\",\n",
    "\"ink\",\n",
    "\"literate\",\n",
    "\"pink\",\n",
    "\"occur\",\n",
    "\"hat\",\n",
    "\"birthday\",\n",
    "\"sip\",\n",
    "\"hot\",\n",
    "\"plants\",\n",
    "\"acid\",\n",
    "\"damage\",\n",
    "\"delight\",\n",
    "\"legs\",\n",
    "\"terrible\",\n",
    "\"cute\",\n",
    "\"glove\",\n",
    "\"successful\",\n",
    "\"permit\",\n",
    "\"jolly\",\n",
    "\"shoes\",\n",
    "\"placid\",\n",
    "\"tendency\",\n",
    "\"bleach\",\n",
    "\"goofy\",\n",
    "\"telephone\",\n",
    "\"match\",\n",
    "\"sniff\",\n",
    "\"abortive\",\n",
    "\"hissing\",\n",
    "\"greasy\",\n",
    "\"daily\",\n",
    "\"cave\",\n",
    "\"basketball\",\n",
    "\"growth\",\n",
    "\"squeeze\",\n",
    "\"labored\",\n",
    "\"panoramic\"\n",
    "]\n",
    "total = 0\n",
    "while total < 8:\n",
    "    \n",
    "                total = total + 1\n",
    "                "
   ]
  },
  {
   "cell_type": "markdown",
   "metadata": {},
   "source": [
    "## The fizzbuzz challenge\n",
    "\n",
    "This is a classic programming exercise, appearing in many courses and even job interviews. The task is simple, but if you can solve it, you know you've got the hang of logic and flow control. Your task is to write a short program that prints out the numbers 1 to 100, but if the number is divisible by 3, to print \"Fizz\" instead; and if it is divisible by 5, print \"Buzz\"; and if it is divisible by both 3 and 5, print \"Fizzbuzz\". Everything you need to solve this challenge is contained in the above text, but you will need to design an algorithm that successfully combines these elements to produce the correct solution.\n",
    "\n",
    "Have a good go, but if you get stuck, see the video below for a solution:"
   ]
  },
  {
   "cell_type": "code",
   "execution_count": 32,
   "metadata": {},
   "outputs": [
    {
     "data": {
      "image/jpeg": "[encoded data removed]",
      "text/html": [
       "\n",
       "        <iframe\n",
       "            width=\"400\"\n",
       "            height=\"300\"\n",
       "            src=\"https://www.youtube.com/embed/CzPpVurUSIM\"\n",
       "            frameborder=\"0\"\n",
       "            allowfullscreen\n",
       "        ></iframe>\n",
       "        "
      ],
      "text/plain": [
       "<IPython.lib.display.YouTubeVideo at 0x7f90d1f97898>"
      ]
     },
     "execution_count": 32,
     "metadata": {},
     "output_type": "execute_result"
    }
   ],
   "source": [
    "from IPython.display import YouTubeVideo\n",
    "YouTubeVideo(\"CzPpVurUSIM\")"
   ]
  },
  {
   "cell_type": "code",
   "execution_count": null,
   "metadata": {
    "collapsed": true
   },
   "outputs": [],
   "source": []
  }
 ],
 "metadata": {
  "kernelspec": {
   "display_name": "Python 3",
   "language": "python",
   "name": "python3"
  },
  "language_info": {
   "codemirror_mode": {
    "name": "ipython",
    "version": 3
   },
   "file_extension": ".py",
   "mimetype": "text/x-python",
   "name": "python",
   "nbconvert_exporter": "python",
   "pygments_lexer": "ipython3",
   "version": "3.6.1"
  }
 },
 "nbformat": 4,
 "nbformat_minor": 1
}
