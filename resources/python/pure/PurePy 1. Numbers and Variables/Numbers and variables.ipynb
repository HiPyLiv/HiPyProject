{
 "cells": [
  {
   "cell_type": "markdown",
   "metadata": {},
   "source": [
    "![header](header.png)\n",
    "\n",
    "One of the most basic tasks in programming is giving things names so that we can refer to them later in the code. This is the idea behind <i>assigning a variable</i>. The syntax for this simple task is correspondingly simple: the name of the variable we wish to store, followed by an equals sign, followed by the data we wish to store. Let's suppose we want to store the number $\\pi$:"
   ]
  },
  {
   "cell_type": "code",
   "execution_count": 1,
   "metadata": {
    "collapsed": true
   },
   "outputs": [],
   "source": [
    "pi = 3.14159"
   ]
  },
  {
   "cell_type": "markdown",
   "metadata": {},
   "source": [
    "Henceforth, any reference to <code>pi</code> in the code will refer back the number stored on this line. For example, I can do a simple arithmetic operation on this number:"
   ]
  },
  {
   "cell_type": "code",
   "execution_count": 2,
   "metadata": {},
   "outputs": [
    {
     "name": "stdout",
     "output_type": "stream",
     "text": [
      "1.570795\n"
     ]
    }
   ],
   "source": [
    "print(pi / 2)"
   ]
  },
  {
   "cell_type": "markdown",
   "metadata": {},
   "source": [
    "The <code>print()</code> simply tells Python to write the answer on the screen. If I wish to retain this number for later use, I should assign it to a new variable:"
   ]
  },
  {
   "cell_type": "code",
   "execution_count": 3,
   "metadata": {},
   "outputs": [
    {
     "name": "stdout",
     "output_type": "stream",
     "text": [
      "1.570795\n"
     ]
    }
   ],
   "source": [
    "halfpi = pi / 2\n",
    "print(halfpi)"
   ]
  },
  {
   "cell_type": "markdown",
   "metadata": {},
   "source": [
    "A variable name cannot begin with a number. It also is not allowed to include certain characters, for instance those that could be mistaken for arithmetic operations like <code>+</code>. It also cannot be a \"keyword\" -- Python reserves a small handful of special words that describe the structure of the language. For instance, <code>if</code>, <code>and</code>, and <code>while</code> are keywords. There are also conventions that Python programmers generally agree to follow when naming their variables, to make the code easy to read. In general, choose words that make it easy to figure out what the variable refers to.\n",
    "\n",
    "In Python, all variables are open to being re-assigned at any time. For instance, if I write"
   ]
  },
  {
   "cell_type": "code",
   "execution_count": 4,
   "metadata": {
    "collapsed": true
   },
   "outputs": [],
   "source": [
    "pi = 3.14"
   ]
  },
  {
   "cell_type": "markdown",
   "metadata": {},
   "source": [
    "then this new, less precise value for $\\pi$ is what is being referred to when I write <code>pi</code> in my code from now on.\n",
    "\n",
    "Now for our first big programming idea: self-referential re-assignment. When we write an assignment, Python looks at the right-hand side, the bit after the equals sign, first. It then fully evaluates the right-hand side (ie. it performs any relevant computations, such as the division in <code>halfpi = pi / 2</code>). Only when it has figured out the whole right-hand side does it assign it to the left-hand side.\n",
    "\n",
    "This is essentially the golden rule of variable assignment: the right-hand side is fully evaluated before the variable is assigned.\n",
    "\n",
    "For example:"
   ]
  },
  {
   "cell_type": "code",
   "execution_count": 9,
   "metadata": {},
   "outputs": [
    {
     "name": "stdout",
     "output_type": "stream",
     "text": [
      "15\n"
     ]
    }
   ],
   "source": [
    "a = 10\n",
    "a = a + 5\n",
    "print(a)"
   ]
  },
  {
   "cell_type": "markdown",
   "metadata": {},
   "source": [
    "In other words, the <code>=</code> does not have the same meaning in Python as it does in mathematics! Make sure you understand this snippet, as it forms the basis of a lot of algorithms.\n",
    "\n",
    "A variable can refer to another variable. For instance,"
   ]
  },
  {
   "cell_type": "code",
   "execution_count": 10,
   "metadata": {},
   "outputs": [
    {
     "name": "stdout",
     "output_type": "stream",
     "text": [
      "15\n"
     ]
    }
   ],
   "source": [
    "b = a\n",
    "print(b)"
   ]
  },
  {
   "cell_type": "markdown",
   "metadata": {},
   "source": [
    "The question is, if <code>a</code> is re-assigned, is <code>b</code> correspondingly reassigned? The answer is no. The line <code>b = a</code> means \"<code>b</code> means whatever <code>a</code> means at time of writing\". If <code>a</code> later means something else, <code>b</code> will not know about it. This is just a special case of the rule described above: the right-hand side is fully evaluated first -- in other words, <code>a</code> is replaced with whatever <code>a</code> refers to, and then this value is assigned to <code>b</code>.\n",
    "\n",
    "Another common thing to assign to variables are words and phrases. Text that is just normal text, rather than programming code, is called a string, and is signified by putting the text into single or double quotes:"
   ]
  },
  {
   "cell_type": "code",
   "execution_count": 11,
   "metadata": {},
   "outputs": [
    {
     "name": "stdout",
     "output_type": "stream",
     "text": [
      "Hello\n"
     ]
    }
   ],
   "source": [
    "sometext = \"Hello\"\n",
    "print(sometext)"
   ]
  },
  {
   "cell_type": "markdown",
   "metadata": {},
   "source": [
    "We will look at how to work with text in more detail in another article. For now, we will just note that if we place a comma inside the brackets of the print function, several things can be printed in sequence. This give us an easy, though not very flexible way, of describing the results of our computations. For example:"
   ]
  },
  {
   "cell_type": "code",
   "execution_count": 13,
   "metadata": {},
   "outputs": [
    {
     "name": "stdout",
     "output_type": "stream",
     "text": [
      "Half of pi is 1.570795\n"
     ]
    }
   ],
   "source": [
    "print(\"Half of pi is\", halfpi)"
   ]
  },
  {
   "cell_type": "markdown",
   "metadata": {},
   "source": [
    "Notice: even though we used the word pi in the previous line, it was not evaluated to 3.14, because it is part of a string -- Python knows it is just text, rather than code.\n",
    "\n",
    "If we attempt to refer to a variable that has not yet been assigned, then we will get a error, and the program will halt.\n"
   ]
  },
  {
   "cell_type": "code",
   "execution_count": 43,
   "metadata": {},
   "outputs": [
    {
     "ename": "NameError",
     "evalue": "name 'cat' is not defined",
     "output_type": "error",
     "traceback": [
      "\u001b[1;31m---------------------------------------------------------------------------\u001b[0m",
      "\u001b[1;31mNameError\u001b[0m                                 Traceback (most recent call last)",
      "\u001b[1;32m<ipython-input-43-7c3364e51d98>\u001b[0m in \u001b[0;36m<module>\u001b[1;34m()\u001b[0m\n\u001b[1;32m----> 1\u001b[1;33m \u001b[0mprint\u001b[0m\u001b[1;33m(\u001b[0m\u001b[0mcat\u001b[0m\u001b[1;33m)\u001b[0m\u001b[1;33m\u001b[0m\u001b[0m\n\u001b[0m",
      "\u001b[1;31mNameError\u001b[0m: name 'cat' is not defined"
     ]
    }
   ],
   "source": [
    "print(cat)"
   ]
  },
  {
   "cell_type": "markdown",
   "metadata": {},
   "source": [
    "When you get an error like this, read it to see what the problem might be. A <code>NameError</code> such as this has three common causes. The first is that you forgot to assign something to that name. The second is that you made a typo when referencing that name! The third, and most subtle, is that you have defined the name somewhere in the source code, but that offending line was executed before the assignment was made in the program. A basic example would be:"
   ]
  },
  {
   "cell_type": "code",
   "execution_count": 44,
   "metadata": {},
   "outputs": [
    {
     "ename": "NameError",
     "evalue": "name 'cat' is not defined",
     "output_type": "error",
     "traceback": [
      "\u001b[1;31m---------------------------------------------------------------------------\u001b[0m",
      "\u001b[1;31mNameError\u001b[0m                                 Traceback (most recent call last)",
      "\u001b[1;32m<ipython-input-44-8fff8f311834>\u001b[0m in \u001b[0;36m<module>\u001b[1;34m()\u001b[0m\n\u001b[1;32m----> 1\u001b[1;33m \u001b[0mprint\u001b[0m\u001b[1;33m(\u001b[0m\u001b[0mcat\u001b[0m\u001b[1;33m)\u001b[0m\u001b[1;33m\u001b[0m\u001b[0m\n\u001b[0m\u001b[0;32m      2\u001b[0m \u001b[0mcat\u001b[0m \u001b[1;33m=\u001b[0m \u001b[1;34m\"Mr Tiggles\"\u001b[0m\u001b[1;33m\u001b[0m\u001b[0m\n",
      "\u001b[1;31mNameError\u001b[0m: name 'cat' is not defined"
     ]
    }
   ],
   "source": [
    "print(cat)\n",
    "cat = \"Mr Tiggles\""
   ]
  },
  {
   "cell_type": "markdown",
   "metadata": {},
   "source": [
    "While this error may seem easy to avoid at the moment, as your programs become more complicated you will not necessarily be executing code in the exact order that it is written in the file, which makes errors of this kind much more likely.\n",
    "\n",
    "### Programming by consent\n",
    "\n",
    "The name \"variable\" suggests that the value can vary; that it is subject to change. What if we do not want a value to ever be changed? Some programming languages do support this feature -- they distinguish by constants and variables, and if something is declared a constant, then no part of the program may modify it.\n",
    "\n",
    "Python does not distinguish constants and variables; there are only variables, and therefore, is therefore possible to modify at any time. Instead, Python programmers working together on the same project agree to a convention: if a variable is declared in ALLCAPS then it should be understood that it is not to be changed by the program as it is being run. It is, for all intents and purposes, a constant. For example, the value of $\\pi$ does not change. Therefore I might want to define it as"
   ]
  },
  {
   "cell_type": "code",
   "execution_count": 42,
   "metadata": {
    "collapsed": true
   },
   "outputs": [],
   "source": [
    "PI = 3.14159"
   ]
  },
  {
   "cell_type": "markdown",
   "metadata": {},
   "source": [
    "as a reminder to myself and other programmers working on the same code as me that this should not be modified."
   ]
  },
  {
   "cell_type": "markdown",
   "metadata": {},
   "source": [
    "## Different kinds of numbers\n",
    "\n",
    "We know from mathematics that there are different kinds of numbers. Whole numbers, irrational numbers, negative numbers, and so on. In programming, it is important to distinguish the different kinds of numbers available, as they are handled very differently by the computer. Firstly, we consider ints.\n",
    "\n",
    "### Ints\n",
    "\n",
    "Integers, shortened to ints, are positive or negative whole numbers. There's no getting away from these in programming. Sometimes, you just gotta count stuff. The easiest way to use an integer is to just include the numbers directly in the code. For example"
   ]
  },
  {
   "cell_type": "code",
   "execution_count": 14,
   "metadata": {
    "collapsed": true
   },
   "outputs": [],
   "source": [
    "a = 10"
   ]
  },
  {
   "cell_type": "markdown",
   "metadata": {},
   "source": [
    "assigns <code>a</code> to the integer 10. Python knows that this is an integer because <i>there is no decimal point</i>. We can also use the <code>int()</code> function to attempt to turn a non-integer value into an integer. A most common example would to turn a number with a decimal point to an integer by simply removing everything after the decimal point:"
   ]
  },
  {
   "cell_type": "code",
   "execution_count": 24,
   "metadata": {},
   "outputs": [
    {
     "name": "stdout",
     "output_type": "stream",
     "text": [
      "10\n"
     ]
    }
   ],
   "source": [
    "a = int(10.6)\n",
    "print(a)"
   ]
  },
  {
   "cell_type": "markdown",
   "metadata": {},
   "source": [
    "Arithmetic with integers follows, for the most part, what we would expect:"
   ]
  },
  {
   "cell_type": "code",
   "execution_count": 15,
   "metadata": {},
   "outputs": [
    {
     "name": "stdout",
     "output_type": "stream",
     "text": [
      "15\n",
      "50\n"
     ]
    }
   ],
   "source": [
    "print(10 + 5)\n",
    "print(10 * 5)"
   ]
  },
  {
   "cell_type": "markdown",
   "metadata": {},
   "source": [
    "Division is a slightly more delicate matter, as any school student will tell you. Does 15 divided by 2 equal 7.5, or 7 with remainder 1? Python handles both of these with different symbols."
   ]
  },
  {
   "cell_type": "code",
   "execution_count": 16,
   "metadata": {},
   "outputs": [
    {
     "name": "stdout",
     "output_type": "stream",
     "text": [
      "7.5\n",
      "7\n",
      "1\n"
     ]
    }
   ],
   "source": [
    "print(15 / 2) # notice: result is NOT an integer!\n",
    "print(15 // 2) # quotient\n",
    "print(15 % 2) # remainder"
   ]
  },
  {
   "cell_type": "markdown",
   "metadata": {},
   "source": [
    "While \"division with remainder\" might seem irrelevant in the natural sciences, which rarely deals with whole numbers, it surprisingly useful in programming. For example:"
   ]
  },
  {
   "cell_type": "code",
   "execution_count": 19,
   "metadata": {},
   "outputs": [
    {
     "name": "stdout",
     "output_type": "stream",
     "text": [
      "4234 seconds is 70\n",
      "minutes and 34\n",
      "seconds.\n"
     ]
    }
   ],
   "source": [
    "seconds = 4234\n",
    "print(\"4234 seconds is\", seconds // 60)\n",
    "print(\"minutes and\", seconds % 60)\n",
    "print(\"seconds.\")"
   ]
  },
  {
   "cell_type": "markdown",
   "metadata": {},
   "source": [
    "Powers (or exponents) are handled using the <code>**</code> operator:"
   ]
  },
  {
   "cell_type": "code",
   "execution_count": 20,
   "metadata": {},
   "outputs": [
    {
     "name": "stdout",
     "output_type": "stream",
     "text": [
      "25\n"
     ]
    }
   ],
   "source": [
    "print(5**2)"
   ]
  },
  {
   "cell_type": "markdown",
   "metadata": {},
   "source": [
    "A key advantage to using integers whenever it is possible is that the computations done with integers are perfect. They contain no errors. They're also very memory-efficient. This is unlike..."
   ]
  },
  {
   "cell_type": "markdown",
   "metadata": {},
   "source": [
    "### Floats\n",
    "\n",
    "A floating-point number, or float, is how computers commonly represent decimal numbers. For our information, we create a float by simply writing our number with a decimal point:"
   ]
  },
  {
   "cell_type": "code",
   "execution_count": 25,
   "metadata": {},
   "outputs": [
    {
     "name": "stdout",
     "output_type": "stream",
     "text": [
      "10.0\n"
     ]
    }
   ],
   "source": [
    "a = 10.0\n",
    "print(a)"
   ]
  },
  {
   "cell_type": "markdown",
   "metadata": {},
   "source": [
    "Python will also automatically convert an integer to a float if it is necessary, for instance when doing a division or square root.\n",
    "\n",
    "We can also use a kind of scientific notation for very large or very small floats:"
   ]
  },
  {
   "cell_type": "code",
   "execution_count": 3,
   "metadata": {},
   "outputs": [
    {
     "name": "stdout",
     "output_type": "stream",
     "text": [
      "6.673e-11\n"
     ]
    }
   ],
   "source": [
    "grav_constant = 6.673e-11 # is 6.673 * 10^-11\n",
    "print(grav_constant)"
   ]
  },
  {
   "cell_type": "markdown",
   "metadata": {},
   "source": [
    "Finally, there are special float values for positive and negative infinity, as well as \"not a number\" (NaN), which may be the result of indeterminate expressions like 0/0. The syntax to access these is a little different; we have to tell Python we don't juse mean a string:"
   ]
  },
  {
   "cell_type": "code",
   "execution_count": 10,
   "metadata": {},
   "outputs": [
    {
     "name": "stdout",
     "output_type": "stream",
     "text": [
      "nan\n",
      "inf\n"
     ]
    }
   ],
   "source": [
    "infinity = float('inf')\n",
    "minus_infinity = float('-inf')\n",
    "not_a_number = float('NaN')\n",
    "print(infinity/infinity) # infinity divided by infinity is \"not a number\".\n",
    "print(infinity + 1)"
   ]
  },
  {
   "cell_type": "markdown",
   "metadata": {},
   "source": [
    "The computer stores the float in a way similar to scientific notation: $a \\times 10^b$. In this case though, $a$ and $b$ must be integers, and the base of the exponent is not necessarily 10. The precise details of this are more dependent on your particular computer, rather than on Python itself. Regardless, this means that every float requires the computer to store two numbers -- $a$ and $b$. Calculations with floats are also more complicated. In sum, this means that storing and operating on floats is more computationally costly than working with ints. Of course, floats remain extremely useful, especially in scientific and statistical applications in which most numbers we encounter are not whole numbers.\n",
    "\n",
    "The real reason to be wary of floats is that the computations introduce floating point errors, some of which can be surprising. To get an intuition for the idea, consider that on a simple calculator, the expression $1 \\div 3$ will give $0.33333333$. The true decimal value is of course $0.333\\ldots$, with the 3s continuing for ever. This fact, that $1 \\div 3$ cannot be represented exactly in decimal notation, as well as the need to round off after a certain number of digits, has introduced some small error to the calculations, which may be propagated throughout larger calculations. In the case of floating point numbers, there are different limitations in the kinds of numbers that can be represented using two numbers $a$ and $b$ in binary with a fixed number of digits. This can lead to strange results, like this:"
   ]
  },
  {
   "cell_type": "code",
   "execution_count": 33,
   "metadata": {},
   "outputs": [
    {
     "data": {
      "text/plain": [
       "0.009999999999999787"
      ]
     },
     "execution_count": 33,
     "metadata": {},
     "output_type": "execute_result"
    }
   ],
   "source": [
    "4.0 - 3.99"
   ]
  },
  {
   "cell_type": "markdown",
   "metadata": {},
   "source": [
    "Subtracting numbers which are very close in value can produce errors like this, as can performing operations that mix very large numbers with small.\n",
    "\n",
    "This means that the current standard for floating point arithmetic is striking a balance between range of possible values, levels of precision, computational speed, and ease of use for non-expert programmers. If you are looking to learn Python for scientific purposes, a good rule-of-thumb is to avoid unnecessary operations on floats to reduce error. Developing efficient algorithms that aim to limit the error inherent in floating point arithmetic is the bulk of the study of numerical computing."
   ]
  },
  {
   "cell_type": "markdown",
   "metadata": {},
   "source": [
    "### Complex\n",
    "\n",
    "Those who are not studying mathematics, physics, or engineering can probably safely skip this section.\n",
    "\n",
    "Python supports complex arithmetic straight out the box. To include a complex number, the syntax is"
   ]
  },
  {
   "cell_type": "code",
   "execution_count": 34,
   "metadata": {
    "collapsed": true
   },
   "outputs": [],
   "source": [
    "z = (3+4j)"
   ]
  },
  {
   "cell_type": "markdown",
   "metadata": {},
   "source": [
    "Where $j$ is the imaginary unit. To get the number $j$ by itself, you need to write"
   ]
  },
  {
   "cell_type": "code",
   "execution_count": 36,
   "metadata": {
    "collapsed": true
   },
   "outputs": [],
   "source": [
    "imag_unit = (0+1j)"
   ]
  },
  {
   "cell_type": "markdown",
   "metadata": {},
   "source": [
    "We can also use the function <code>complex()</code> to create a complex number:"
   ]
  },
  {
   "cell_type": "code",
   "execution_count": 37,
   "metadata": {},
   "outputs": [
    {
     "name": "stdout",
     "output_type": "stream",
     "text": [
      "(1+3j)\n"
     ]
    }
   ],
   "source": [
    "z = complex(1, 3)\n",
    "print(z)"
   ]
  },
  {
   "cell_type": "markdown",
   "metadata": {},
   "source": [
    "All of the expected arithmetic operations work, with the same caveats as in the case of floating point arithmetic. To extract the real or imaginary parts of a complex number, use <code>real</code> and <code>imag</code> like so:"
   ]
  },
  {
   "cell_type": "code",
   "execution_count": 39,
   "metadata": {},
   "outputs": [
    {
     "name": "stdout",
     "output_type": "stream",
     "text": [
      "1.0\n",
      "3.0\n"
     ]
    }
   ],
   "source": [
    "print(z.real)\n",
    "print(z.imag)"
   ]
  },
  {
   "cell_type": "markdown",
   "metadata": {},
   "source": [
    "The modulus of a complex number can be determined with <code>abs()</code>:"
   ]
  },
  {
   "cell_type": "code",
   "execution_count": 41,
   "metadata": {},
   "outputs": [
    {
     "name": "stdout",
     "output_type": "stream",
     "text": [
      "3.1622776601683795\n"
     ]
    }
   ],
   "source": [
    "print(abs(z))"
   ]
  },
  {
   "cell_type": "markdown",
   "metadata": {},
   "source": [
    "Many more mathematical tools, including common functions and functions on complex numbers, and statistical operations, are available in the various mathematical libraries.\n",
    "\n",
    "## Quiz, exercises\n",
    "\n",
    "1. Any word can be used as a variable name. True/False?\n",
    "2. Which two of these is a correct syntax for assigning two variables at once?\n",
    "\n",
    "    a) <code>x = 3, y = 5</code>\n",
    "    \n",
    "    b) <code>x, y = 3, 5</code>\n",
    "    \n",
    "    c) <code>x = 3; y = 5</code>\n",
    "    \n",
    "   Use Python to find out. Can you think what difference between the two methods is? (hint: try assigning <code>x</code> to <code>y</code> and <code>y</code> to <code>x</code> in a single line)\n",
    "3. Search online and read more about floating point arithmetic, and allow yourself to be confused.\n",
    "4. Python will round a float to the nearest integer using the <code>round()</code> function. Just place the number you wish to round in the brackets. What happens if you put a number exactly half-way between two integers into the <code>round()</code> function? Try a few examples, and then read the wikipedia page on rounding. Figure out which method of rounding Python uses to resolve ties like this -- it is different to the common convention of always rounding up (which introduces a small bias)."
   ]
  },
  {
   "cell_type": "code",
   "execution_count": null,
   "metadata": {
    "collapsed": true
   },
   "outputs": [],
   "source": []
  }
 ],
 "metadata": {
  "kernelspec": {
   "display_name": "Python 3",
   "language": "python",
   "name": "python3"
  },
  "language_info": {
   "codemirror_mode": {
    "name": "ipython",
    "version": 3
   },
   "file_extension": ".py",
   "mimetype": "text/x-python",
   "name": "python",
   "nbconvert_exporter": "python",
   "pygments_lexer": "ipython3",
   "version": "3.5.2"
  }
 },
 "nbformat": 4,
 "nbformat_minor": 1
}
