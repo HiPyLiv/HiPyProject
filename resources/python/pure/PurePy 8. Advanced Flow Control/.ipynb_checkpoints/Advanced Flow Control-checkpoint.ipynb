{
 "cells": [
  {
   "cell_type": "markdown",
   "metadata": {},
   "source": [
    "# More Flow Control\n",
    "\n",
    "So far, we have met <code>if</code>, <code>elif</code> and <code>else</code>, as well as for-loops and while-loops. Now we take a look at some more tools we have to control the behaviour of loops. Briefly before that though."
   ]
  },
  {
   "cell_type": "markdown",
   "metadata": {},
   "source": [
    "## The <code>pass</code> statement"
   ]
  },
  {
   "cell_type": "markdown",
   "metadata": {},
   "source": [
    "The statement <code>pass</code> is simply the \"do nothing\" statement. Including this somewhere in your code does precisely nothing. However, it is <i>formally</i> a valid Python statement. Therefore it can be used as a placeholder in a location where Python formally requires some code, but you either don't want to do anything, or simply haven't got round to it. For example, when you start designing a sequence of <code>if</code>s and <code>elif</code>s, you may want to write out each possible choice ahead of writing out what to do in each case. Hence, we might write the Fizzbuzz challenge first like this:"
   ]
  },
  {
   "cell_type": "code",
   "execution_count": 2,
   "metadata": {
    "collapsed": true
   },
   "outputs": [],
   "source": [
    "for x in range(100):\n",
    "    if x % 3 == 0 and x % 5 == 0:\n",
    "        pass\n",
    "    elif x % 3 == 0:\n",
    "        pass\n",
    "    elif x % 5 == 0:\n",
    "        pass\n",
    "    else:\n",
    "        pass"
   ]
  },
  {
   "cell_type": "markdown",
   "metadata": {},
   "source": [
    "This way, we can see some of the structure of the program, even we've not filled in the details yet. This is particularly useful when you are breaking your problem down into different functions; you can easily see what is yet to be done, especially when combined with doc strings."
   ]
  },
  {
   "cell_type": "code",
   "execution_count": 4,
   "metadata": {
    "collapsed": true
   },
   "outputs": [],
   "source": [
    "## example here"
   ]
  },
  {
   "cell_type": "markdown",
   "metadata": {},
   "source": [
    "## More logical checking tools\n",
    "\n"
   ]
  },
  {
   "cell_type": "markdown",
   "metadata": {},
   "source": [
    "### Using other types as stand-ins for Booleans\n",
    "\n",
    "A neat thing about Python is that if we use a non-Boolean type in a logical expression, Python will have a go at interpreting it as a Boolean anyway.\n"
   ]
  },
  {
   "cell_type": "code",
   "execution_count": 1,
   "metadata": {},
   "outputs": [
    {
     "name": "stdout",
     "output_type": "stream",
     "text": [
      "0\n"
     ]
    }
   ],
   "source": [
    "print(1 and 0)"
   ]
  },
  {
   "cell_type": "code",
   "execution_count": 2,
   "metadata": {},
   "outputs": [
    {
     "name": "stdout",
     "output_type": "stream",
     "text": [
      "1\n"
     ]
    }
   ],
   "source": [
    "print(1 and 1)"
   ]
  },
  {
   "cell_type": "markdown",
   "metadata": {},
   "source": [
    "In this case, Python knows to use 0 as False, and 1 as True. This works for all kinds of things, but the rule of thumb is this. If you give Python numbers in a boolean expression, 0 is considered False, anything non-zero is considered True (this applies to ints, floats, and complex numbers). If you given Python a sequence or container, such as a list or string (which is a sequence of letters), then an empty sequence is considered False and a non-empty sequence is considered True:"
   ]
  },
  {
   "cell_type": "code",
   "execution_count": 3,
   "metadata": {},
   "outputs": [
    {
     "name": "stdout",
     "output_type": "stream",
     "text": [
      "Cat\n"
     ]
    }
   ],
   "source": [
    "print(\"\" or \"Cat\")"
   ]
  },
  {
   "cell_type": "markdown",
   "metadata": {},
   "source": [
    "To convert something into a boolean in the more classical sense, use the <code>bool()</code> function: "
   ]
  },
  {
   "cell_type": "code",
   "execution_count": 4,
   "metadata": {},
   "outputs": [
    {
     "name": "stdout",
     "output_type": "stream",
     "text": [
      "False\n"
     ]
    }
   ],
   "source": [
    "print(bool(\"\"))"
   ]
  },
  {
   "cell_type": "code",
   "execution_count": 5,
   "metadata": {},
   "outputs": [
    {
     "name": "stdout",
     "output_type": "stream",
     "text": [
      "True\n"
     ]
    }
   ],
   "source": [
    "print(bool(\"Cat\"))"
   ]
  },
  {
   "cell_type": "markdown",
   "metadata": {},
   "source": [
    "### In\n",
    "\n",
    "With many sequence or container-like objects, we can check for membership using <code>in</code>. For example:"
   ]
  },
  {
   "cell_type": "code",
   "execution_count": 6,
   "metadata": {},
   "outputs": [
    {
     "name": "stdout",
     "output_type": "stream",
     "text": [
      "True\n"
     ]
    }
   ],
   "source": [
    "print('cat' in \"concatenate\")"
   ]
  },
  {
   "cell_type": "code",
   "execution_count": 7,
   "metadata": {},
   "outputs": [
    {
     "name": "stdout",
     "output_type": "stream",
     "text": [
      "True\n"
     ]
    }
   ],
   "source": [
    "print(\"dog\" in [\"cat\", \"dog\", \"hamster\"])"
   ]
  },
  {
   "cell_type": "code",
   "execution_count": 9,
   "metadata": {},
   "outputs": [
    {
     "name": "stdout",
     "output_type": "stream",
     "text": [
      "True\n"
     ]
    }
   ],
   "source": [
    "# this is a set, a data structure we have not discussed.\n",
    "# sets contain unordered data with no duplicates\n",
    "# (identical entries are counted as a single entry)\n",
    "# They are occasionally useful.\n",
    "print(3 in {1, 2, 3})"
   ]
  },
  {
   "cell_type": "markdown",
   "metadata": {},
   "source": [
    "### Identity: \"is\"\n",
    "\n",
    "We can check for two objects being actually the same object in Python's memory using <code>is</code>. This is, confusingly, <i>different</i> to using <code>==</code>, which checks for some equality of value. This leads to some profoundly <i>weird</i> cases, especially with numbers and strings. Therefore the advice is to only use this in this in the situations I outline here. Let's see examples."
   ]
  },
  {
   "cell_type": "code",
   "execution_count": 17,
   "metadata": {},
   "outputs": [
    {
     "name": "stdout",
     "output_type": "stream",
     "text": [
      "False\n"
     ]
    }
   ],
   "source": [
    "print([] is [])"
   ]
  },
  {
   "cell_type": "markdown",
   "metadata": {},
   "source": [
    "Why did this evaluate False? Because writing an empty list <code>[]</code> always creates a brand new empty list. These are two different lists as far as Python is concerned. Hence <code>is</code> will come out as False. However:"
   ]
  },
  {
   "cell_type": "code",
   "execution_count": 18,
   "metadata": {},
   "outputs": [
    {
     "name": "stdout",
     "output_type": "stream",
     "text": [
      "True\n"
     ]
    }
   ],
   "source": [
    "print([] == [])"
   ]
  },
  {
   "cell_type": "markdown",
   "metadata": {},
   "source": [
    "This comes out as True. While these are different lists, they have the same contents, and Python can see this. So, we use <code>is</code> when we want Python to check not just that two things look similar, but are one and the same object.\n",
    "\n",
    "\n"
   ]
  },
  {
   "cell_type": "code",
   "execution_count": 50,
   "metadata": {},
   "outputs": [
    {
     "name": "stdout",
     "output_type": "stream",
     "text": [
      "True\n",
      "False\n"
     ]
    }
   ],
   "source": [
    "a = [\"spam\"]\n",
    "b = a\n",
    "c = [\"spam\"]\n",
    "print(a is b)\n",
    "print(c is a)\n"
   ]
  },
  {
   "cell_type": "markdown",
   "metadata": {},
   "source": [
    "There is one more use case I have found useful. This is for checking the <code>None</code> type object. <code>None</code> is a special object, representing nothing, nada. A function that gives no return value gives <code>None</code>:"
   ]
  },
  {
   "cell_type": "code",
   "execution_count": 19,
   "metadata": {},
   "outputs": [
    {
     "name": "stdout",
     "output_type": "stream",
     "text": [
      "None\n"
     ]
    }
   ],
   "source": [
    "def gives_nothing():\n",
    "    pass\n",
    "print(gives_nothing())"
   ]
  },
  {
   "cell_type": "markdown",
   "metadata": {},
   "source": [
    "In many boolean situations, <code>None</code> is interpreted as <code>False</code>."
   ]
  },
  {
   "cell_type": "code",
   "execution_count": 23,
   "metadata": {},
   "outputs": [
    {
     "name": "stdout",
     "output_type": "stream",
     "text": [
      "Was interpreted as False\n"
     ]
    }
   ],
   "source": [
    "probably_false = None\n",
    "if not probably_false:\n",
    "    print(\"Was interpreted as False\")"
   ]
  },
  {
   "cell_type": "markdown",
   "metadata": {},
   "source": [
    "However, <code>None</code> and <code>False</code> are certainly not the same. If I have a function that sometimes returns a value and sometimes does not, and I want to check if the function returned <code>None</code>, I can use <code>is</code>:"
   ]
  },
  {
   "cell_type": "code",
   "execution_count": 30,
   "metadata": {},
   "outputs": [
    {
     "name": "stdout",
     "output_type": "stream",
     "text": [
      "gives_nothing() gave nothing\n"
     ]
    }
   ],
   "source": [
    "if gives_nothing() is None:\n",
    "    print(\"gives_nothing() gave nothing\")"
   ]
  },
  {
   "cell_type": "code",
   "execution_count": 31,
   "metadata": {
    "collapsed": true
   },
   "outputs": [],
   "source": [
    "if gives_nothing() is not None:\n",
    "    print(\"gives_nothing() gave something\")"
   ]
  },
  {
   "cell_type": "markdown",
   "metadata": {},
   "source": [
    "## Looping over indices\n",
    "\n",
    "It is somewhat common, though to be avoided if feasible, to wish to loop over the indices of a list or other sequence, rather than the items of a list.\n",
    "\n",
    "There is a commonly used, naive way to do this. It is wrong, in the sense that it is ugly. Suppose I wish to print a list with numbering:"
   ]
  },
  {
   "cell_type": "code",
   "execution_count": 33,
   "metadata": {},
   "outputs": [
    {
     "name": "stdout",
     "output_type": "stream",
     "text": [
      "1. Fruit\n",
      "2. Coffee\n",
      "3. Tofu\n",
      "4. Rice\n",
      "5. Soy sauce\n"
     ]
    }
   ],
   "source": [
    "shopping = [\"Fruit\", \"Coffee\", \"Tofu\", \"Rice\", \"Soy sauce\"]\n",
    "## Ugly version:\n",
    "for i in range(len(shopping)):\n",
    "    list_item = \"{}. {}\".format(i+1, shopping[i]) \n",
    "    print(list_item)"
   ]
  },
  {
   "cell_type": "markdown",
   "metadata": {},
   "source": [
    "This is very common to see from both new and experienced programmers; in many programming languages, this kind of construction is the only way to perform this task. There is a much preferred method in Python, however:"
   ]
  },
  {
   "cell_type": "code",
   "execution_count": 35,
   "metadata": {},
   "outputs": [
    {
     "name": "stdout",
     "output_type": "stream",
     "text": [
      "1. Fruit\n",
      "2. Coffee\n",
      "3. Tofu\n",
      "4. Rice\n",
      "5. Soy sauce\n"
     ]
    }
   ],
   "source": [
    "# Pythonic version\n",
    "for i, grocery in enumerate(shopping):\n",
    "    list_item = \"{}. {}\".format(i+1, grocery)\n",
    "    print(list_item)"
   ]
  },
  {
   "cell_type": "markdown",
   "metadata": {},
   "source": [
    "So, enumerate gives a sequence of tuples, the first being the index, the second being the element. Now we can use both. Fab!"
   ]
  },
  {
   "cell_type": "code",
   "execution_count": 49,
   "metadata": {},
   "outputs": [
    {
     "name": "stdout",
     "output_type": "stream",
     "text": [
      "[(0, 'Fruit'), (1, 'Coffee'), (2, 'Tofu'), (3, 'Rice'), (4, 'Soy sauce')]\n"
     ]
    }
   ],
   "source": [
    "print(list(enumerate(shopping)))"
   ]
  },
  {
   "cell_type": "markdown",
   "metadata": {},
   "source": [
    "## Break and continue\n",
    "\n",
    "We have yet two more tools to control the flow during loops.\n",
    "\n",
    "The break keyword can interrupt any loop, even if it has not yet run to completion. The code then continues running after the loop. This can be useful. Suppose we are searching a list for an entry that meets a certain condition. We may loop over the list and check each item for our desired criteria. If we find the item we are looking for, there is no need to continue searching the remainder of the list. Hence we will save time by running <code>break</code>.\n",
    "\n",
    "The statement works in both for-loops and while-loops. In the case of while loops, this means the loop can be told to run forever until <code>break</code> is executed."
   ]
  },
  {
   "cell_type": "code",
   "execution_count": 37,
   "metadata": {},
   "outputs": [
    {
     "name": "stdout",
     "output_type": "stream",
     "text": [
      "What is the capital of France? Huh?\n",
      "Try again!\n",
      "What is the capital of France? F\n",
      "Try again!\n",
      "What is the capital of France? Paris\n",
      "Well done!\n"
     ]
    }
   ],
   "source": [
    "while True: # True is always True, so this loop won't end until it hits a break!\n",
    "    answer = input(\"What is the capital of France? \")\n",
    "    if answer == \"Paris\":\n",
    "        break\n",
    "    else:\n",
    "        print(\"Try again!\")\n",
    "\n",
    "print(\"Well done!\") # this is not in the loop (because of the indentation!)"
   ]
  },
  {
   "cell_type": "markdown",
   "metadata": {},
   "source": [
    "It also means that the \"checking\" phase of the loop, which checks whether the loop should continue running or stop and proceed to the next code block, can be placed at the beginning, middle or end of the loop, or even in multiple places. Usually a while-loop checks the condition at the beginning of the loop. But with a <code>break</code>, we can check at the end.\n",
    "\n",
    "The other control tool is <code>continue</code>. This keyword is again used inside a loop, and tells Python not to finish its current pass through the looped code, and instead continue to the next pass through, starting at the top again. This is syntactic sugar: a programming term which means a language element that is not strictly necessary, but makes it easier to type or express certain ideas. Virtually every <code>continue</code> could be replaced by re-arranging <code>if</code> statements, but sometimes <code>continue</code> just makes the whole thing easier and more readable.\n",
    "\n",
    "For now just pass your eyes over this toy example, and see if you can figure out what's going on:"
   ]
  },
  {
   "cell_type": "code",
   "execution_count": 38,
   "metadata": {},
   "outputs": [
    {
     "name": "stdout",
     "output_type": "stream",
     "text": [
      "H\n",
      "i\n",
      "P\n",
      "y\n"
     ]
    }
   ],
   "source": [
    "for letter in \"Hello, we wish to learn Python\":\n",
    "    if letter in \"and thus, where should we go?\":\n",
    "        continue\n",
    "    else:\n",
    "        print(letter)"
   ]
  },
  {
   "cell_type": "markdown",
   "metadata": {},
   "source": [
    "## For, else"
   ]
  },
  {
   "cell_type": "markdown",
   "metadata": {},
   "source": [
    "This is valid Python code:"
   ]
  },
  {
   "cell_type": "code",
   "execution_count": 46,
   "metadata": {},
   "outputs": [
    {
     "name": "stdout",
     "output_type": "stream",
     "text": [
      "Is a strictly ascending sequence\n",
      "Not strictly ascending\n"
     ]
    },
    {
     "data": {
      "text/plain": [
       "False"
      ]
     },
     "execution_count": 46,
     "metadata": {},
     "output_type": "execute_result"
    }
   ],
   "source": [
    "## NEEDS A BETTER EXAMPLE, THIS ONE IS ENTIRELY USELESS\n",
    "\n",
    "def strictly_ascending(seq):\n",
    "    '''\n",
    "    Check whether a sequence of values is in ascending order\n",
    "    '''\n",
    "    for i, x in enumerate(seq[1:]):\n",
    "        if seq[i+1] <= seq [i]:\n",
    "            print(\"Not strictly ascending\")\n",
    "            break\n",
    "    else:\n",
    "        print(\"Is a strictly ascending sequence\")\n",
    "        return True\n",
    "    return False\n",
    "        \n",
    "strictly_ascending([1, 2, 3, 6, 9])\n",
    "strictly_ascending([1, 2, 3, 3])"
   ]
  },
  {
   "cell_type": "markdown",
   "metadata": {},
   "source": [
    "Most programmers double-take when they see this construction, and some prefer to avoid it altogether. A for-loop can be given an <code>else</code> clause, that executes only in the event that the for-loop ran to completion, and did not experience a break. This can be useful when searching through a list looking for an entry meeting certain conditions.\n",
    "\n",
    "Again, syntactic sugar. The same code could have been written:"
   ]
  },
  {
   "cell_type": "code",
   "execution_count": 48,
   "metadata": {},
   "outputs": [
    {
     "name": "stdout",
     "output_type": "stream",
     "text": [
      "Is a strictly ascending sequence\n",
      "Not strictly ascending\n"
     ]
    },
    {
     "data": {
      "text/plain": [
       "False"
      ]
     },
     "execution_count": 48,
     "metadata": {},
     "output_type": "execute_result"
    }
   ],
   "source": [
    "def strictly_ascending(seq):\n",
    "    '''\n",
    "    Check whether a sequence of values is in ascending order\n",
    "    '''\n",
    "    in_order = True\n",
    "    for i, x in enumerate(seq[1:]):\n",
    "        if seq[i+1] <= seq [i]:\n",
    "            print(\"Not strictly ascending\")\n",
    "            in_order = False\n",
    "            break\n",
    "    if in_order:\n",
    "        print(\"Is a strictly ascending sequence\")\n",
    "        return True\n",
    "    return False\n",
    "\n",
    "strictly_ascending([1, 2, 3, 6, 9])\n",
    "strictly_ascending([1, 2, 3, 3])"
   ]
  },
  {
   "cell_type": "markdown",
   "metadata": {},
   "source": [
    "Notice however, that this requires creating an extra variable to keep track of whether we found anything amiss. Which you use is up to you; I'm a fan of for-else -- sometimes it just feels like the right solution to a problem for me. Others disagree, with the belief that the construction is so peculiar to Python that it makes the code difficult to read for programmers who are not used to seeing it."
   ]
  },
  {
   "cell_type": "markdown",
   "metadata": {
    "collapsed": true
   },
   "source": []
  }
 ],
 "metadata": {
  "kernelspec": {
   "display_name": "Python 3",
   "language": "python",
   "name": "python3"
  },
  "language_info": {
   "codemirror_mode": {
    "name": "ipython",
    "version": 3
   },
   "file_extension": ".py",
   "mimetype": "text/x-python",
   "name": "python",
   "nbconvert_exporter": "python",
   "pygments_lexer": "ipython3",
   "version": "3.5.2"
  }
 },
 "nbformat": 4,
 "nbformat_minor": 2
}
