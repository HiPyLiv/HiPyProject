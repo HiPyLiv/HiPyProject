{
 "cells": [
  {
   "cell_type": "markdown",
   "metadata": {},
   "source": [
    "![header](header10.2.png)\n",
    "\n",
    "# Inheritance, composition, and magic methods\n",
    "\n",
    "Now that we have played around making some classes, we can get deeper into object-oriented programming.\n",
    "\n",
    "\n",
    "## Inheritance\n",
    "\n",
    "Classes can beget classes, via inheritance. The language of \"parent\" and \"child\" classes is commonly used. Essentially, the child class has the attributes and methods of its parent, possibly with some modification, plus its own unique methods and attributes.\n",
    "\n",
    "An example: in the footnote to the Data Structures video, we ran the following code:"
   ]
  },
  {
   "cell_type": "code",
   "execution_count": 8,
   "metadata": {},
   "outputs": [
    {
     "name": "stdout",
     "output_type": "stream",
     "text": [
      "Counter({'B': 2, 'A': 1, 'C': 1})\n"
     ]
    }
   ],
   "source": [
    "from collections import Counter\n",
    "\n",
    "a_list = ['A', 'B', 'B', 'C']\n",
    "count = Counter(a_list)\n",
    "print(count)"
   ]
  },
  {
   "cell_type": "markdown",
   "metadata": {},
   "source": [
    "Now we can unpack what is really going on. <code>Counter</code> is a class provided by the collections module. It provides us with a dictionary containing the number of occurrences of each item in the sequence, but it also comes with extra features: "
   ]
  },
  {
   "cell_type": "code",
   "execution_count": 3,
   "metadata": {},
   "outputs": [
    {
     "name": "stdout",
     "output_type": "stream",
     "text": [
      "Counter({'B': 4, 'A': 2, 'C': 2})\n"
     ]
    }
   ],
   "source": [
    "print(count + count)"
   ]
  },
  {
   "cell_type": "code",
   "execution_count": 5,
   "metadata": {},
   "outputs": [
    {
     "name": "stdout",
     "output_type": "stream",
     "text": [
      "[('B', 2)]\n"
     ]
    }
   ],
   "source": [
    "print(count.most_common(1))"
   ]
  },
  {
   "cell_type": "markdown",
   "metadata": {},
   "source": [
    "How can a dictionary do this? The answer, as you might have guessed, is that the <code>Counter</code> class is a child of the <code>dict</code> class. Thus, it has the properties of a dictionary, plus the additional features of <code>Counter</code>. Clearly, this is a powerful tool to have in our kit. I would encourage you, after reading this article, to dig up the source code of the Counter so you can see how it works.\n",
    "\n",
    "The basic syntax of inheritance is easy enough."
   ]
  },
  {
   "cell_type": "code",
   "execution_count": 2,
   "metadata": {},
   "outputs": [
    {
     "name": "stdout",
     "output_type": "stream",
     "text": [
      "Parent class made\n"
     ]
    }
   ],
   "source": [
    "class MyParentClass():\n",
    "    def __init__(self):\n",
    "        print(\"Parent class made\")\n",
    "        \n",
    "class MyChildClass(MyParentClass):\n",
    "    pass\n",
    "\n",
    "child = MyChildClass()"
   ]
  },
  {
   "cell_type": "markdown",
   "metadata": {},
   "source": [
    "Notice what happened here; because we did not supply the child class with an <code>\\__init\\__()</code> method, it defaulted to using the one provided by its parent. However:"
   ]
  },
  {
   "cell_type": "code",
   "execution_count": 6,
   "metadata": {},
   "outputs": [
    {
     "name": "stdout",
     "output_type": "stream",
     "text": [
      "A new __init__() method\n"
     ]
    }
   ],
   "source": [
    "class AnotherChildClass(MyParentClass):\n",
    "    def __init__(self):\n",
    "        print(\"A new __init__() method\")\n",
    "        \n",
    "second_child = AnotherChildClass()"
   ]
  },
  {
   "cell_type": "markdown",
   "metadata": {},
   "source": [
    "We can run both; simply call the parent's method from inside the child's method:"
   ]
  },
  {
   "cell_type": "code",
   "execution_count": 3,
   "metadata": {},
   "outputs": [
    {
     "name": "stdout",
     "output_type": "stream",
     "text": [
      "Parent class made\n",
      "And now anything extra from the child\n"
     ]
    }
   ],
   "source": [
    "class AFinalChildClass(MyParentClass):\n",
    "    def __init__(self):\n",
    "        MyParentClass.__init__(self) # call init of parent\n",
    "        print(\"And now anything extra from the child\") # new stuff!\n",
    "        \n",
    "youngest_child = AFinalChildClass()"
   ]
  },
  {
   "cell_type": "markdown",
   "metadata": {},
   "source": [
    "Of course, just like in the real world, these child classes can go on to have children of their own. Therefore a well designed inheritance structure for your program can cut down on your programming time significantly, since methods of parents can be reused in their children."
   ]
  },
  {
   "cell_type": "markdown",
   "metadata": {},
   "source": [
    "## Introspection\n",
    "\n",
    "Introspection in Python boils down to the ability of programs to examine the structure of objects. We have already met the <code>dir()</code> function as an example, which lists the available methods of an object.\n",
    "\n",
    "We'll now meet some more introspection tools.\n",
    "\n",
    "## isinstance\n",
    "\n",
    "Imagine you're writing a function or method, and you wish for the program to exhibit a different behaviour depending on the type or class of the argument that function receives. The function <code>isinstance()</code> takes as its first argument an object, and as a second argument a class. It returns a boolean."
   ]
  },
  {
   "cell_type": "code",
   "execution_count": 1,
   "metadata": {},
   "outputs": [
    {
     "name": "stdout",
     "output_type": "stream",
     "text": [
      "True\n"
     ]
    }
   ],
   "source": [
    "print(isinstance([1, 2, 3], list))"
   ]
  },
  {
   "cell_type": "code",
   "execution_count": 4,
   "metadata": {},
   "outputs": [
    {
     "name": "stdout",
     "output_type": "stream",
     "text": [
      "True\n"
     ]
    }
   ],
   "source": [
    "print(isinstance(youngest_child, AFinalChildClass))"
   ]
  },
  {
   "cell_type": "code",
   "execution_count": 7,
   "metadata": {},
   "outputs": [
    {
     "name": "stdout",
     "output_type": "stream",
     "text": [
      "False\n"
     ]
    }
   ],
   "source": [
    "print(isinstance(youngest_child, AnotherChildClass))"
   ]
  },
  {
   "cell_type": "markdown",
   "metadata": {},
   "source": [
    "Very importantly, <code>isinstance</code> considers instances of child classes to be instances of their parents. This means, for instance, that an if-statement that uses <code>isinstance()</code> to look for dictionaries would consider a counter object to be such an instance, as it is a child of the dictionary class:"
   ]
  },
  {
   "cell_type": "code",
   "execution_count": 10,
   "metadata": {},
   "outputs": [
    {
     "name": "stdout",
     "output_type": "stream",
     "text": [
      "True\n",
      "True\n"
     ]
    }
   ],
   "source": [
    "print(isinstance(count, Counter))\n",
    "print(isinstance(count, dict))"
   ]
  },
  {
   "cell_type": "markdown",
   "metadata": {},
   "source": [
    "### hasattr\n",
    "\n",
    "A similar function exists for checking whether an object possesses a particular attribute or method:"
   ]
  },
  {
   "cell_type": "code",
   "execution_count": 16,
   "metadata": {},
   "outputs": [
    {
     "name": "stdout",
     "output_type": "stream",
     "text": [
      "True\n"
     ]
    }
   ],
   "source": [
    "print(hasattr([1,2,3], 'sort'))"
   ]
  },
  {
   "cell_type": "markdown",
   "metadata": {},
   "source": [
    "This will become much more useful when we meet the magic methods."
   ]
  },
  {
   "cell_type": "markdown",
   "metadata": {},
   "source": [
    "## Composition\n",
    "\n",
    "As well as inheriting, we can create new classes by combining other classes. This is called composition. The idea is that the composite class has the different component classes as its attributes, and these are structured in a way which allows them to \"talk\" to one another. Here is one way you could do that:"
   ]
  },
  {
   "cell_type": "code",
   "execution_count": 8,
   "metadata": {
    "collapsed": true
   },
   "outputs": [],
   "source": [
    "class ComponentA():\n",
    "    def __init__(self):\n",
    "        self.name = \"A\"\n",
    "        self.owner = None\n",
    "        \n",
    "    def show_owner(self):\n",
    "        print(\"My owner is: \", self.owner.name)\n",
    "        \n",
    "\n",
    "\n",
    "class ComponentB():\n",
    "    def __init__(self):\n",
    "        self.name = \"B\"\n",
    "        self.owner = None\n",
    "\n",
    "    def show_owner(self):\n",
    "        print(\"My owner is: \", self.owner.name)\n",
    "        \n",
    "\n",
    "        \n",
    "class Composite():\n",
    "    def __init__(self):\n",
    "        self.name = \"A + B\"\n",
    "        self.partA = ComponentA()\n",
    "        self.partA.owner = self\n",
    "        self.partB = ComponentB()\n",
    "        self.partB.owner = self\n",
    "        \n",
    "    def my_parts(self):\n",
    "        print(\"Part {} says: \".format(self.partA.name))\n",
    "        self.partA.show_owner()\n",
    "        print(\"Part {} says: \".format(self.partB.name))\n",
    "        self.partB.show_owner()"
   ]
  },
  {
   "cell_type": "code",
   "execution_count": 7,
   "metadata": {},
   "outputs": [
    {
     "name": "stdout",
     "output_type": "stream",
     "text": [
      "Part A says: \n",
      "My owner is:  A + B\n",
      "Part B says: \n",
      "My owner is:  A + B\n"
     ]
    }
   ],
   "source": [
    "a_composite_class = Composite()\n",
    "a_composite_class.my_parts()"
   ]
  },
  {
   "cell_type": "markdown",
   "metadata": {},
   "source": [
    "This is quite subtle actually, so read it carefully. The components have been given an \"owner\" attribute (again, this isn't a keyword, it is just chosen by convention). Now from inside each component, we can use <code>self.owner</code> to refer to the composite class, and inside the composite class, we can refer directly to each part as <code>self.part</code>. The confusing line to ponder is <code>self.partA.owner = self</code>. Alternatively, we could have set our component classes to expect an \"owner\" as an argument of their <code>\\__init\\__()</code> method, in which case the same code might look like this:"
   ]
  },
  {
   "cell_type": "code",
   "execution_count": 4,
   "metadata": {
    "collapsed": true
   },
   "outputs": [],
   "source": [
    "class ComponentA():\n",
    "    def __init__(self, owner=None):\n",
    "        self.name = \"A\"\n",
    "        self.owner = owner\n",
    "        \n",
    "    def show_owner(self):\n",
    "        print(\"My owner is: \", self.owner.name)\n",
    "        \n",
    "\n",
    "\n",
    "class ComponentB():\n",
    "    def __init__(self, owner=None):\n",
    "        self.name = \"B\"\n",
    "        self.owner = owner\n",
    "        \n",
    "    def show_owner(self):\n",
    "        print(\"My owner is: \", self.owner.name)\n",
    "        \n",
    "\n",
    "        \n",
    "class Composite():\n",
    "    def __init__(self):\n",
    "        self.name = \"A + B\"\n",
    "        self.partA = ComponentA(owner=self)\n",
    "        self.partB = ComponentB(owner=self)\n",
    "        \n",
    "    def my_parts(self):\n",
    "        print(\"Part {} says: \".format(self.partA.name))\n",
    "        self.partA.show_owner()\n",
    "        print(\"Part {} says: \".format(self.partB.name))\n",
    "        self.partB.show_owner()"
   ]
  },
  {
   "cell_type": "code",
   "execution_count": 5,
   "metadata": {},
   "outputs": [
    {
     "name": "stdout",
     "output_type": "stream",
     "text": [
      "Part A says: \n",
      "My owner is:  A + B\n",
      "Part B says: \n",
      "My owner is:  A + B\n"
     ]
    }
   ],
   "source": [
    "a_composite_class = Composite()\n",
    "a_composite_class.my_parts()"
   ]
  },
  {
   "cell_type": "markdown",
   "metadata": {},
   "source": [
    "These are basically equivalent solutions."
   ]
  },
  {
   "cell_type": "markdown",
   "metadata": {},
   "source": [
    "## Magic methods\n",
    "\n",
    "In the first section on object-oriented programming, we discussed how in Python everything is an object, and showed that many of these objects exhibit cool behaviours, such as <code>+</code> being used to join together two strings, or <code>list[a:b]</code> giving us a slice of a list. We can build these behaviours into our own classes using the so-called magic methods.\n",
    "\n",
    "Magic methods are essentially methods that are called whenever class is used together with a certain bit of in-built Python syntax. We have already met the very import magic method <code>\\__init\\__()</code> -- this method is called whenever the class is instantiated by writing <code>ClassName()</code>. Magic methods are easily identified by the two underscores either side of the name.\n",
    "\n",
    "For example, let's build a \"set\" that contains everything, just to spite Bertrand Russell."
   ]
  },
  {
   "cell_type": "code",
   "execution_count": 33,
   "metadata": {
    "collapsed": true
   },
   "outputs": [],
   "source": [
    "class ContainsEverything(set):\n",
    "    def __contains__(self, item):\n",
    "        return True\n"
   ]
  },
  {
   "cell_type": "markdown",
   "metadata": {},
   "source": [
    "In this case, we have not chosen method names arbitrarily: these method names are very special, and each one refers to a particular aspect of Python's structure."
   ]
  },
  {
   "cell_type": "code",
   "execution_count": 34,
   "metadata": {
    "collapsed": true
   },
   "outputs": [],
   "source": [
    "superset = ContainsEverything()"
   ]
  },
  {
   "cell_type": "code",
   "execution_count": 35,
   "metadata": {},
   "outputs": [
    {
     "name": "stdout",
     "output_type": "stream",
     "text": [
      "True\n"
     ]
    }
   ],
   "source": [
    "print(\"Spam\" in superset)"
   ]
  },
  {
   "cell_type": "code",
   "execution_count": 36,
   "metadata": {},
   "outputs": [
    {
     "name": "stdout",
     "output_type": "stream",
     "text": [
      "True\n"
     ]
    }
   ],
   "source": [
    "print(0 in superset)"
   ]
  },
  {
   "cell_type": "code",
   "execution_count": 37,
   "metadata": {},
   "outputs": [
    {
     "name": "stdout",
     "output_type": "stream",
     "text": [
      "True\n"
     ]
    }
   ],
   "source": [
    "print(superset in superset)"
   ]
  },
  {
   "cell_type": "markdown",
   "metadata": {},
   "source": [
    "As we can easily see, this object has been designed so that whenever it is placed in the context of \"in\", then it returns <code>True</code>, regardless of what we actually put in the set or what we check for membership. There are many magic methods, far too many to list here. The following example will show us a good few more though, and hopefully give you the confidence to explore them further for yourself. "
   ]
  },
  {
   "cell_type": "markdown",
   "metadata": {},
   "source": [
    "## Extended example: a polynomial class\n",
    "\n",
    "Let's recap some maths, and then build a class that makes it all really easy.\n",
    "\n",
    "In mathematics, a polynomial is a symbolic expression where a symbol, say, $x$, can be added, subtracted, multiplied by a number, and raised to an integer power. For example\n",
    "\n",
    "$$3 + x - 2x^2$$\n",
    "\n",
    "is a polynomial. So is\n",
    "\n",
    "$$x^3 + 36x^9.$$\n",
    "\n",
    "In general, a polynomial has the form\n",
    "\n",
    "$$a_0 + a_1x + a_2x^2 + \\dots + a_n x^n$$\n",
    "\n",
    "where $n$ is called the degree of the polynomial, and the $a_i$'s are called coefficients. Polynomials can be added together by adding together the cofficients of corresponding powers of $x$ (if the degree of the polynomials is different, we consider the smaller polynomial to have $0x^{n+1} + \\dots + 0x^{\\deg{p}}$ added to the end, where $p$ is the polynomial with the higher degree). Example:\n",
    "\n",
    "$$\\underbrace{(3 + x - 2x^2)}_\\text{Smaller degree} + (2 - x + x^3) = (3 + x - 2x^2 + 0x^3) + (2 - x + x^3) \\\\= (2 + 3) + (1-1)x -2x^2 + (0+1)x^3 = 5 -2x^2 + x^3$$\n",
    "\n",
    "A polynomial can be multiplied by a number by multiplying each coefficient by the number. A polynomial can also be multiplied by another polynomial by repeated use of the distributive law, that $(a + b)c = ac + bc$. Example:\n",
    "\n",
    "$$(1 - 2x + 3x^2)(2 + x) = 1(2 +x) -2x(2+x) + 3x^2(2+x) \\\\= (2 + x) - (4x + 2x^2) + (6x^2 + 3x^3) \\\\ =2 + (x - 4x) +(- 2x^2 + 6x^2) + 3x^3\\\\ = 2 - 3x + 4x^2 + 3x^3$$\n",
    "\n",
    "A polynomial can be <i>evaluated</i> at a value by replacing all instances of $x$ with a number, and calculating the result. For instance, to evaluate $2 + x^2$ at $x = 3$, we calculate\n",
    "\n",
    "$$2 + (3)^2 = 11.$$\n",
    "\n",
    "The <i>derivative</i> of a polynomial is obtained by replacing each $a_k x^k$ with $ka_kx^{k-1}$. The $a_0$ term vanishes.\n",
    "\n",
    "Polynomials are important in all areas of mathematics, and science. We'll make a Python script that can do all of these basic polynomial calculations in a natural way, using a <code>Polynomial</code> class."
   ]
  },
  {
   "cell_type": "markdown",
   "metadata": {},
   "source": [
    "## The example\n",
    "\n",
    "The basic plan is that our polynomial will be a subclass of <code>list</code>. This is because we can exploit the fact that the only real information needed to characterize a polynomial is the coefficient of each term. These can be stored as a list, in which the indices of the list correspond precisely with the coefficient of that power of $x$ (for example, the <code>[3]</code>rd entry in a list will be the coefficient of $x^3$). We will exploit this fact as much as possible.\n",
    "\n",
    "The only information we will specify to the polynomial is a sequence of coefficients, therefore. However, I'd like the <code>\\__init\\__()</code> method to be basically agnostic as to whether the sequence of terms is provided simply as separate arguments, or as a list/tuple. So we'll allow an arbitrary number of arguments, and then use our new introspection abilities to check what kind of argument is provided, and then modify the arguments if necessary:\n",
    "\n",
    "Let's start with that now:"
   ]
  },
  {
   "cell_type": "code",
   "execution_count": 49,
   "metadata": {
    "collapsed": true
   },
   "outputs": [],
   "source": [
    "class Polynomial(list):\n",
    "    '''\n",
    "    Polynomial class, essentially a list of coefficients with\n",
    "    a nice string representation, and correctly behaving addition,\n",
    "    multiplication, etc.\n",
    "    '''\n",
    "    def __init__(self, *coeffs):\n",
    "        from collections.abc import Sequence\n",
    "        # The Sequence object can be used to check whether\n",
    "        # an object is sequence-like.\n",
    "        # it is an \"abstract base class\" -- you can't make objects from it\n",
    "        # but other classes can inherit from it\n",
    "        if isinstance(coeffs[0], Sequence):\n",
    "            coeffs = coeffs[0]\n",
    "        coeffs = list(coeffs)\n",
    "        list.__init__(coeffs)\n",
    "        "
   ]
  },
  {
   "cell_type": "markdown",
   "metadata": {},
   "source": [
    "So all we've done so far is made sure the <code>coeffs</code> parameter refers to a sequence, and then passed it to the usual list <code>\\__init\\__()</code>. If we didn't include the first step, then when we call <code>Polynomial([1,2,3])</code>, the coeffs parameter would refer to <code>[[1,2,3]]</code> -- a list within a list.\n",
    "\n",
    "I'd also like to be able to check the degree of my polynomial: the highest power of $x$ with a non-zero coefficient. Let's make a method which can do that for us. Figure out how this simple algorithm works!"
   ]
  },
  {
   "cell_type": "code",
   "execution_count": 50,
   "metadata": {
    "collapsed": true
   },
   "outputs": [],
   "source": [
    "class Polynomial(list):\n",
    "    def __init__(self, *coeffs):\n",
    "        from collections.abc import Sequence\n",
    "        # The Sequence object can be used to check whether\n",
    "        # an object is sequence-like.\n",
    "        # it is an \"abstract base class\" -- you can't make objects from it\n",
    "        # but other classes can inherit from it\n",
    "        if isinstance(coeffs[0], Sequence):\n",
    "            coeffs = coeffs[0]\n",
    "        coeffs = list(coeffs)\n",
    "        list.__init__(coeffs)\n",
    "        self.degree = self.find_degree()\n",
    "        \n",
    "    def find_degree(self):\n",
    "        '''\n",
    "        Find the degree of the polynomial.\n",
    "        This is not necessarily the length of the polynomial\n",
    "        as a list, since there may be redundant 0 terms at the end\n",
    "        '''\n",
    "        for i, coefficient in enumerate(self):\n",
    "            if coefficient != 0:\n",
    "                degree = i\n",
    "        return degree"
   ]
  },
  {
   "cell_type": "markdown",
   "metadata": {},
   "source": [
    "Now, we would like the polynomial not to appear as a list to the user, but as a nicely formatted string. These are the criterion for the representation:\n",
    "\n",
    "* Terms with coefficient 0 should be skipped and not displayed at all.\n",
    "* The constant term $a_0$ should appear just as a number.\n",
    "* If the coefficient is 1, don't display the coefficient ie. $x$ instead of $1x$.\n",
    "* The power should not be displayed in the linear ($x$) term, ie. $x$ not $x^1$.\n",
    "\n",
    "For this, we'll write a method that figures out how to display each term. Then we'll use the <code>\\__str\\__()</code> magic method to bring all the nicely formatted terms together and display them whenever the user writes <code>print(Polynomial)</code> or otherwise converts the polynomial to a string. A term of a polynomial is called a monomial:"
   ]
  },
  {
   "cell_type": "code",
   "execution_count": 52,
   "metadata": {
    "collapsed": true
   },
   "outputs": [],
   "source": [
    "class Polynomial(list):\n",
    "    '''\n",
    "    Polynomial class, essentially a list of coefficients with\n",
    "    a nice string representation, and correctly behaving addition,\n",
    "    multiplication, etc.\n",
    "    '''\n",
    "    def __init__(self, *coeffs):\n",
    "        from collections.abc import Sequence\n",
    "        if isinstance(coeffs[0], Sequence):\n",
    "            coeffs = coeffs[0]\n",
    "        list.__init__(self,coeffs)\n",
    "        self.degree = self.find_degree()\n",
    "\n",
    "    def find_degree(self):\n",
    "        '''\n",
    "        Find the degree of the polynomial.\n",
    "        This is not necessarily the length of the polynomial\n",
    "        as a list, since there may be redundant 0 terms at the end\n",
    "        '''\n",
    "        for i, coefficient in enumerate(self):\n",
    "            if coefficient != 0:\n",
    "                degree = i\n",
    "        return degree\n",
    "\n",
    "    def display_monomial(self, degree, coefficient):\n",
    "        '''\n",
    "        Correctly give a string representation of the given monomial\n",
    "        '''\n",
    "        if degree == 0:\n",
    "            return str(coefficient)\n",
    "        if degree == 1 and coefficient == 1:\n",
    "            return self.symbol\n",
    "        elif degree == 1 and coefficient != 1:\n",
    "            return \"{}{}\".format(coefficient, \"x\")\n",
    "        elif coefficient == 1:\n",
    "            return \"{}^{}\".format(\"x\", degree)\n",
    "        else:\n",
    "            return \"{}{}^{}\".format(coefficient, \"x\", degree)\n",
    "        \n",
    "    def __str__(self):\n",
    "        monos = [self.display_monomial(k, coeff) for k, coeff in enumerate(self) if coeff != 0]\n",
    "        return \" + \".join(monos)"
   ]
  },
  {
   "cell_type": "markdown",
   "metadata": {},
   "source": [
    "Now check it out!"
   ]
  },
  {
   "cell_type": "code",
   "execution_count": 55,
   "metadata": {},
   "outputs": [
    {
     "name": "stdout",
     "output_type": "stream",
     "text": [
      "3 + 7x + 3x^2 + x^3\n"
     ]
    }
   ],
   "source": [
    "simple_cubic = Polynomial((3, 7, 3, 1))\n",
    "print(simple_cubic)"
   ]
  },
  {
   "cell_type": "markdown",
   "metadata": {},
   "source": [
    "Looks good, eh? It's a list, but it displays differently when we print it. Neat.\n",
    "\n",
    "Now, another fact about polynomials is that they can be evaluated at a number by replacing each instance of the indeterminate $x$ with that number. We will make it so performing this operation is like calling a function, so for a polynomial $p$, $p(A)$ evaluates the polynomial at the point $A$. To do this, we use the magic method <code>\\__call\\__()</code>. The actual algorithm will take advantage of the fact that list indices are powers. By using <code>enumerate()</code>, we get a pair whose first element is the power, and second is the coefficient. All we need to do is evaluate $a_k(A)^k$ for each $k$ in the polynomial, and add together the results:"
   ]
  },
  {
   "cell_type": "code",
   "execution_count": 56,
   "metadata": {
    "collapsed": true
   },
   "outputs": [],
   "source": [
    "class Polynomial(list):\n",
    "    '''\n",
    "    Polynomial class, essentially a list of coefficients with\n",
    "    a nice string representation, and correctly behaving addition,\n",
    "    multiplication, etc.\n",
    "    '''\n",
    "    def __init__(self, *coeffs):\n",
    "        from collections.abc import Sequence\n",
    "        if isinstance(coeffs[0], Sequence):\n",
    "            coeffs = coeffs[0]\n",
    "        list.__init__(self,coeffs)\n",
    "        self.degree = self.find_degree()\n",
    "\n",
    "    def find_degree(self):\n",
    "        '''\n",
    "        Find the degree of the polynomial.\n",
    "        This is not necessarily the length of the polynomial\n",
    "        as a list, since there may be redundant 0 terms at the end\n",
    "        '''\n",
    "        for i, coefficient in enumerate(self):\n",
    "            if coefficient != 0:\n",
    "                degree = i\n",
    "        return degree\n",
    "\n",
    "    def display_monomial(self, degree, coefficient):\n",
    "        '''\n",
    "        Correctly give a string representation of the given monomial\n",
    "        '''\n",
    "        if degree == 0:\n",
    "            return str(coefficient)\n",
    "        if degree == 1 and coefficient == 1:\n",
    "            return self.symbol\n",
    "        elif degree == 1 and coefficient != 1:\n",
    "            return \"{}{}\".format(coefficient, \"x\")\n",
    "        elif coefficient == 1:\n",
    "            return \"{}^{}\".format(\"x\", degree)\n",
    "        else:\n",
    "            return \"{}{}^{}\".format(coefficient, \"x\", degree)\n",
    "        \n",
    "    def __str__(self):\n",
    "        monos = [self.display_monomial(k, coeff) for k, coeff in enumerate(self) if coeff != 0]\n",
    "        return \" + \".join(monos)\n",
    "    \n",
    "    def __call__(self, point):\n",
    "        '''\n",
    "        Evaluates the polynomial at the specified input\n",
    "        '''\n",
    "        return sum([co*point**i for i, co in enumerate(self)])"
   ]
  },
  {
   "cell_type": "code",
   "execution_count": 57,
   "metadata": {},
   "outputs": [
    {
     "data": {
      "text/plain": [
       "238"
      ]
     },
     "execution_count": 57,
     "metadata": {},
     "output_type": "execute_result"
    }
   ],
   "source": [
    "simple_cubic = Polynomial((3, 7, 3, 1))\n",
    "simple_cubic(5)"
   ]
  },
  {
   "cell_type": "markdown",
   "metadata": {},
   "source": [
    "Now let's deal with the arithmetic operations. To make the polynomials a little easier to work with, we'll also allow the polynomials to have a number added (which just adds to the constant ($a_0$) term), or be multiplied by a number, which multiplies each term by that number. We'll deal with this after, though.\n",
    "\n",
    "So, let's start with adding. Recall that if the polynomials are of different lengths, then the shorter polynomial is lengthened first with 0-coefficient terms. So we'll have to do that, as well.\n",
    "\n",
    "The <code>\\__add\\__()</code> method takes an additional argument alongside <code>self</code>: it is the thing to be added, of course. So <code>foo + bar</code> calls <code>foo.\\__add\\__(bar)</code>, essentially.\n",
    "\n",
    "The strategy will be to sort the two summands by length, and then generate a new polynomial with 0s added to the shorter one, then return a polynomial forged by summing the corresponding terms. For this, we'll create a \"match length\" method, too. "
   ]
  },
  {
   "cell_type": "code",
   "execution_count": null,
   "metadata": {
    "collapsed": true
   },
   "outputs": [],
   "source": [
    "    def match_length(self, p):\n",
    "        '''\n",
    "        Adding polynomials requires them to be same length\n",
    "        This method returns the same polynomial with additional zeros added to the end\n",
    "        to match the length of the polynomial p\n",
    "        '''\n",
    "        added_zeros = [0 for i in range(len(p) - len(self))]\n",
    "        return Polynomial(list(self) + added_zeros)\n",
    "    \n",
    "    \n",
    "    def __add__(self, p):\n",
    "        polys = [self, p]\n",
    "        polys.sort(key=len)\n",
    "        matched_length = polys[0].match_length(polys[1])\n",
    "        return Polynomial([co[0] + co[1] for co in zip(polys[1], matched_length)])"
   ]
  },
  {
   "cell_type": "markdown",
   "metadata": {},
   "source": [
    "So let's break it down real quick. First we create a list with the summands, then we sort them using key=len, which sorts by length. Then we create a new polynomial by calling the <code>match_length</code> method on the shorter of the two polynomials.\n",
    "\n",
    "Finally, we output a new polynomial. This list comprehension looks a little bit busy, but we can break it down. What the \"loop\" part <code>for co in zip(polys[1], matched_length)</code>, doing? Well, <code>zip()</code> takes two lists and creates a generator that generators corresponding pairs:"
   ]
  },
  {
   "cell_type": "code",
   "execution_count": 59,
   "metadata": {},
   "outputs": [
    {
     "name": "stdout",
     "output_type": "stream",
     "text": [
      "[(1, 'a'), (2, 'b'), (3, 'c')]\n"
     ]
    }
   ],
   "source": [
    "list1 = [1, 2, 3]\n",
    "list2 = [\"a\", \"b\", \"c\"]\n",
    "list3 = list(zip(list1, list2))\n",
    "print(list3)"
   ]
  },
  {
   "cell_type": "markdown",
   "metadata": {},
   "source": [
    "Then <code>co[0] + co[1]</code> is simply summing the pairs of corresponding coefficients.\n",
    "\n",
    "Now, we also want to be able to add a number. To do this, we will first create a method to check whether an input is in fact a number. If it is a number, we'll turn it into a polynomial with 1 term, and then just add it using the addition algorithm we already defined just now."
   ]
  },
  {
   "cell_type": "code",
   "execution_count": null,
   "metadata": {
    "collapsed": true
   },
   "outputs": [],
   "source": [
    "    def isnumber(self, p):\n",
    "        from numbers import Number\n",
    "        return isinstance(p, Number)\n",
    "    \n",
    "    def __add__(self, p):\n",
    "        from numbers import Number\n",
    "        # First, if we add a number rather than another polynomial,\n",
    "        # we just return a polynomial whose constant (0th) term has\n",
    "        # p added\n",
    "        if self.isnumber(p):\n",
    "            return self + Polynomial(p)\n",
    "\n",
    "        polys = [self, p]\n",
    "        polys.sort(key=len)\n",
    "        matched_length = polys[0].match_length(polys[1])\n",
    "        return Polynomial([co[0] + co[1] for co in zip(polys[1], matched_length)])"
   ]
  },
  {
   "cell_type": "markdown",
   "metadata": {},
   "source": [
    "All together, we now have: "
   ]
  },
  {
   "cell_type": "code",
   "execution_count": 60,
   "metadata": {
    "collapsed": true
   },
   "outputs": [],
   "source": [
    "class Polynomial(list):\n",
    "    '''\n",
    "    Polynomial class, essentially a list of coefficients with\n",
    "    a nice string representation, and correctly behaving addition,\n",
    "    multiplication, etc.\n",
    "    '''\n",
    "    def __init__(self, *coeffs):\n",
    "        from collections.abc import Sequence\n",
    "        if isinstance(coeffs[0], Sequence):\n",
    "            coeffs = coeffs[0]\n",
    "        list.__init__(self, coeffs)\n",
    "        self.degree = self.find_degree()\n",
    "\n",
    "    def find_degree(self):\n",
    "        '''\n",
    "        Find the degree of the polynomial.\n",
    "        This is not necessarily the length of the polynomial\n",
    "        as a list, since there may be redundant 0 terms at the end\n",
    "        '''\n",
    "        for i, coefficient in enumerate(self):\n",
    "            if coefficient != 0:\n",
    "                degree = i\n",
    "        return degree\n",
    "\n",
    "    def display_monomial(self, degree, coefficient):\n",
    "        '''\n",
    "        Correctly give a string representation of the given monomial\n",
    "        '''\n",
    "        if degree == 0:\n",
    "            return str(coefficient)\n",
    "        if degree == 1 and coefficient == 1:\n",
    "            return self.symbol\n",
    "        elif degree == 1 and coefficient != 1:\n",
    "            return \"{}{}\".format(coefficient, \"x\")\n",
    "        elif coefficient == 1:\n",
    "            return \"{}^{}\".format(\"x\", degree)\n",
    "        else:\n",
    "            return \"{}{}^{}\".format(coefficient, \"x\", degree)\n",
    "\n",
    "\n",
    "    def __str__(self):\n",
    "        monos = [self.display_monomial(k, coeff) for k, coeff in enumerate(self) if coeff != 0]\n",
    "        return \" + \".join(monos)\n",
    "\n",
    "\n",
    "    def __call__(self, point):\n",
    "        '''\n",
    "        Evaluates the polynomial at the specified input\n",
    "        '''\n",
    "        return sum([co*point**i for i, co in enumerate(self)])\n",
    "\n",
    "\n",
    "    def match_length(self, p):\n",
    "        '''\n",
    "        Adding polynomials requires them to be same length\n",
    "        This method returns the same polynomial with additional zeros added to the end\n",
    "        to match the length of the polynomial p\n",
    "        '''\n",
    "        added_zeros = [0 for i in range(len(p) - len(self))]\n",
    "        return Polynomial(list(self) + added_zeros)\n",
    "\n",
    "    def isnumber(self, p):\n",
    "        from numbers import Number\n",
    "        return isinstance(p, Number)\n",
    "                    \n",
    "                    \n",
    "    def __add__(self, p):\n",
    "        from numbers import Number\n",
    "        # First, if we add a number rather than another polynomial,\n",
    "        # we just return a polynomial whose constant (0th) term has\n",
    "        # p added\n",
    "        if self.isnumber(p):\n",
    "            return self + Polynomial(p)\n",
    "\n",
    "        polys = [self, p]\n",
    "        polys.sort(key=len)\n",
    "        matched_length = polys[0].match_length(polys[1])\n",
    "        return Polynomial([co[0] + co[1] for co in zip(polys[1], matched_length)])"
   ]
  },
  {
   "cell_type": "code",
   "execution_count": 61,
   "metadata": {
    "collapsed": true
   },
   "outputs": [],
   "source": [
    "a_polynomial = Polynomial(43, -23, 2, 0, 4)"
   ]
  },
  {
   "cell_type": "code",
   "execution_count": 63,
   "metadata": {},
   "outputs": [
    {
     "name": "stdout",
     "output_type": "stream",
     "text": [
      "43 + -23x + 2x^2 + 4x^4\n",
      "86 + -46x + 4x^2 + 8x^4\n",
      "53 + -23x + 2x^2 + 4x^4\n"
     ]
    }
   ],
   "source": [
    "print(a_polynomial)\n",
    "print(a_polynomial + a_polynomial) \n",
    "print(a_polynomial + 10)"
   ]
  },
  {
   "cell_type": "markdown",
   "metadata": {},
   "source": [
    "Works like a charm. Now we have addition, defining subtraction is easy. We first define the negative of a polynomial, and then define subtraction to be adding the negative:"
   ]
  },
  {
   "cell_type": "code",
   "execution_count": null,
   "metadata": {
    "collapsed": true
   },
   "outputs": [],
   "source": [
    "    def __neg__(self):\n",
    "        return Polynomial([-a for a in self])\n",
    "\n",
    "    def __sub__(self, p):\n",
    "        return self + (-p)"
   ]
  },
  {
   "cell_type": "markdown",
   "metadata": {},
   "source": [
    "Now then, multplication. Actually, I'm not so happy with the multiplication algorithm here. It's very ugly, and in no way easy to understand. I'll explain it briefly, but I also encourage you to have a go at doing a better job than me. The algorithm is based on the fact that the coefficient of the $k$th term in a polynomial that is the product of two polynomials is the sum of products of coefficients in the multiplicands whose indices sum to $k$. So I use a generator to generator pairs of numbers that sum to $k$, and then multiply the corresponding terms using a nested list comprehension. Mathematically, if polynomials with coefficients $b_i$s and $c_j$s are multiplied, then\n",
    "\n",
    "$$a_k = \\sum_{i + j = k} b_ic_j,$$\n",
    "\n",
    "which may be clearer if you are used to reading mathematical formulas.\n",
    "\n",
    "Honestly, feel free to skip over this section."
   ]
  },
  {
   "cell_type": "code",
   "execution_count": null,
   "metadata": {
    "collapsed": true
   },
   "outputs": [],
   "source": [
    "    def same_sum_pairs(self, i, j): \n",
    "        '''\n",
    "        Generates tuples containing pairs of powers\n",
    "        having the same sum, upto required degree\n",
    "        '''\n",
    "        from itertools import product\n",
    "        for k in range(i + j - 1): # need to -1 here because polynomial degree = highest power =\n",
    "            yield (pair for pair in product(range(i), range(j)) if pair[0] + pair[1] == k)\n",
    "            \n",
    "    def __mul__(self,p):\n",
    "        # Multiplication by a number just multiplies each\n",
    "        # term by the number\n",
    "        if self.isnumber(p):\n",
    "            return self * Polynomial(p)\n",
    "        deg1, deg2 = len(self), len(p)\n",
    "        terms = [[self[i]*p[j] for i, j in degree_pairs] # list comprehensions within list comprehensions\n",
    "                for degree_pairs in self.same_sum_pairs(deg1, deg2)] # never go deeper!\n",
    "        return Polynomial([sum(term) for term in terms])"
   ]
  },
  {
   "cell_type": "markdown",
   "metadata": {},
   "source": [
    "There's one final thing we should account for. We have told the polynomial what to do if it is in the situation: <code>Polynomial + something</code> and <code>Polynomial * something</code>. But what about <code>something + Polynomial</code>? Usually this will work anyway because the <code>something</code> will itself be a polynomial, and so Python will use <code>something</code>'s addition method. But we have also allowed <code>something</code> to be a number, which doesn't no what to do if it meets our polynomial object. Thankfully this is easily fixed. The magic methods <code>\\__radd\\__()</code> and <code>\\__rmul\\__()</code> (I think the r stands for right) is for this situation, and in that case it's easy to just to swap the summands or multiplicands round:"
   ]
  },
  {
   "cell_type": "code",
   "execution_count": null,
   "metadata": {
    "collapsed": true
   },
   "outputs": [],
   "source": [
    "    def __radd__(self, p):\n",
    "        return self + p # turns p + self into self + p, for example.\n",
    "\n",
    "    def __rmul__(self, p):\n",
    "        return self * p"
   ]
  },
  {
   "cell_type": "markdown",
   "metadata": {},
   "source": [
    "So let's put all that together before we tackle the derivative operation."
   ]
  },
  {
   "cell_type": "code",
   "execution_count": 64,
   "metadata": {
    "collapsed": true
   },
   "outputs": [],
   "source": [
    "class Polynomial(list):\n",
    "    '''\n",
    "    Polynomial class, essentially a list of coefficients with\n",
    "    a nice string representation, and correctly behaving addition,\n",
    "    multiplication, etc.\n",
    "    '''\n",
    "    def __init__(self, *coeffs):\n",
    "        from collections.abc import Sequence\n",
    "        if isinstance(coeffs[0], Sequence):\n",
    "            coeffs = coeffs[0]\n",
    "        list.__init__(self, coeffs)\n",
    "        self.degree = self.find_degree()\n",
    "\n",
    "    def find_degree(self):\n",
    "        '''\n",
    "        Find the degree of the polynomial.\n",
    "        This is not necessarily the length of the polynomial\n",
    "        as a list, since there may be redundant 0 terms at the end\n",
    "        '''\n",
    "        for i, coefficient in enumerate(self):\n",
    "            if coefficient != 0:\n",
    "                degree = i\n",
    "        return degree\n",
    "\n",
    "    def display_monomial(self, degree, coefficient):\n",
    "        '''\n",
    "        Correctly give a string representation of the given monomial\n",
    "        '''\n",
    "        if degree == 0:\n",
    "            return str(coefficient)\n",
    "        if degree == 1 and coefficient == 1:\n",
    "            return self.symbol\n",
    "        elif degree == 1 and coefficient != 1:\n",
    "            return \"{}{}\".format(coefficient, \"x\")\n",
    "        elif coefficient == 1:\n",
    "            return \"{}^{}\".format(\"x\", degree)\n",
    "        else:\n",
    "            return \"{}{}^{}\".format(coefficient, \"x\", degree)\n",
    "\n",
    "\n",
    "    def __str__(self):\n",
    "        monos = [self.display_monomial(k, coeff) for k, coeff in enumerate(self) if coeff != 0]\n",
    "        return \" + \".join(monos)\n",
    "\n",
    "\n",
    "    def __call__(self, point):\n",
    "        '''\n",
    "        Evaluates the polynomial at the specified input\n",
    "        '''\n",
    "        return sum([co*point**i for i, co in enumerate(self)])\n",
    "\n",
    "\n",
    "    def match_length(self, p):\n",
    "        '''\n",
    "        Adding polynomials requires them to be same length\n",
    "        This method returns the same polynomial with additional zeros added to the end\n",
    "        to match the length of the polynomial p\n",
    "        '''\n",
    "        added_zeros = [0 for i in range(len(p) - len(self))]\n",
    "        return Polynomial(list(self) + added_zeros)\n",
    "\n",
    "    def isnumber(self, p):\n",
    "        from numbers import Number\n",
    "        return isinstance(p, Number)\n",
    "                    \n",
    "                    \n",
    "    def __add__(self, p):\n",
    "        from numbers import Number\n",
    "        # First, if we add a number rather than another polynomial,\n",
    "        # we just return a polynomial whose constant (0th) term has\n",
    "        # p added\n",
    "        if self.isnumber(p):\n",
    "            return self + Polynomial(p)\n",
    "\n",
    "        polys = [self, p]\n",
    "        polys.sort(key=len)\n",
    "        matched_length = polys[0].match_length(polys[1])\n",
    "        return Polynomial([co[0] + co[1] for co in zip(polys[1], matched_length)])\n",
    "\n",
    "    def __neg__(self):\n",
    "        return Polynomial([-a for a in self])\n",
    "\n",
    "    def __sub__(self, p):\n",
    "        return self + (-p)\n",
    "\n",
    "    def same_sum_pairs(self, i, j): \n",
    "        '''\n",
    "        Generates tuples containing pairs of powers\n",
    "        having the same sum, upto required degree\n",
    "        '''\n",
    "        from itertools import product\n",
    "        for k in range(i + j - 1): # need to -1 here because polynomial degree = highest power =\n",
    "            yield (pair for pair in product(range(i), range(j)) if pair[0] + pair[1] == k)\n",
    "\n",
    "    def __mul__(self,p):\n",
    "        # Multiplication by a number just multiplies each\n",
    "        # term by the number\n",
    "        if self.isnumber(p):\n",
    "            return self * Polynomial(p)\n",
    "        deg1, deg2 = len(self), len(p)\n",
    "        terms = [[self[i]*p[j] for i, j in degree_pairs] # list comprehensions within list comprehensions\n",
    "                for degree_pairs in self.same_sum_pairs(deg1, deg2)] # never go deeper!\n",
    "        return Polynomial([sum(term) for term in terms])\n",
    "\n",
    "    def __radd__(self, p):\n",
    "        return self + p \n",
    "\n",
    "    def __rmul__(self, p):\n",
    "        return self * p"
   ]
  },
  {
   "cell_type": "code",
   "execution_count": 68,
   "metadata": {
    "collapsed": true
   },
   "outputs": [],
   "source": [
    "polyA = Polynomial(44, 23, 42)\n",
    "polyB = Polynomial(3, 6)"
   ]
  },
  {
   "cell_type": "code",
   "execution_count": 69,
   "metadata": {},
   "outputs": [
    {
     "name": "stdout",
     "output_type": "stream",
     "text": [
      "47 + 29x + 42x^2\n"
     ]
    }
   ],
   "source": [
    "print(polyA + polyB)"
   ]
  },
  {
   "cell_type": "code",
   "execution_count": 70,
   "metadata": {},
   "outputs": [
    {
     "name": "stdout",
     "output_type": "stream",
     "text": [
      "132 + 333x + 264x^2 + 252x^3\n"
     ]
    }
   ],
   "source": [
    "print(polyA*polyB)"
   ]
  },
  {
   "cell_type": "code",
   "execution_count": 71,
   "metadata": {},
   "outputs": [
    {
     "name": "stdout",
     "output_type": "stream",
     "text": [
      "6 + 12x\n"
     ]
    }
   ],
   "source": [
    "print(polyB*2)"
   ]
  },
  {
   "cell_type": "code",
   "execution_count": 72,
   "metadata": {},
   "outputs": [
    {
     "name": "stdout",
     "output_type": "stream",
     "text": [
      "6 + 12x\n"
     ]
    }
   ],
   "source": [
    "print(2*polyB)"
   ]
  },
  {
   "cell_type": "markdown",
   "metadata": {},
   "source": [
    "Cool. All working! The last thing is that derivative. This is quite straightforward. Using a list comprehension, we multiply each coefficient by its corresponding degree. Then to reduce the degree by 1, we output a new polynomial but omitting the first element of the list. So $3 + 3x + 4x^2$ first becomes $0 + 3x + 8x^2$. Then we omit the 0, and pass the $3$ and $8$ to the polynomial class to become $3 + 8x$, which is the correct derivative:"
   ]
  },
  {
   "cell_type": "code",
   "execution_count": null,
   "metadata": {
    "collapsed": true
   },
   "outputs": [],
   "source": [
    "    def derivative(self):\n",
    "        coefficients = [i*coef for i, coef in enumerate(self)]\n",
    "        return Polynomial(coefficients[1:])"
   ]
  },
  {
   "cell_type": "markdown",
   "metadata": {},
   "source": [
    "The finished product:"
   ]
  },
  {
   "cell_type": "code",
   "execution_count": 73,
   "metadata": {
    "collapsed": true
   },
   "outputs": [],
   "source": [
    "class Polynomial(list):\n",
    "    '''\n",
    "    Polynomial class, essentially a list of coefficients with\n",
    "    a nice string representation, and correctly behaving addition,\n",
    "    multiplication, etc.\n",
    "    '''\n",
    "    def __init__(self, *coeffs):\n",
    "        from collections.abc import Sequence\n",
    "        if isinstance(coeffs[0], Sequence):\n",
    "            coeffs = coeffs[0]\n",
    "        list.__init__(self, coeffs)\n",
    "        self.degree = self.find_degree()\n",
    "\n",
    "    def find_degree(self):\n",
    "        '''\n",
    "        Find the degree of the polynomial.\n",
    "        This is not necessarily the length of the polynomial\n",
    "        as a list, since there may be redundant 0 terms at the end\n",
    "        '''\n",
    "        for i, coefficient in enumerate(self):\n",
    "            if coefficient != 0:\n",
    "                degree = i\n",
    "        return degree\n",
    "\n",
    "    def display_monomial(self, degree, coefficient):\n",
    "        '''\n",
    "        Correctly give a string representation of the given monomial\n",
    "        '''\n",
    "        if degree == 0:\n",
    "            return str(coefficient)\n",
    "        if degree == 1 and coefficient == 1:\n",
    "            return self.symbol\n",
    "        elif degree == 1 and coefficient != 1:\n",
    "            return \"{}{}\".format(coefficient, \"x\")\n",
    "        elif coefficient == 1:\n",
    "            return \"{}^{}\".format(\"x\", degree)\n",
    "        else:\n",
    "            return \"{}{}^{}\".format(coefficient, \"x\", degree)\n",
    "\n",
    "\n",
    "    def __str__(self):\n",
    "        monos = [self.display_monomial(k, coeff) for k, coeff in enumerate(self) if coeff != 0]\n",
    "        return \" + \".join(monos)\n",
    "\n",
    "\n",
    "    def __call__(self, point):\n",
    "        '''\n",
    "        Evaluates the polynomial at the specified input\n",
    "        '''\n",
    "        return sum([co*point**i for i, co in enumerate(self)])\n",
    "\n",
    "\n",
    "    def match_length(self, p):\n",
    "        '''\n",
    "        Adding polynomials requires them to be same length\n",
    "        This method returns the same polynomial with additional zeros added to the end\n",
    "        to match the length of the polynomial p\n",
    "        '''\n",
    "        added_zeros = [0 for i in range(len(p) - len(self))]\n",
    "        return Polynomial(list(self) + added_zeros)\n",
    "\n",
    "    def isnumber(self, p):\n",
    "        from numbers import Number\n",
    "        return isinstance(p, Number)\n",
    "                    \n",
    "                    \n",
    "    def __add__(self, p):\n",
    "        from numbers import Number\n",
    "        # First, if we add a number rather than another polynomial,\n",
    "        # we just return a polynomial whose constant (0th) term has\n",
    "        # p added\n",
    "        if self.isnumber(p):\n",
    "            return self + Polynomial(p)\n",
    "\n",
    "        polys = [self, p]\n",
    "        polys.sort(key=len)\n",
    "        matched_length = polys[0].match_length(polys[1])\n",
    "        return Polynomial([co[0] + co[1] for co in zip(polys[1], matched_length)])\n",
    "\n",
    "    def __neg__(self):\n",
    "        return Polynomial([-a for a in self])\n",
    "\n",
    "    def __sub__(self, p):\n",
    "        return self + (-p)\n",
    "\n",
    "    def same_sum_pairs(self, i, j): \n",
    "        '''\n",
    "        Generates tuples containing pairs of powers\n",
    "        having the same sum, upto required degree\n",
    "        '''\n",
    "        from itertools import product\n",
    "        for k in range(i + j - 1): # need to -1 here because polynomial degree = highest power =\n",
    "            yield (pair for pair in product(range(i), range(j)) if pair[0] + pair[1] == k)\n",
    "\n",
    "    def __mul__(self,p):\n",
    "        # Multiplication by a number just multiplies each\n",
    "        # term by the number\n",
    "        if self.isnumber(p):\n",
    "            return self * Polynomial(p)\n",
    "        deg1, deg2 = len(self), len(p)\n",
    "        terms = [[self[i]*p[j] for i, j in degree_pairs] # list comprehensions within list comprehensions\n",
    "                for degree_pairs in self.same_sum_pairs(deg1, deg2)] # never go deeper!\n",
    "        return Polynomial([sum(term) for term in terms])\n",
    "\n",
    "    def __radd__(self, p):\n",
    "        return self + p \n",
    "\n",
    "    def __rmul__(self, p):\n",
    "        return self * p\n",
    "\n",
    "    def derivative(self):\n",
    "        coefficients = [i*coef for i, coef in enumerate(self)]\n",
    "        return Polynomial(coefficients[1:])"
   ]
  },
  {
   "cell_type": "markdown",
   "metadata": {},
   "source": [
    "Let's test the derivative feature:"
   ]
  },
  {
   "cell_type": "code",
   "execution_count": 74,
   "metadata": {
    "collapsed": true
   },
   "outputs": [],
   "source": [
    "p = Polynomial(1, 2, 3, 4)\n",
    "q = Polynomial([6, 3, 2, 1]) # remember: our poly doesn't care if it receives a list"
   ]
  },
  {
   "cell_type": "code",
   "execution_count": 79,
   "metadata": {},
   "outputs": [
    {
     "name": "stdout",
     "output_type": "stream",
     "text": [
      "2 + 6x + 12x^2\n"
     ]
    }
   ],
   "source": [
    "print(p.derivative())"
   ]
  },
  {
   "cell_type": "code",
   "execution_count": 80,
   "metadata": {},
   "outputs": [
    {
     "name": "stdout",
     "output_type": "stream",
     "text": [
      "6 + 24x\n"
     ]
    }
   ],
   "source": [
    "# second derivatives\n",
    "print(p.derivative().derivative())"
   ]
  },
  {
   "cell_type": "markdown",
   "metadata": {},
   "source": [
    "To make this nicer, we could create an alias for the derivative like this:"
   ]
  },
  {
   "cell_type": "code",
   "execution_count": 77,
   "metadata": {
    "collapsed": true
   },
   "outputs": [],
   "source": [
    "D = lambda p : p.derivative()"
   ]
  },
  {
   "cell_type": "code",
   "execution_count": 81,
   "metadata": {},
   "outputs": [
    {
     "name": "stdout",
     "output_type": "stream",
     "text": [
      "2 + 6x + 12x^2\n"
     ]
    }
   ],
   "source": [
    "print(D(p))"
   ]
  },
  {
   "cell_type": "code",
   "execution_count": 84,
   "metadata": {},
   "outputs": [
    {
     "name": "stdout",
     "output_type": "stream",
     "text": [
      "10 + 21x + 26x^2 + 38x^3 + 20x^4 + 11x^5 + 4x^6\n"
     ]
    }
   ],
   "source": [
    "print(q*p + D(D(q)))"
   ]
  },
  {
   "cell_type": "markdown",
   "metadata": {},
   "source": [
    "See how easy the polynomial arithmetic is now we've made a class that can do it all using the normal arithmetic operations?\n",
    "\n",
    "The derivative even obeys the Leibniz rule:"
   ]
  },
  {
   "cell_type": "code",
   "execution_count": 83,
   "metadata": {},
   "outputs": [
    {
     "name": "stdout",
     "output_type": "stream",
     "text": [
      "True\n"
     ]
    }
   ],
   "source": [
    "print(D(p*q) == D(p)*q + p*D(q))"
   ]
  },
  {
   "cell_type": "markdown",
   "metadata": {},
   "source": [
    "As we have mentioned, there are many more magic methods. There's a pretty comprehensive list here http://www.diveintopython3.net/special-method-names.html, so check it out if you want your class to have a certain behaviour.\n",
    "\n",
    "## Exercises\n",
    "\n",
    "1. (Mathematical) Create a matrix class which can perform matrix multiplication and addition. You'll need to check if the two matrices have the correct dimensions to be added and multiplied!\n",
    "2. Create a subclass of <code>list</code> for which the <code>.pop()</code> method returns and deletes the maximally valued element of the list, rather than the last element of the list.\n",
    "3. In your Python installation, find the <code>collections</code> library. In the <code>\\__init\\__.py</code> file, find the <code>Counter</code> object, and look at the magic methods used to give it some of its extra behaviours. Try to unerstand at least the <code>\\__add\\__()</code> method."
   ]
  },
  {
   "cell_type": "code",
   "execution_count": null,
   "metadata": {
    "collapsed": true
   },
   "outputs": [],
   "source": []
  }
 ],
 "metadata": {
  "kernelspec": {
   "display_name": "Python 3",
   "language": "python",
   "name": "python3"
  },
  "language_info": {
   "codemirror_mode": {
    "name": "ipython",
    "version": 3
   },
   "file_extension": ".py",
   "mimetype": "text/x-python",
   "name": "python",
   "nbconvert_exporter": "python",
   "pygments_lexer": "ipython3",
   "version": "3.6.1"
  }
 },
 "nbformat": 4,
 "nbformat_minor": 2
}
