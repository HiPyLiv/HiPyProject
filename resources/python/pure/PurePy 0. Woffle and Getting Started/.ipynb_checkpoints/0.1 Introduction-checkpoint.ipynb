{
 "cells": [
  {
   "cell_type": "markdown",
   "metadata": {},
   "source": [
    "![Header2](header1.png)\n",
    "\n",
    "# What is Python?\n",
    "\n",
    "Ever wanted to learn to code? Maybe there are some tasks you do over and over that you'd love to get a computer to do them for you. Perhaps you've got an idea for an app, but no way to make it happen. Or maybe you've heard that coding is an important skill in today's economy and want to get ahead. Maybe you're just curious.\n",
    "\n",
    "Or maybe you already know how to code? Perhaps you know one of the heavy-duty langauges like C++ or Java, but want something more fun for you smaller projects. Perhaps you're a science student raised on MATLAB, looking for a more widely available alternative for when you get out in the real world.\n",
    "\n",
    "Python is a free programming language created and maintained by Dutch programmer Guido Von Rossom. It's designed designed to be easy to read and learn, with many aspects of the language reading like English, and many technical aspects of programming handled \"behind the scenes\". This makes Python a great first language, and its quick-and-easy approach makes it a great tool even for seasoned programmers.\n",
    "\n",
    "The other side of the coin of \"what is Python?\" is analogous to the other side of the question \"What is English?\". On the one hand, it is a Germanic language, originating in England and spoken throughout the world. On the other, it is the canon of literature written in English, and the community of English speakers. Similarly, Python is the vast array of Python code that has already been written, much of it freely available online, so that other programmers may find it useful. These Python \"libraries\" offer tools for almost everything, from creating websites to analysing DNA sequences.\n",
    "\n",
    "Computers don't understand programming languages. They understand <i>machine code</i>, which is basically unreadable to humans. Therefore, a program must translate the <i>source code</i>, written in Python or another programming language, into machine code, which the computer can understand. This software for us is called a Python interpreter. We will sometimes be lazy with our language, and refer to the Python interpreter simply as \"Python\", as in \"Python won't understand what you mean if you type this wrong\", or \"Run Python\" (meaning \"Run a Python interpreter\").\n",
    "\n",
    "At HiPy, we recommend installing [Anaconda](https://www.continuum.io/downloads), which is the regular Python interpreter and standard library, plus many more great libraries and development tools. It's a big download, but having all the best tools right in front of you from the start is worth the payoff, in our opinion.\n",
    "\n",
    "\n",
    "# Three main ways to execute Python code\n",
    "\n",
    "So, let's assume you've installed Python (there we go already, lazily referring to the standard Python interpreter + libaries as \"Python\"), possibly via Anaconda. How do we get stuff to happen? Well, there are three main ways that you can start using Python right now. Each has different advantages for different situations.\n",
    "\n",
    "### Quick start note: Don't care about this stuff and want to just get on with PurePy 1? Run Spyder from the Anaconda launcher. Type code on the left of the screen, and hit $\\blacktriangleright$ to run it. The result will appear on the right.\n",
    "\n",
    "## Interactively\n",
    "\n",
    "Once Python is correctly installed, opening a command-line interface (see PurePy 0.2 for more on the command-line) and typing <code>python</code> will bring up something that looks like this:"
   ]
  },
  {
   "cell_type": "raw",
   "metadata": {},
   "source": [
    "Python 3.6.1 |Anaconda 4.4.0 (64-bit)| (default, May 11 2017, 13:09:58) \n",
    "[GCC 4.4.7 20120313 (Red Hat 4.4.7-1)] on linux\n",
    "Type \"help\", \"copyright\", \"credits\" or \"license\" for more information.\n",
    ">>>"
   ]
  },
  {
   "cell_type": "markdown",
   "metadata": {},
   "source": [
    "This is the interactive Python shell, and those three little >'s mean Python is ready to talk to you. You can type anything in here, and the interpreter will try to read it as if it is Python code. It will execute the line of code you typed, and then tell you the result.\n",
    "\n",
    "So the stuff we type has to be Python code. We cannot just say \"hello\", but if we do, nothing bad will happen. The interpreter just lets us know that this is not what it was expecting."
   ]
  },
  {
   "cell_type": "raw",
   "metadata": {},
   "source": [
    ">>> Hello Python!\n",
    "  File \"<stdin>\", line 1\n",
    "    Hello Python!\n",
    "               ^\n",
    "SyntaxError: invalid syntax\n",
    ">>>"
   ]
  },
  {
   "cell_type": "markdown",
   "metadata": {},
   "source": [
    "Try some arithmetic. The Python shell understands this at the very least:"
   ]
  },
  {
   "cell_type": "raw",
   "metadata": {},
   "source": [
    ">>> 5 / 2\n",
    "2.5\n",
    ">>>"
   ]
  },
  {
   "cell_type": "markdown",
   "metadata": {},
   "source": [
    "The interactive interface for Python has three main uses:\n",
    "\n",
    "- Performing very quick computations.\n",
    "- Testing bits of code before adding them to a big program.\n",
    "- Interacting with a program you've already written.\n",
    "\n",
    "The downsides are that you can't easily save what you've done. Without some effort, both your code and results are gone at the end of your session. This furthermore means that larger programming endeavours are unfeasible, because you can't just save your code and come back later.\n",
    "\n",
    "### IPython vs. Python\n",
    "\n",
    "An alternative version of the interactive Python interpreter exists called IPython, and it comes installed with Anaconda. It has loads of extra features to make inteteractive computing with Python easier, faster, and more readable. Both run the same code in the same way. The only downside, as I see it, to IPython is that it takes a few moments longer to start up.\n"
   ]
  },
  {
   "cell_type": "markdown",
   "metadata": {},
   "source": [
    "## Scripts: Editor + Interpreter\n",
    "\n",
    "So interactive computing is all well and good. But most of the time we want to write a larger program, that can perform more elaborate tasks, and we don't want to have to feed each step to the interpreter one at a time.\n",
    "\n",
    "So the alternative is to write all your code in a file, and then pass it to the Python interpreter to read through and execute. The Python file is called Python script, or Python module. Any software that can write a file of text can be used to write a Python module, but some are more suited to this task than others.\n",
    "\n",
    "### Important note\n",
    "\n",
    "When you are using Python interactively, the result of every computation is written to the screen as output. If you are running a Python script written in a text file, which may be thousands of lines long, it is unlikely that you will want to see the result of every single computation along the way. To see the result of a computation, use the <code>print()</code> command, for example, <code>print(5 / 2)</code> will display <code>2.5</code> to the screen.\n",
    "\n",
    "### IDEs\n",
    "\n",
    "An IDE is an \"integrated development environment\". Generally this means it's a piece of software that brings all the tools needed to write a program under one roof. So, the IDE will contain a text editor, for writing code. It may include a terminal, so you can access your computer's command line interface. It may include a Python interpreter, as well as debugging tools, version control, a file manager, and anything else a developer might need.\n",
    "\n",
    "![Spyder](SpyderPython 3.6_112.png)\n",
    "\n",
    "Included with Anaconda, <b>Spyder</b> is a perfectly fine IDE to start with that runs the IPython interface alongside the editor window. If you installed Anaconda, this is an easy way for you to get started! If, after a while, you're looking for something with more features, try <b>PyCharm</b>. If you're looking for something with less features that loads faster, try <b>Geany</b>.\n",
    "\n",
    "### Text editors\n",
    "\n",
    "While IDEs provide many conveniences, many Python programmers prefer to edit text in a specialized programming text editor, and then run their program from the command-line. A good text editor is really, really good at efficiently editing text. The various extra features provided by IDEs can be handled with other programs. At the very least, a programming text editor should have syntax highlighting, in which the text is displayed in different colours to show the structure of the program.\n",
    "\n",
    "A great choice for a programming text editor is [Atom](https://atom.io/), for any system, or [Notepad++](https://notepad-plus-plus.org/download/v6.9.1.html) if you're on Windows. Some popular text editors, like VIM and Emacs, are very powerful, but take days to learn to use -- learn Python first before deciding if it is worth your investment!\n",
    "\n",
    "![The Atom Text Editor](atom-python.png)\n",
    "\n",
    "If you choose this approach, <i>definitely</i> check out PurePy 0.2 about the command-line.\n",
    "\n",
    "Once you have written your text file, save it with the extension <code>.py</code>. Then you can go to your command line,  navigate to the directory containing that file, and type <code>python fileyoujustmade.py</code> to run it.\n",
    "\n",
    "## Jupyter Notebook\n",
    "\n",
    "This is a sort of hybrid between interactive and scripted Python. It is the Jupyter notebook, in which this document was created. Think of it as an interactive document, which talks to a Python interpreter and allows code to be written and executed, displaying the output within the document itself. It also, of course, allows segments of text to explain the code, supports $\\LaTeX$ for mathematical typesetting, and can display picture and other media. This makes Jupyter notebook great for data analysis, as your methodology (your code) and results (plots and such) can be displayed together in a single document. You can launch Juypter notebook from Anaconda, or from the command line with the command <code>jupyter-notebook</code>.\n",
    "\n",
    "Many online services, such as [CoCalc](www.cocalc.com) or [Azure](https://notebooks.azure.com/) offer online and collaborative Jupyter notebooks.\n",
    "\n",
    "To get started on Jupyter, write code in a cell, and hit shift+return to execute the code in the cell. If you want a cell to contain text, use the dropdown menu at the top of the screen to switch the cell type from \"Code\" to \"Markdown\"."
   ]
  },
  {
   "cell_type": "markdown",
   "metadata": {},
   "source": [
    "# What next?\n",
    "\n",
    "If you want to get started learning some Python programming now, skip ahead to PurePy 1. Alternatively, PurePy 0.2 provides a crash course in command-line computing, an important secondary skill for anyone doing programming. However, you will not lose out if you skip it for now and come back to it later, since presumably you came to HiPy to learn Python!"
   ]
  },
  {
   "cell_type": "code",
   "execution_count": null,
   "metadata": {
    "collapsed": true
   },
   "outputs": [],
   "source": []
  }
 ],
 "metadata": {
  "kernelspec": {
   "display_name": "Python 3",
   "language": "python",
   "name": "python3"
  },
  "language_info": {
   "codemirror_mode": {
    "name": "ipython",
    "version": 3
   },
   "file_extension": ".py",
   "mimetype": "text/x-python",
   "name": "python",
   "nbconvert_exporter": "python",
   "pygments_lexer": "ipython3",
   "version": "3.6.1"
  }
 },
 "nbformat": 4,
 "nbformat_minor": 2
}
