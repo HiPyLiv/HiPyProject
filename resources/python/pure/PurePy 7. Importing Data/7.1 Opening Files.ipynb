{
 "cells": [
  {
   "cell_type": "markdown",
   "metadata": {},
   "source": [
    "![header](header\n",
    "\n",
    "# Opening files\n",
    "\n",
    "When we're writing a program, it's pretty clear that we don't want to always have to type the data we're working with directly into the source code. Rather, we want to get the data from an external source: either the web, or a file on our computer. In this article, we're going to look at how to work with files in Python.\n",
    "\n",
    "Did you read the article about string manipulation, and in particular, the bit about character encodings? It might be helpful here!\n",
    "\n",
    "## The <code>open()</code> function and its modes\n",
    "\n",
    "Python has one built-in function for getting the information out of a file, or writing information to a file. \n",
    "\n",
    "This is simply the <code>open()</code> function. Its first argument is always a string, which is the path to a file.\n",
    "\n",
    "If you checked out the lesson on using the command line (and if you haven't you really should!), the way that file paths work should be very familiar. They can be either relative or absolute. Relative to what? Well, Python has a current working directory, just like you do when you are working via the command line. This will default to the current working directory you were in when you ran Python. Finally, in Python you should always use forward slashes in file paths, even if your computer uses backslashes. The <code>open()</code> function is smart and will figure this out for you -- it means the same code can easily open files on different operating systems!\n",
    "\n",
    "What happens next is dependent on the next argument: the mode. This will determine whether the file should be opened as text or as bytes, and whether you want to read the file or write to the file. We'll deal with these modes now.\n",
    "\n",
    "The function returns a file object, which you should store as a variable to refer to later (otherwise the file will be opened but you won't be able to access it).\n",
    "\n",
    "### Read mode, 'r'\n",
    "\n",
    "This is the mode you need to get the data out of a file as text; it is the default mode when opening. By default, it attempts to decode the file using the default encoding of your computer. For instance, a Windows computer and a Linux machine may have different default encodings. To be safe, it's best to specify the correct encoding by passing the keyword argument <code>encoding</code>. \n",
    "\n",
    "Let's open a text file and read its contents."
   ]
  },
  {
   "cell_type": "code",
   "execution_count": 9,
   "metadata": {
    "collapsed": true
   },
   "outputs": [],
   "source": [
    "example_file = open('haiku.txt', 'r', encoding='UTF-8')"
   ]
  },
  {
   "cell_type": "markdown",
   "metadata": {},
   "source": [
    "What can we do with this file? Well, we can try to extract its contents as a string, using <code>.read()</code>."
   ]
  },
  {
   "cell_type": "code",
   "execution_count": 10,
   "metadata": {
    "collapsed": true
   },
   "outputs": [],
   "source": [
    "contents = example_file.read()"
   ]
  },
  {
   "cell_type": "code",
   "execution_count": 11,
   "metadata": {},
   "outputs": [
    {
     "name": "stdout",
     "output_type": "stream",
     "text": [
      "This is a text file,\n",
      "UTF-8 encoding.\n",
      "It has two line breaks.\n"
     ]
    }
   ],
   "source": [
    "print(contents)"
   ]
  },
  {
   "cell_type": "markdown",
   "metadata": {},
   "source": [
    "What happens if we try to read it again?"
   ]
  },
  {
   "cell_type": "code",
   "execution_count": 12,
   "metadata": {
    "collapsed": true
   },
   "outputs": [],
   "source": [
    "contents2 = example_file.read()"
   ]
  },
  {
   "cell_type": "code",
   "execution_count": 13,
   "metadata": {},
   "outputs": [
    {
     "name": "stdout",
     "output_type": "stream",
     "text": [
      "\n"
     ]
    }
   ],
   "source": [
    "print(contents2)"
   ]
  },
  {
   "cell_type": "markdown",
   "metadata": {},
   "source": [
    "Nothing! What happened?\n",
    "\n",
    "When we read a file, you should imagine it like a tape. Just like a tape, once you have read to the end, you have to \"rewind\" it to read it again. To do this, use <code>.seek()</code>."
   ]
  },
  {
   "cell_type": "code",
   "execution_count": 14,
   "metadata": {},
   "outputs": [
    {
     "data": {
      "text/plain": [
       "0"
      ]
     },
     "execution_count": 14,
     "metadata": {},
     "output_type": "execute_result"
    }
   ],
   "source": [
    "# go back to the 0th byte\n",
    "example_file.seek(0)"
   ]
  },
  {
   "cell_type": "code",
   "execution_count": 15,
   "metadata": {},
   "outputs": [
    {
     "name": "stdout",
     "output_type": "stream",
     "text": [
      "This is a text file,\n",
      "UTF-8 encoding.\n",
      "It has two line breaks.\n"
     ]
    }
   ],
   "source": [
    "contents3 = example_file.read()\n",
    "print(contents3)"
   ]
  },
  {
   "cell_type": "markdown",
   "metadata": {},
   "source": [
    "And... it works again. Be warned though: <code>seek()</code> doesn't count characters! It counts bytes, and if you recall from the lesson on strings and text, UTF-8 uses a variable number of bytes to encode each character. So you can't reliably search around the text file using <code>seek()</code> -- you could end up \"between\" characters.\n",
    "\n",
    "This is one reason I implored in the strings lesson to convert your text into a Python string as soon as possible! Once it's a string, you're safe! You can forget all about bytes and encodings.\n",
    "\n",
    "Another nice features of the file object is that if you loop over the file object, you will get each line as a string:"
   ]
  },
  {
   "cell_type": "code",
   "execution_count": 18,
   "metadata": {},
   "outputs": [
    {
     "name": "stdout",
     "output_type": "stream",
     "text": [
      "THIS IS A TEXT FILE,\n",
      "\n",
      "UTF-8 ENCODING.\n",
      "\n",
      "IT HAS TWO LINE BREAKS.\n"
     ]
    }
   ],
   "source": [
    "example_file.seek(0)\n",
    "for line in example_file:\n",
    "    print(line.upper())"
   ]
  },
  {
   "cell_type": "markdown",
   "metadata": {},
   "source": [
    "Why are there line breaks in funny places? This is just because each line contains a newline (<code>\\n</code>) character, and each <code>print()</code> prints to a newline, leading to a doubling up of linebreaks.\n",
    "\n",
    "There's more good news on this front. Since different operating systems prefer different linebreak characters, the file object provided by <code>open()</code> is kind and clever enough to figure out where the linebreaks should be when you loop over it."
   ]
  },
  {
   "cell_type": "markdown",
   "metadata": {},
   "source": [
    "After opening any file, it is essential to close it when you are done -- ideally as soon as you have extracted the text as a string. If a file is opened by one program, other programs cannot use it. Moreover, if your program crashes unexpectedly and you didn't close the file, it may stay hanging around in memory, clogging up your computer and remaining unavailable."
   ]
  },
  {
   "cell_type": "code",
   "execution_count": 19,
   "metadata": {
    "collapsed": true
   },
   "outputs": [],
   "source": [
    "example_file.close()"
   ]
  },
  {
   "cell_type": "markdown",
   "metadata": {},
   "source": [
    "We'll soon meet a better way of closing files safely.\n",
    "\n",
    "### Write and append modes; 'w' and 'a'\n",
    "\n",
    "We now know how to get data from a file. The next task is to put data in, and we have two real choices here. Write mode will delete the contents of a file, ready to be re-written from scratch. Append mode will add to the end of the file. Let's just repeat that: <i>write mode will delete the contents of the file to be written</i>, so make sure you've definitely got the right file, and if in doubt, back it up. If the file does not exist, it will be created."
   ]
  },
  {
   "cell_type": "code",
   "execution_count": 23,
   "metadata": {
    "collapsed": true
   },
   "outputs": [],
   "source": [
    "new_file = open('newhaiku.txt', 'w', encoding='UTF-8')"
   ]
  },
  {
   "cell_type": "markdown",
   "metadata": {},
   "source": [
    "To write into the file, we use <code>.write()</code>"
   ]
  },
  {
   "cell_type": "code",
   "execution_count": 24,
   "metadata": {},
   "outputs": [
    {
     "data": {
      "text/plain": [
       "60"
      ]
     },
     "execution_count": 24,
     "metadata": {},
     "output_type": "execute_result"
    }
   ],
   "source": [
    "haiku = \"Always remember\\nto consider that new lines\\naren't automatic.\"\n",
    "new_file.write(haiku)"
   ]
  },
  {
   "cell_type": "markdown",
   "metadata": {},
   "source": [
    "Let's write again and see what happens"
   ]
  },
  {
   "cell_type": "code",
   "execution_count": 25,
   "metadata": {},
   "outputs": [
    {
     "name": "stdout",
     "output_type": "stream",
     "text": [
      "Always remember\n",
      "to consider that new lines\n",
      "aren't automatic.Always remember\n",
      "to consider that new lines\n",
      "aren't automatic.\n"
     ]
    }
   ],
   "source": [
    "new_file.write(haiku)\n",
    "new_file.close()\n",
    "file_check = open('newhaiku.txt', 'r', encoding='UTF-8')\n",
    "contents = file_check.read()\n",
    "print(contents)\n",
    "file_check.close()"
   ]
  },
  {
   "cell_type": "markdown",
   "metadata": {},
   "source": [
    "Unfortunately, it looks like I forgot that new lines aren't automatic. Let's add a correctly line-broken version to the end of this file."
   ]
  },
  {
   "cell_type": "code",
   "execution_count": 26,
   "metadata": {},
   "outputs": [
    {
     "name": "stdout",
     "output_type": "stream",
     "text": [
      "Always remember\n",
      "to consider that new lines\n",
      "aren't automatic.Always remember\n",
      "to consider that new lines\n",
      "aren't automatic.\n",
      "\n",
      "Always remember\n",
      "to consider that new lines\n",
      "aren't automatic.\n"
     ]
    }
   ],
   "source": [
    "haiku_file = open('newhaiku.txt', 'a', encoding='UTF-8') # 'a' for \"append\" mode\n",
    "\n",
    "haiku_file.write('\\n\\n') # two new lines\n",
    "haiku_file.write(haiku)\n",
    "haiku_file.close()\n",
    "\n",
    "file_check = open('newhaiku.txt', 'r', encoding='UTF-8')\n",
    "contents = file_check.read()\n",
    "print(contents)\n",
    "file_check.close()"
   ]
  },
  {
   "cell_type": "markdown",
   "metadata": {},
   "source": [
    "That's better.\n",
    "\n",
    "### Opening/writing things as bytes\n",
    "\n",
    "We have so far been opening files as text -- the bytes in the file are converted to strings of characters. But there are times when we might want to open the file as bytes. There are two main times we might want to do this.\n",
    "\n",
    "* The file is not a text file!\n",
    "* The file is a text file, but we don't know what the encoding is.\n",
    "\n",
    "In this latter case, we might want to open it as bytes and then use some method to try to determine the encoding, such as the <code>chardet</code> module from the previous topic. Opening something as bytes is just the same, but you add a <code>b</code>:"
   ]
  },
  {
   "cell_type": "code",
   "execution_count": 28,
   "metadata": {},
   "outputs": [
    {
     "name": "stdout",
     "output_type": "stream",
     "text": [
      "b\"Always remember\\nto consider that new lines\\naren't automatic.Always remember\\nto consider that new lines\\naren't automatic.\\n\\nAlways remember\\nto consider that new lines\\naren't automatic.\"\n",
      "{'encoding': 'ascii', 'confidence': 1.0, 'language': ''}\n"
     ]
    }
   ],
   "source": [
    "bytes_file = open('newhaiku.txt', 'rb')\n",
    "print(bytes_file.read())\n",
    "import chardet\n",
    "bytes_file.seek(0)\n",
    "print(chardet.detect(bytes_file.read()))\n",
    "bytes_file.close()"
   ]
  },
  {
   "cell_type": "markdown",
   "metadata": {},
   "source": [
    "This incorrect guess from <code>chardet</code> just confirms what we were saying last time, that UTF-8 and ASCII are identical on the ASCII characters."
   ]
  },
  {
   "cell_type": "markdown",
   "metadata": {},
   "source": [
    "## The <code>with</code> keyword\n",
    "\n",
    "So far, I've been drilling the importance of safely opening and closing files. But now, we're going to basically forget all that and show a better, safer way of opening files. You may have already seen it if you've been watching the videos closely. Check out this code:"
   ]
  },
  {
   "cell_type": "code",
   "execution_count": 29,
   "metadata": {},
   "outputs": [
    {
     "name": "stdout",
     "output_type": "stream",
     "text": [
      "This is a text file,\n",
      "UTF-8 encoding.\n",
      "It has two line breaks.\n"
     ]
    }
   ],
   "source": [
    "with open('haiku.txt', 'r', encoding='UTF-8') as haiku:\n",
    "    haiku_string = haiku.read()\n",
    "    \n",
    "print(haiku_string)"
   ]
  },
  {
   "cell_type": "markdown",
   "metadata": {},
   "source": [
    "And now, I don't need to close it. In fact, it's already closed. The <code>with</code> block opens the file only for the duration of the code in the block, and closes it when the <code>with</code> block has finished executing. The best part is that this happens regardless of <i>why</i> the <code>with</code> block finished executing, even if it's caused by a crash or if most of the block is skipped by <code>if</code>-statements.\n",
    "\n",
    "You should use <code>with</code> when you open files, extract the information you need from inside the <code>with</code> block, and then just move on, allowing <code>with</code> to close the file for you to free up the resources. The syntax is simple -- the <code>open()</code> function works just as before. The <code>as</code> keyword just assigns it to a variable.\n",
    "\n",
    "This method can be used for reading and writing files, and is the safest and most \"Pythonic\" way to work with files."
   ]
  },
  {
   "cell_type": "code",
   "execution_count": null,
   "metadata": {
    "collapsed": true
   },
   "outputs": [],
   "source": []
  }
 ],
 "metadata": {
  "kernelspec": {
   "display_name": "Python 3",
   "language": "python",
   "name": "python3"
  },
  "language_info": {
   "codemirror_mode": {
    "name": "ipython",
    "version": 3
   },
   "file_extension": ".py",
   "mimetype": "text/x-python",
   "name": "python",
   "nbconvert_exporter": "python",
   "pygments_lexer": "ipython3",
   "version": "3.6.1"
  }
 },
 "nbformat": 4,
 "nbformat_minor": 2
}
