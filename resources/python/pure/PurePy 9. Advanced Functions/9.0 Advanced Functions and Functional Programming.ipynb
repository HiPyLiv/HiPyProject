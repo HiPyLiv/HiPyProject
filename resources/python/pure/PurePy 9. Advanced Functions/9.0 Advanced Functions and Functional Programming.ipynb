{
 "cells": [
  {
   "cell_type": "markdown",
   "metadata": {},
   "source": [
    "![header](header.png)\n",
    "\n",
    "In this article we're gonna cover a lot of ground. So far we have seen that functions can be used to encapsulate tasks we want to perform throughout our programs. They take some input, perform some computation, and then give us an output. We're now going to explore a number of powerful concepts involving functions, culminating in a brief discussion of functional programming, a programming paradigm that is quite different to the methodology we have used so far.\n",
    "\n",
    "## First-class objects\n",
    "\n",
    "We've not got around to a proper discussion of objects yet. But they're all around us. A number is an object, a string is an object, a list is an object. Basically anything you can assign to a variable or pass to a function or get out of a function is an object.\n",
    "\n",
    "Well, turns out functions are objects too. You can assign functions to variables, use functions as arguments to functions, and even return functions from functions.\n",
    "\n",
    "We've actually briefly seen this before. In a previous video, we used the <code>max()</code> function to determine the maximum entry of a dictionary <i>by value</i> rather than by key. For this, we had to pass the <code>get</code> function to <code>max</code>, which gets the value from the key, to make the <code>max()</code> function behave in this way.\n",
    "\n",
    "Some of the concepts here will be based on this possibly surprising fact about functions.\n",
    "\n",
    "## Recursion\n",
    "\n",
    "An interesting fact about functions is that they can be called within their own definitions. This is useful for a surprising number of algorithms, and can sometimes lead to nicer code than loops. Just like with while-loops though, you have to make sure there is some point at which the functions stop calling and start returning values! This is called the \"base case\". A recursive function calls itself until it reaches the base case."
   ]
  },
  {
   "cell_type": "code",
   "execution_count": 9,
   "metadata": {},
   "outputs": [
    {
     "data": {
      "text/plain": [
       "514229"
      ]
     },
     "execution_count": 9,
     "metadata": {},
     "output_type": "execute_result"
    }
   ],
   "source": [
    "def fib(n):\n",
    "    # get the nth fibonacci number\n",
    "    if n == 1:\n",
    "        return 0\n",
    "    elif n == 2:\n",
    "        return 1\n",
    "    else:\n",
    "        return fib(n-1) + fib(n-2)\n",
    "    \n",
    "fib(30)"
   ]
  },
  {
   "cell_type": "markdown",
   "metadata": {},
   "source": [
    "The deal with recursion is that some problems are the sum of several smaller problems of the same kind. For example, a lot of searching problems, where we are searching for some item in a structure such as a file system, network or list, can be conceived of as searching through many sub-structures within that structure. For instance, searching for a file in a directory involves searching through sub-directories of that directory, which involves searching through sub-directories of the sub-directories, and so on. This task can be accomplish with a recursive algorithm."
   ]
  },
  {
   "cell_type": "markdown",
   "metadata": {},
   "source": [
    "### Exercises\n",
    "\n",
    "1. Look up the binary search algorithm and write a recursive function to implement it.\n",
    "2. (Mathematical, challenging) Laplace's algorithm for finding the determinant of a square matrix is recursive. Write a function that can take a square matrix as a list of lists and find its determinant using the recursive Laplace algorithm."
   ]
  },
  {
   "cell_type": "markdown",
   "metadata": {},
   "source": [
    "## Lambda expressions\n",
    "\n",
    "Functional programming is based on the formal mathematical system called the lambda calculus. A vestige of this origin lives on in so-called lambda expressions. This somewhat intimidating-sounding name is actually very simple. As one of the Python developers once said, if lambda were called \"makefunction\", no one would be confused. A lambda expression is essentially a function that consists solely of one or more inputs, followed by a return statement, all written on one line. Here is a simple lambda expression that squares a number:"
   ]
  },
  {
   "cell_type": "code",
   "execution_count": 10,
   "metadata": {},
   "outputs": [
    {
     "data": {
      "text/plain": [
       "<function __main__.<lambda>>"
      ]
     },
     "execution_count": 10,
     "metadata": {},
     "output_type": "execute_result"
    }
   ],
   "source": [
    "lambda x : x**2"
   ]
  },
  {
   "cell_type": "markdown",
   "metadata": {},
   "source": [
    "This is a complete description of a function. The variable <code>x</code> goes in, <code>x**2</code> comes out. The function consists of a single return expression. There can be no variable assignments or references; the function is solely defined by input and output. The function has no name attached to it, but it can still be assigned to a variable:"
   ]
  },
  {
   "cell_type": "code",
   "execution_count": 22,
   "metadata": {},
   "outputs": [
    {
     "name": "stdout",
     "output_type": "stream",
     "text": [
      "100\n"
     ]
    }
   ],
   "source": [
    "square = lambda x : x**2\n",
    "print(square(10))"
   ]
  },
  {
   "cell_type": "code",
   "execution_count": 42,
   "metadata": {},
   "outputs": [
    {
     "data": {
      "text/plain": [
       "125"
      ]
     },
     "execution_count": 42,
     "metadata": {},
     "output_type": "execute_result"
    }
   ],
   "source": [
    "power = lambda x, n: x**n\n",
    "power(5, 3)"
   ]
  },
  {
   "cell_type": "markdown",
   "metadata": {},
   "source": [
    "So, why lambdas? Sometimes, it's just quicker and easier to use lambdas. Suppose I want a function that tells me the number of digits in an integer:"
   ]
  },
  {
   "cell_type": "code",
   "execution_count": 14,
   "metadata": {
    "collapsed": true
   },
   "outputs": [],
   "source": [
    "digits = lambda x: len(str(x))"
   ]
  },
  {
   "cell_type": "code",
   "execution_count": 15,
   "metadata": {},
   "outputs": [
    {
     "data": {
      "text/plain": [
       "7"
      ]
     },
     "execution_count": 15,
     "metadata": {},
     "output_type": "execute_result"
    }
   ],
   "source": [
    "digits(4343452)"
   ]
  },
  {
   "cell_type": "markdown",
   "metadata": {},
   "source": [
    "Another primary use case is for functions that take a function as an argument, but the function you want to pass is too simple to be worth building separately."
   ]
  },
  {
   "cell_type": "markdown",
   "metadata": {},
   "source": [
    "Suppose I have a list of 2d vectors, represented as pairs of numbers. The norm of a vector $(a, b)$ is given by the Pythagorean formula $\\sqrt{a^2 + b^2}$. We wish to find the vector with the largest norm."
   ]
  },
  {
   "cell_type": "code",
   "execution_count": 33,
   "metadata": {
    "collapsed": true
   },
   "outputs": [],
   "source": [
    "# first make some random vectors\n",
    "from random import uniform\n",
    "vectors = [(uniform(-50, 50), uniform(-50, 50)) for x in range(20)]"
   ]
  },
  {
   "cell_type": "code",
   "execution_count": 38,
   "metadata": {},
   "outputs": [
    {
     "name": "stdout",
     "output_type": "stream",
     "text": [
      "(-45.3519046167027, 47.28755575244766)\n"
     ]
    }
   ],
   "source": [
    "# find vector with largest norm:\n",
    "largest = max(vectors, key= lambda v: (v[0]**2 + v[1]**2)**0.5)\n",
    "print(largest)"
   ]
  },
  {
   "cell_type": "markdown",
   "metadata": {},
   "source": [
    "Recall that the <code>key</code> argument provided to the <code>max()</code> function tells <code>max()</code> what method to use to measure the maximum. It must be a function. But instead of defining the function using the normal syntax, it was quicker and easier to write a little lambda function in that argument slot. The <code>.sort()</code> method that can be applied to lists can also take a key argument, so lambda expressions can be useful here too. "
   ]
  },
  {
   "cell_type": "markdown",
   "metadata": {},
   "source": [
    "### Exercises\n",
    "\n",
    "Write a lambda function that acts as an XOR logical operator. XOR stands for \"exclusively or\", and evaluates to true only when one of its arguments is true, but the other isn't. \"One, the other, but not both\". In other words, correctly define the XOR variable using a lambda function in this example so that the code runs:\n"
   ]
  },
  {
   "cell_type": "code",
   "execution_count": 52,
   "metadata": {},
   "outputs": [
    {
     "name": "stdout",
     "output_type": "stream",
     "text": [
      "False\n",
      "True\n",
      "True\n",
      "False\n"
     ]
    }
   ],
   "source": [
    "#XOR = your lambda expression here\n",
    "print(XOR(True, True))\n",
    "print(XOR(False, True))\n",
    "print(XOR(True, False))\n",
    "print(XOR(False, False))"
   ]
  },
  {
   "cell_type": "markdown",
   "metadata": {},
   "source": [
    "(Challenge) Write a lambda function that returns a new lambda function for raising an input to a chosen power. Again, correctly define the following variable so that the code runs:"
   ]
  },
  {
   "cell_type": "code",
   "execution_count": 50,
   "metadata": {},
   "outputs": [
    {
     "name": "stdout",
     "output_type": "stream",
     "text": [
      "25\n",
      "125\n",
      "0.2\n"
     ]
    }
   ],
   "source": [
    "# raiseto = your lambda here\n",
    "square = raiseto(2)\n",
    "print(square(5))\n",
    "cube = raiseto(3)\n",
    "print(cube(5))\n",
    "invert = raiseto(-1)\n",
    "print(invert(5))"
   ]
  },
  {
   "cell_type": "markdown",
   "metadata": {},
   "source": [
    "## \\*args and \\**kwargs\n",
    "\n",
    "In the introduction to functions, we saw that we had a choice between using positional arguments, and keyword arguments.\n",
    "\n",
    "Sometimes we may want a function that can take arbitrary collections of arguments. For instance, the <code>max()</code> can take an arbitrary number of positional arguments before accepting a keyword argument:"
   ]
  },
  {
   "cell_type": "code",
   "execution_count": null,
   "metadata": {
    "collapsed": true
   },
   "outputs": [],
   "source": [
    "# the abs() function gives the number's absolute value -- in this case, ignores the minus sign\n",
    "print(max(1, -5, 3, 4, -2, key=abs))"
   ]
  },
  {
   "cell_type": "markdown",
   "metadata": {},
   "source": [
    "Our own functions can match this behaviour, using a <code>\\*</code> symbol. A function parameter with a <code>\\*</code> at the beginning is understood to be a sequence of arguments of an unknown length."
   ]
  },
  {
   "cell_type": "code",
   "execution_count": 2,
   "metadata": {},
   "outputs": [
    {
     "name": "stdout",
     "output_type": "stream",
     "text": [
      "1. Apples\n",
      "2. Bananas\n",
      "3. Pears\n"
     ]
    }
   ],
   "source": [
    "def number_my_sequence(*seq):\n",
    "    for i, thing in enumerate(seq):\n",
    "        print(\"{}. {}\".format(i+1, thing))\n",
    "        \n",
    "number_my_sequence(\"Apples\", \"Bananas\", \"Pears\")"
   ]
  },
  {
   "cell_type": "markdown",
   "metadata": {},
   "source": [
    "There is something of an opposite notion; when calling a function, if an argument is preceded by the <code>\\*</code>, then if it is sequence-like, it will be \"unpacked\" before the function is called. Look carefully at the example. The <code>adder</code> function takes two arguments. We pass it just one argument, which is a sequence with two elements to be unpacked to form the two arguments:"
   ]
  },
  {
   "cell_type": "code",
   "execution_count": 3,
   "metadata": {},
   "outputs": [
    {
     "name": "stdout",
     "output_type": "stream",
     "text": [
      "11\n"
     ]
    }
   ],
   "source": [
    "def adder(a, b):\n",
    "    return a + b\n",
    "numbers = [5, 6]\n",
    "print(adder(*numbers))"
   ]
  },
  {
   "cell_type": "markdown",
   "metadata": {},
   "source": [
    "There is an equivalent syntax for keyword arguments. A <code>\\*\\*</code> added to the beginning of a parameter means that the keyword arguments provided here will be expanded to a dictionary:"
   ]
  },
  {
   "cell_type": "code",
   "execution_count": 5,
   "metadata": {},
   "outputs": [
    {
     "name": "stdout",
     "output_type": "stream",
     "text": [
      "{'name': 'Sam', 'working_with': 'HiPy'}\n"
     ]
    }
   ],
   "source": [
    "def kwarg_example(**things):\n",
    "    print(things)\n",
    "    \n",
    "kwarg_example(name=\"Sam\", working_with=\"HiPy\")"
   ]
  },
  {
   "cell_type": "markdown",
   "metadata": {},
   "source": [
    "The reverse syntax also applies as above, in that a dictionary can be expanded into keyword arguments with keys as keywords and values as arguments."
   ]
  },
  {
   "cell_type": "markdown",
   "metadata": {},
   "source": [
    "## Iterators and generators\n",
    "\n",
    "A brief bit of theoretical woffle before we get to the upshot. You have probably noticed that for-loops can be used on many different kinds of objects, such as ranges, lists, strings, tuples, dictionaries, and many others. Objects that can be looped over are called \"iterable\".  When placed in the context of a for-loop, they become an iterator, which means they know what to do each time the for-loop asks for the next item. We can actually do this manaully. Firstly, observe that at first, Python does not know what \"next\" means in terms of a string:"
   ]
  },
  {
   "cell_type": "code",
   "execution_count": 54,
   "metadata": {},
   "outputs": [
    {
     "ename": "TypeError",
     "evalue": "'str' object is not an iterator",
     "output_type": "error",
     "traceback": [
      "\u001b[1;31m---------------------------------------------------------------------------\u001b[0m",
      "\u001b[1;31mTypeError\u001b[0m                                 Traceback (most recent call last)",
      "\u001b[1;32m<ipython-input-54-55fe3782a3e9>\u001b[0m in \u001b[0;36m<module>\u001b[1;34m()\u001b[0m\n\u001b[0;32m      1\u001b[0m \u001b[0mpythonclub\u001b[0m \u001b[1;33m=\u001b[0m \u001b[1;34m\"HiPy\"\u001b[0m\u001b[1;33m\u001b[0m\u001b[0m\n\u001b[1;32m----> 2\u001b[1;33m \u001b[0mnext\u001b[0m\u001b[1;33m(\u001b[0m\u001b[0mpythonclub\u001b[0m\u001b[1;33m)\u001b[0m\u001b[1;33m\u001b[0m\u001b[0m\n\u001b[0m",
      "\u001b[1;31mTypeError\u001b[0m: 'str' object is not an iterator"
     ]
    }
   ],
   "source": [
    "pythonclub = \"HiPy\"\n",
    "print(next(pythonclub))"
   ]
  },
  {
   "cell_type": "markdown",
   "metadata": {},
   "source": [
    "However, we can ask the string to give us an iterator:"
   ]
  },
  {
   "cell_type": "code",
   "execution_count": 55,
   "metadata": {
    "collapsed": true
   },
   "outputs": [],
   "source": [
    "iterclub = iter(pythonclub)"
   ]
  },
  {
   "cell_type": "markdown",
   "metadata": {},
   "source": [
    "Now we can ask for the next value:"
   ]
  },
  {
   "cell_type": "code",
   "execution_count": 56,
   "metadata": {},
   "outputs": [
    {
     "name": "stdout",
     "output_type": "stream",
     "text": [
      "H\n"
     ]
    }
   ],
   "source": [
    "print(next(iterclub))"
   ]
  },
  {
   "cell_type": "code",
   "execution_count": 57,
   "metadata": {},
   "outputs": [
    {
     "name": "stdout",
     "output_type": "stream",
     "text": [
      "i\n"
     ]
    }
   ],
   "source": [
    "print(next(iterclub))"
   ]
  },
  {
   "cell_type": "code",
   "execution_count": 58,
   "metadata": {},
   "outputs": [
    {
     "name": "stdout",
     "output_type": "stream",
     "text": [
      "P\n"
     ]
    }
   ],
   "source": [
    "print(next(iterclub))"
   ]
  },
  {
   "cell_type": "code",
   "execution_count": 59,
   "metadata": {},
   "outputs": [
    {
     "name": "stdout",
     "output_type": "stream",
     "text": [
      "y\n"
     ]
    }
   ],
   "source": [
    "print(next(iterclub))"
   ]
  },
  {
   "cell_type": "code",
   "execution_count": 60,
   "metadata": {},
   "outputs": [
    {
     "ename": "StopIteration",
     "evalue": "",
     "output_type": "error",
     "traceback": [
      "\u001b[1;31m---------------------------------------------------------------------------\u001b[0m",
      "\u001b[1;31mStopIteration\u001b[0m                             Traceback (most recent call last)",
      "\u001b[1;32m<ipython-input-60-64feb0f705f2>\u001b[0m in \u001b[0;36m<module>\u001b[1;34m()\u001b[0m\n\u001b[1;32m----> 1\u001b[1;33m \u001b[0mprint\u001b[0m\u001b[1;33m(\u001b[0m\u001b[0mnext\u001b[0m\u001b[1;33m(\u001b[0m\u001b[0miterclub\u001b[0m\u001b[1;33m)\u001b[0m\u001b[1;33m)\u001b[0m\u001b[1;33m\u001b[0m\u001b[0m\n\u001b[0m",
      "\u001b[1;31mStopIteration\u001b[0m: "
     ]
    }
   ],
   "source": [
    "print(next(iterclub)) # we're out of letters!"
   ]
  },
  {
   "cell_type": "markdown",
   "metadata": {},
   "source": [
    "So what a for-loop does is ask the object (string, list, range, etc) we provide for an iterator, and then use next on the object until it runs out.\n",
    "\n",
    "We'll discuss this point in more detail when we discuss object-oriented programming. But for now, in our discussion of functions, we can make a special kind of function that is iterable. In other words, the function can give a sequence of different outputs when placed in the context of a for-loop. A generator looks exactly like a normal function, but instead of the word <code>return</code> returning a value, the word <code>yield</code> is used instead. When the generator \"yields\" something, it stops until something asks it for the next value, in which case, it picks up exactly where it left off!"
   ]
  },
  {
   "cell_type": "code",
   "execution_count": 67,
   "metadata": {
    "collapsed": true
   },
   "outputs": [],
   "source": [
    "from random import randint # for random integers\n",
    "def random_numbers(count, low=0, high=100):\n",
    "    for i in range(count):\n",
    "        yield randint(low, high) "
   ]
  },
  {
   "cell_type": "code",
   "execution_count": 68,
   "metadata": {},
   "outputs": [
    {
     "name": "stdout",
     "output_type": "stream",
     "text": [
      "Next number is 68\n",
      "Next number is 72\n",
      "Next number is 88\n",
      "Next number is 0\n",
      "Next number is 47\n",
      "Next number is 36\n",
      "Next number is 73\n",
      "Next number is 52\n",
      "Next number is 95\n",
      "Next number is 3\n"
     ]
    }
   ],
   "source": [
    "for x in random_numbers(10):\n",
    "    print(\"Next number is\",x)\n",
    "    "
   ]
  },
  {
   "cell_type": "markdown",
   "metadata": {},
   "source": [
    "The <code>enumerate()</code> function we met in the previous article on Flow Control is somewhat equivalent to:"
   ]
  },
  {
   "cell_type": "code",
   "execution_count": 2,
   "metadata": {},
   "outputs": [
    {
     "name": "stdout",
     "output_type": "stream",
     "text": [
      "1. Chickpeas\n",
      "2. Onions\n",
      "3. Flatbread\n"
     ]
    }
   ],
   "source": [
    "def fake_enumerate(seq):\n",
    "    for i in range(len(seq)):\n",
    "        yield i, seq[i]\n",
    "        \n",
    "shopping = [\"Chickpeas\", \"Onions\", \"Flatbread\"]\n",
    "\n",
    "for k, grocery in fake_enumerate(shopping):\n",
    "    print(\"{}. {}\".format(k+1, grocery))"
   ]
  },
  {
   "cell_type": "markdown",
   "metadata": {},
   "source": [
    "Notice, inside the generator there is a for-loop, but one that can be put on pause until the <i>outer</i> for-loop (<code>for k, grocery in fake_enumerate(shopping):</code>) asks it to carry on. This is quite mindbending, but it can be useful. In the example, we use a generator to convert some real genetic data from a text file into a more Python-friendly format."
   ]
  },
  {
   "cell_type": "code",
   "execution_count": 4,
   "metadata": {},
   "outputs": [
    {
     "data": {
      "image/jpeg": "[encoded data removed]",
      "text/html": [
       "\n",
       "        <iframe\n",
       "            width=\"400\"\n",
       "            height=\"300\"\n",
       "            src=\"https://www.youtube.com/embed/M-brh-eFgyE\"\n",
       "            frameborder=\"0\"\n",
       "            allowfullscreen\n",
       "        ></iframe>\n",
       "        "
      ],
      "text/plain": [
       "<IPython.lib.display.YouTubeVideo at 0x7f25b4180f98>"
      ]
     },
     "execution_count": 4,
     "metadata": {},
     "output_type": "execute_result"
    }
   ],
   "source": [
    "from IPython.display import YouTubeVideo\n",
    "YouTubeVideo(\"M-brh-eFgyE\")"
   ]
  },
  {
   "cell_type": "markdown",
   "metadata": {},
   "source": [
    "## Functional Programming\n",
    "\n",
    "Here, we will just introduce the very basic concept of functional programming, as something to chew over and consider in your own program designs. So far, what we have been doing is what is called <i>imperative</i> programming. The program has a state, which means it holds some things in memory, usually in the form of variables, and we proceed by updating the program's state by changing these variables, reassigning them, and so on. At the top of this article, we used recursion to find the $n$th fibonacci number. Let's now do it in a pure imperative style:"
   ]
  },
  {
   "cell_type": "code",
   "execution_count": 69,
   "metadata": {},
   "outputs": [
    {
     "name": "stdout",
     "output_type": "stream",
     "text": [
      "514229\n"
     ]
    }
   ],
   "source": [
    "n = 30\n",
    "for k in range(n):\n",
    "    if k < 2:\n",
    "        x = 0\n",
    "        y = 1\n",
    "    else:\n",
    "        # to understand this line, remember that when assigning variables\n",
    "        # the right hand side is fully evaulated before being assigned to the LHS\n",
    "        x, y = y, x + y\n",
    "print(y)\n",
    "        "
   ]
  },
  {
   "cell_type": "markdown",
   "metadata": {},
   "source": [
    "This program achieves the same task, but we first set n to something. Then we iterate over k, and for each k, update two variables x and y. At each pass through the loop, the state of the program is changed; k, x, and y are all modified\\*. That is imperative programming in a nutshell."
   ]
  },
  {
   "cell_type": "markdown",
   "metadata": {},
   "source": [
    "While imperative programming is easy to get going with, it's also easy to get in a tangle with. Because different functions are constantly referring to and altering different parts of a (large) program's state, it's very easy for errors to occur because some part of the program's state is wrong at the time a particular function or operation is executed.\n",
    "\n",
    "Functional programming aims to fix this by encouraging a very different style of design. Functional programming demands that we make our functions behave like <i>mathematical</i> functions, in that there is one, and only one, possible output for each input to a function. In imperative programming, the function may behave differently at different times with the same inputs, because the program's state is different at those different times. Moreover, the function may alter the program's state, which can cause other functions to behave differently at a later time. This is the concept of \"side-effects\".\n",
    "\n",
    "In functional programming, the program does not have a state. It has functions, which behave in exactly the same way every time they are called with the same inputs, guaranteed. Each function has an input, and an output, and nothing that goes on inbetween can have any effect on, or be affected by, the rest of the program's behaviour. Check out the recursive fibonacci program; there's not a variable in sight. Just functions taking inputs and returning values. This leads to essentially bug-free code, so long as the functions are correctly defined and applied in the correct order. \n",
    "\n",
    "Functional programming isn't easy, but Python does have some support to make it easier via the <code>functools</code> module. While some programming languages are purely functional, Python is multi-paradigm, and the good thing about functional programming in Python is it needn't be all or nothing. It can fit around the rest of your program design. After all, the whole point of functional programming is \"no side effects\"! Thus if you find that you <i>can</i> solve one of your problems by writing a function that neither affects nor is affected by the program's state, but only by its input values, then why not go ahead and do it that way, reaping some of the benefits of functional programming as you do?\n",
    "\n",
    "For some specific examples of functional programming techniques in Python, see this article https://maryrosecook.com/blog/post/a-practical-introduction-to-functional-programming\n",
    "Note that the examples are in Python 2, which means <code>print()</code> does not need the brackets. Also, the author uses <code>map()</code>, <code>filter</code> a lot; in Python 3 it is generally considered preferable to use list comprehensions to perform the same task.\n",
    "\n",
    "\\* This is a subtle point about for-loops easily missed. The variable that gets bound at the start of each pass through, such as the <code>x</code> appearing in the line <code>for x in range(10)</code>, remains assigned even after the loop is finished running. Therefore, as far as functional programming goes, it constitutes a side-effect -- the state of the program is changed. The same is not true of the \"for loops\" found in list comprehensions; these are side-effect free."
   ]
  },
  {
   "cell_type": "code",
   "execution_count": null,
   "metadata": {
    "collapsed": true
   },
   "outputs": [],
   "source": []
  }
 ],
 "metadata": {
  "kernelspec": {
   "display_name": "Python 3",
   "language": "python",
   "name": "python3"
  },
  "language_info": {
   "codemirror_mode": {
    "name": "ipython",
    "version": 3
   },
   "file_extension": ".py",
   "mimetype": "text/x-python",
   "name": "python",
   "nbconvert_exporter": "python",
   "pygments_lexer": "ipython3",
   "version": "3.6.1"
  }
 },
 "nbformat": 4,
 "nbformat_minor": 1
}
