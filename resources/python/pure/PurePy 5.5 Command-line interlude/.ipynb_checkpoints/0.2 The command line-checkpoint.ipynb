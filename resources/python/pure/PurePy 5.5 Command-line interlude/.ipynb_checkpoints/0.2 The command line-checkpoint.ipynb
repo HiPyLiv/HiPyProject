{
 "cells": [
  {
   "cell_type": "markdown",
   "metadata": {},
   "source": [
    "![header](header0.2.png)\n",
    "\n",
    "# A very short introduction introduction to command-line computing\n",
    "\n",
    "This article is not about Python. But it is worth the time of any new Python programmer, or anyone who uses computers a lot. We have to have a discussion about the command-line. Most of us in the modern era have grown up using a graphical user interface (GUI) to interact with our computers. This is where we use a mouse or touch screen to press on-screen buttons, drag-and-drop files, highlight text, move a scroll bar, or bring up a menu. But there is another method, in which we interact with the computer by typing in text commands, and getting text output. For many, this is an ancient relic seen only in films such as <i>The Matrix</i>, <i>War Games</i>, or <i>Hackers</i>, but in the world of computers and computer programming, it remains an invaluable tool.\n",
    "\n",
    "Now the command-line isn't pretty, and takes a little practice to learn. Most commercial software is no longer written for the command-line for this reason. But as Python beginners, we're generally going to be writing programs that:\n",
    "1. Takes some input,\n",
    "2. Performs some task or computation,\n",
    "3. Gives some output,\n",
    "\n",
    "rather than writing commercial software. For this purpose, a text-based, command-line is quicker, easier, and just as effective.\n",
    "\n",
    "Reasons to learn basic command-line skills:\n",
    "- Command-line software is easier to write than graphical software.\n",
    "- Many tasks easier and faster with the command-line.\n",
    "- Access to vast repositories of free command-line software.\n",
    "- More freedom to tinker with the workings of your computer.\n",
    "- Feel like a hacker.\n",
    "\n",
    "That said, there are still many tasks which lend themselves better to the graphical interface. I don't know many people, for instance, who manage their emails from the command-line (though such masochists do exist). It's just about choosing the correct tool for the job."
   ]
  },
  {
   "cell_type": "markdown",
   "metadata": {},
   "source": [
    "Before we begin, three basic terms. A <i>command-line</i> is any computer interface in which you type text commands rather than click buttons to make things happen. A <i>terminal</i> or <i>terminal emulator</i> is a piece of software on your computer that displays the text for a command-line interface. Finally, a <i>shell</i> is the software \"behind the scenes\", that interprets your commands, performs the tasks you ask of it, and then displays the result in your terminal. These words are sometimes used somewhat interchangeably. Something like \"type this command into the command-line\", \"type this command into the terminal\", \"type this command into the shell\" all mean basically the same thing."
   ]
  },
  {
   "cell_type": "markdown",
   "metadata": {},
   "source": [
    "## Accessing a command-line\n",
    "\n",
    "The precise software you use will depend on your operating system. If it is at all possible, you should try to use the Bash shell. This has become the standard shell across Mac OSX and Linux operating systems. It is now also available as an experimental feature of Windows 10: see [here](https://www.howtogeek.com/249966/how-to-install-and-use-the-linux-bash-shell-on-windows-10/) for installation instructions. If you are on Windows, but either you do not have Windows 10 or you do not want to install Bash for some reason, then you can use a software that comes with Windows call Powershell. The most basic commands of Powershell and Bash are roughly the same, and most of the things we learn in this tutorial are applicable to Bash and Powershell.\n",
    "\n",
    "* On Windows, either follow the Bash instructions above, or go to the Start Menu, type Powershell, and open the software it suggests. Note that in Powershell you might have to use backslashes instead of slashes for file paths.\n",
    "* On OSX, press <code>cmd+space</code>. This will open the spotlight, which can access any file or program on your computer. Type Terminal, and you will shown the correct software on the menu. Consider adding the terminal to your dock, as it is very useful to have quick access.\n",
    "* On Linux systems, go to whatever interface you usually use to open software. If you're on Ubuntu or GNOME or something, try the gnome-terminal, usually accessible just be typing \"Terminal\". If you are on another operating system, you might not have gnome-terminal, but you will definitely have xterm or some equivalent, so try searching for xterm.\n",
    "\n",
    "Now after allowing everything to load, you should see some kind of command-prompt. On Powershell, I think it will end with a > symbol. In Bash, it will probably be a <code>$</code> sign. This means the command-line is ready to take commands."
   ]
  },
  {
   "cell_type": "markdown",
   "metadata": {},
   "source": [
    "## Will I break my computer?\n",
    "\n",
    "Probably not. There are several checks to make sure you do not do anything dangerous unwittingly. The command for deleting files requires special permissions to delete entire folders, for example. In Bash, many commands that involve installing software, changing important settings or modifying key system files will require you to log-in as an administrator or enter an administrator password before proceeding (even if you are already logged in as an administrator in your normal graphical session).\n",
    "\n",
    "## Anatomy of a command\n",
    "\n",
    "A command has the structure \"<code>command options arguments</code>\". The <code>command</code> is a program we'd like to run, or an action we'd like to take. For example, if I open my terminal and simply type <code>firefox</code>, then it opens my web browser. Many commands and programs run inside the terminal, unlike Firefox. Options are things we can add to change the way the command works, often beginning with a <code>-</code> or <code>--</code>, and then a letter or word (for example, it is common in Bash that to get help for using a program, you follow the name of the command with <code>--help</code> e.g <code>firefox --help</code> gives more information about how to use the firefox command). Finally, the arguments are inputs to a command.\n",
    "\n",
    "As an example, a very simple Bash program called <code>cat</code> can be used to show the contents of a text file in the terminal window. If I just type <code>cat</code>, then the program waits for me to type some text for it to display. If I type <code>cat A_FILE_NAME</code>, then the contents of that file will be displayed: the file name is an argument, an input to the program. Finally, as an example of using it with an option, <code>cat --number A_FILE_NAME</code>. This will display the contents of a file with line numbers shown.\n",
    "\n",
    "Please see the picture below; the output of the command is not important (I'm just displaying the contents of a file).\n",
    "\n",
    "![cat](Selection_113.png)\n",
    "\n",
    "You can usually see what the options are for a program by running <code>PROGRAM_NAME --help</code> or running <code>man PROGRAM_NAME</code>, that is, the program \"manuals\" with the name of the program you want help with as an argument."
   ]
  },
  {
   "cell_type": "markdown",
   "metadata": {},
   "source": [
    "## The working directory\n",
    "\n",
    "The first command we will learn is <code>pwd</code>, which stands for \"print working directory\". The working directory is the folder in your computer that you are currently \"in\", just like on a graphical file browser (My Computer, Finder, nautilus, etc), you are usually viewing and manipulating the contents of just one folder.\n",
    "\n",
    "For instance, when I open my terminal and type <code>pwd</code>, I have something like:"
   ]
  },
  {
   "cell_type": "raw",
   "metadata": {},
   "source": [
    "$ pwd\n",
    "/home/sam"
   ]
  },
  {
   "cell_type": "markdown",
   "metadata": {},
   "source": [
    "This shows us where we currently are in our computer's file system. The natural thing to want to do is to view the contents of the current working directory. Just type <code>ls</code>, which is short for \"list\", if I'm not mistaken. Now you should see the contents of the current directory, possibly with colour coding to show different kinds of file if your terminal emulator is fancy enough."
   ]
  },
  {
   "cell_type": "raw",
   "metadata": {},
   "source": [
    "$ ls\n",
    "Desktop    Pictures\n",
    "Documents  Public\n",
    "Downloads  Templates\n",
    "Music      Videos"
   ]
  },
  {
   "cell_type": "markdown",
   "metadata": {},
   "source": [
    "Cool, so now we are starting to orientate ourselves in our computer. In Bash, there are many useful options for <code>ls</code>. For example, <code>ls -a</code> is \"list all\", which shows hidden files (usually files containing settings for programs, which you will only edit occasionally and otherwise get in the way. Hidden files start with a <code>.</code>). You can use <code>ls -l</code> for a more detailed list with file sizes and such. Options that are of one letter can often be joined into one option, so <code>ls -l -a</code> can be <code>ls -la</code>, which will display a detailed list of all the files in your directory.\n",
    "\n",
    "If you provide a path to a directory to <code>ls</code> as an argument, it will list the contents of that directory instead:"
   ]
  },
  {
   "cell_type": "raw",
   "metadata": {},
   "source": [
    "$ ls Documents\n",
    "Personal\n",
    "Work\n",
    "Articles\n",
    "Letters"
   ]
  },
  {
   "cell_type": "markdown",
   "metadata": {},
   "source": [
    "## Changing directory\n",
    "\n",
    "Now we learn how to navigate. The command <code>cd</code>, when given a directory as an argument, will change the current working directory. Example:"
   ]
  },
  {
   "cell_type": "raw",
   "metadata": {},
   "source": [
    "$ pwd\n",
    "/home/sam\n",
    "$ cd Documents\n",
    "$ pwd\n",
    "/home/sam/Documents"
   ]
  },
  {
   "cell_type": "markdown",
   "metadata": {},
   "source": [
    "You can go \"up\" a directory by navigating to <code>..</code>:"
   ]
  },
  {
   "cell_type": "raw",
   "metadata": {},
   "source": [
    "$ pwd\n",
    "/home/sam\n",
    "$ cd Documents\n",
    "$ pwd\n",
    "/home/sam/Documents\n",
    "$ cd ..\n",
    "$ pwd\n",
    "/home/sam"
   ]
  },
  {
   "cell_type": "markdown",
   "metadata": {},
   "source": [
    "If you need to refer to a folder or file with spaces in, put the file name in quote marks, for example <code>cd \"My Documents\"</code>"
   ]
  },
  {
   "cell_type": "markdown",
   "metadata": {},
   "source": [
    "### Relative and absolute paths\n",
    "\n",
    "So far, we have used relative file paths. This is where the \"route\" taken to the desired directory or file is relative to the current working directory. In the above example, <code>cd Documents</code> took me to Documents because Documents is contained in the current working directory. If my current working directory were, say, <code>home/sam/Pictures</code>, then to navigate to the Documents directory in one move, I could use <code>cd ../Documents</code>, meaning \"go up one level, and then go to Documents\".\n",
    "\n",
    "However, I can also use what is called an absolute path. This is an exact address, always referring to the same file or directory regardless of the current working directory. In Mac OSX/Linux, starting a path with <code>/</code> makes it absolute. Hence if I am in the Pictures folder (or indeed ANY folder) and want to go to Documents, I can always type"
   ]
  },
  {
   "cell_type": "raw",
   "metadata": {},
   "source": [
    "$ cd /home/sam/Documents\n",
    "$ pwd\n",
    "/home/sam/Documents"
   ]
  },
  {
   "cell_type": "markdown",
   "metadata": {},
   "source": [
    "On Windows Powershell, you can give an absolute path by starting the path with the drive name, like"
   ]
  },
  {
   "cell_type": "raw",
   "metadata": {},
   "source": [
    "> cd C:\\Users\\Sam\\Documents"
   ]
  },
  {
   "cell_type": "markdown",
   "metadata": {},
   "source": [
    "## Making a new directory\n",
    "\n",
    "The command to make a new directory is <code>mkdir</code>, and the directory name is provided as an argument:"
   ]
  },
  {
   "cell_type": "raw",
   "metadata": {},
   "source": [
    "$ ls\n",
    "Desktop    Pictures\n",
    "Documents  Public\n",
    "Downloads  Templates\n",
    "Music      Videos\n",
    "$ mkdir python-scripts\n",
    "$ ls\n",
    "Desktop    python-scripts\n",
    "Documents  Public\n",
    "Downloads  Templates\n",
    "Music      Videos\n",
    "Pictures   "
   ]
  },
  {
   "cell_type": "markdown",
   "metadata": {},
   "source": [
    "Note that I chose to use a <code>-</code> instead of a space in my directory name. As a regular user of the command line, this makes it easier to type as I don't have to remember to put it in quotes this way."
   ]
  },
  {
   "cell_type": "markdown",
   "metadata": {},
   "source": [
    "## Tab completion\n",
    "\n",
    "One of the nicest features about modern command-lines is that they often allow tab completion. Pressing the TAB key when partway through a command or file in the current directory will complete the command for you, if there is only one possibility. For example, in my <code>/home/sam</code> directory, typing <code>cd Doc</code> and hitting TAB will complete the command to <code>cd Documents</code>. This allows for much more rapid navigation and manipulation.\n",
    "\n",
    "## Move, copy, or rename a file\n",
    "\n",
    "It may surprise you that on the command-line, moving and renaming files are the very same command. It's quite simple really. The <code>mv</code> command takes two arguments: the first, a source file; the second, a target. If the target is a directory, the file is moved to that directory. If the target is not a directory, then the source file is renamed to whatever you set target to. For example, if I have a file called <code>my-file</code> in the home folder, and I wish to move it to Documents, I just type <code>mv my-file Documents</code>. If I want to renamed the file to, say, \"my-file2\", I type. <code>mv my-file my-file2</code>.\n",
    "\n",
    "The copy command, <code>cp</code> works in basically the same way. Let's say my-file contains some software settings that I want to tinker with without risking breaking anything. I should backup the file so I can restore it if I do something wrong. So, <code>cp my-file my-file-backup</code> will create a copy of that file called <code>my-file-backup</code>."
   ]
  },
  {
   "cell_type": "markdown",
   "metadata": {},
   "source": [
    "## Delete a file\n",
    "\n",
    "Delete a file with the command <code>rm</code>, followed by the name of the file relative to the current working directory. If you want to delete a folder, you will have to use <code>rm -r DIRECTORY_NAME</code>. This <code>-r</code> stands for \"recursive\" and means \"delete the contents and the folder\"."
   ]
  },
  {
   "cell_type": "markdown",
   "metadata": {},
   "source": [
    "## Make a new text file\n",
    "\n",
    "In bash, you can use the command <code>nano</code> followed by a file name (if it doesn't exist it will be created) to open the nano text editor, an easy-to-use terminal-based text editor. Here you can type a Python file, or any other text file you like. The basic commands are given at the bottom (the <code>^</code> sign refers to the ctrl key, so to save (\"write out\") a file is ctrl+O. The text editor has syntax highlighting based on the file name, so ending the file name with <code>.py</code> will enable Python highlighting; in other words, the colours will change to reflect the structure of Python code, if you terminal supports colours.\n",
    "\n",
    "<code>nano</code> isn't the best text editor out there, but it's quick and easy to use if you just need to slightly modify a file while you browse on the command-line.\n",
    "\n",
    "![nano](Selection_117.png)\n",
    "\n",
    "On Windows Powershell, you can use <code>notepad.exe FILENAME</code> to achieve a similar end."
   ]
  },
  {
   "cell_type": "markdown",
   "metadata": {},
   "source": [
    "## Access Python\n",
    "\n",
    "Well, now we get to the business end. You know how to navigate through your computer and even write a Python program using <code>nano</code>. If Python is installed correctly, and your shell knows where it is, typing python should open the interactive Python interpreter, a command-line interface with a shell that understands Python commands, rather than Bash or Powershell commands. You should see something like this. The <code>>>></code> means it is ready to start interpreting Python commands."
   ]
  },
  {
   "cell_type": "raw",
   "metadata": {},
   "source": [
    "$ python\n",
    "Python 3.6.1 |Anaconda 4.4.0 (64-bit)| (default, May 11 2017, 13:09:58) \n",
    "Type \"copyright\", \"credits\" or \"license\" for more information.\n",
    ">>>"
   ]
  },
  {
   "cell_type": "markdown",
   "metadata": {},
   "source": [
    "From here, we can type any valid Python code and the program will run it. Since we don't know any Python yet, just test it by asking it \"2 + 2\":"
   ]
  },
  {
   "cell_type": "raw",
   "metadata": {},
   "source": [
    ">>> 2 + 2\n",
    "4"
   ]
  },
  {
   "cell_type": "markdown",
   "metadata": {},
   "source": [
    "Now we can leave by typing <code>exit()</code>.\n",
    "\n",
    "Next we'll learn how to run a Python program that you have already written. Type <code>nano hello.py</code> or <code>notepad.exe hello.py</code>. This has made a new Python file. In the file, write"
   ]
  },
  {
   "cell_type": "code",
   "execution_count": null,
   "metadata": {
    "collapsed": true
   },
   "outputs": [],
   "source": [
    "print(\"Hello world!\")"
   ]
  },
  {
   "cell_type": "markdown",
   "metadata": {},
   "source": [
    "and save it (ctrl+O in nano), then exit (ctrl+X in nano). This program, if written correctly, will write \"Hello world!\" on the screen.\n",
    "\n",
    "Then, when in the working directory in which you saved the file, type:"
   ]
  },
  {
   "cell_type": "raw",
   "metadata": {},
   "source": [
    "$ python hello.py\n",
    "Hello world!"
   ]
  },
  {
   "cell_type": "markdown",
   "metadata": {},
   "source": [
    "Hence, <code>python</code> is the program, and <code>hello.py</code> is the argument provided. Now you know how to run any Python file, even one you have downloaded from the Internet.\n",
    "\n",
    "### Did you get an error when you typed <code>python</code>, even though you installed it fine?\n",
    "\n",
    "It means that <code>python</code> is not in your shell's PATH variable. Don't worry. The idea is, when you type a command, it would be very slow (and risky) for the shell to just search your entire computer for some program that command could refer to. Instead, there is a list called PATH of places the shell should look to find programs.\n",
    "\n",
    "So, to solve this, you must find where you have installed Python, and then tell your computer that it's okay to look here when you give it a command.\n",
    "\n",
    "<b>If you're using Bash:</b>\n",
    "1. Navigate to your home folder. The quick way is <code>cd ~</code>, since <code>~</code> always refers to your home folder, for convenience.\n",
    "2. You need to edit a file called <code>.bashrc</code>. The <code>.</code>, recall, means it is a hidden file. This is just a file that contains settings for your Bash sessions.\n",
    "3. Hence, type <code>nano .bashrc</code>. There might already be a bunch of stuff in here. If you're feeling bored but brave sometime, feel free to back up this file and have a play around to see what happens.\n",
    "4. Scroll down to the bottom of the file. Add the line:\n",
    "\n",
    "\n"
   ]
  },
  {
   "cell_type": "raw",
   "metadata": {},
   "source": [
    "export PATH=\"/path/to/folder/where/python/is/installed:$PATH\""
   ]
  },
  {
   "cell_type": "markdown",
   "metadata": {},
   "source": [
    "This just means \"change the PATH variable to '/path/to/where/python/is/installed' followed by whatever the PATH variable was before\". Save the file and exit, then type <code>exit</code> into Bash. Open the terminal again and Python should work.\n",
    "\n",
    "<b>If you're using Windows Powershell</b>\n",
    "\n",
    "Type into Powershell\n",
    "\n",
    "<code>[Environment]::SetEnvironmentVariable(\"Path\", \"$env:Path;C:\\path\\to\\folder\\where\\python\\is\\installed\")</code>\n",
    "\n",
    "This should solve it.\n",
    "\n",
    "If neither of these work, I'm afraid you'll have to get your Google-fu on."
   ]
  },
  {
   "cell_type": "markdown",
   "metadata": {},
   "source": [
    "## Still a bit baffled? Check out the video\n",
    "\n",
    "All of these basic commands are demonstrated in the video below. You'll see that it's pretty easy once you get going.\n",
    "\n",
    "\n",
    "If you're interested in learning more about how to use Bash and become a command-line expert, there's a great free e-book called <i>The Linux Command Line</i> by William E. Shotts Jr."
   ]
  },
  {
   "cell_type": "code",
   "execution_count": 1,
   "metadata": {},
   "outputs": [
    {
     "data": {
      "text/html": [
       "\n",
       "        <iframe\n",
       "            width=\"400\"\n",
       "            height=\"300\"\n",
       "            src=\"https://www.youtube.com/embed/poUKA4pOn7k\"\n",
       "            frameborder=\"0\"\n",
       "            allowfullscreen\n",
       "        ></iframe>\n",
       "        "
      ],
      "text/plain": [
       "<IPython.lib.display.YouTubeVideo at 0x7f4500a0d470>"
      ]
     },
     "execution_count": 1,
     "metadata": {},
     "output_type": "execute_result"
    }
   ],
   "source": [
    "from IPython.display import YouTubeVideo\n",
    "YouTubeVideo(\"poUKA4pOn7k\")"
   ]
  },
  {
   "cell_type": "markdown",
   "metadata": {},
   "source": [
    "## Exercise\n",
    "\n",
    "From the command line, create a folder in your home directory for \"Python-and-computer-notes\" or something. In here, use the <code>nano</code> text editor to write a short summary of everything you learned here, and save it for future reference."
   ]
  },
  {
   "cell_type": "code",
   "execution_count": null,
   "metadata": {
    "collapsed": true
   },
   "outputs": [],
   "source": []
  }
 ],
 "metadata": {
  "kernelspec": {
   "display_name": "Python 3",
   "language": "python",
   "name": "python3"
  },
  "language_info": {
   "codemirror_mode": {
    "name": "ipython",
    "version": 3
   },
   "file_extension": ".py",
   "mimetype": "text/x-python",
   "name": "python",
   "nbconvert_exporter": "python",
   "pygments_lexer": "ipython3",
   "version": "3.6.1"
  }
 },
 "nbformat": 4,
 "nbformat_minor": 2
}
