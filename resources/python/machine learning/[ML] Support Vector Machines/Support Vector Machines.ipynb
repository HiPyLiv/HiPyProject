{
 "cells": [
  {
   "cell_type": "markdown",
   "metadata": {
    "collapsed": true
   },
   "source": [
    "![title](header.png)"
   ]
  },
  {
   "cell_type": "markdown",
   "metadata": {},
   "source": [
    "A support vector machine is a <i>supervised</i> algorithm that takes a number of catagorised data points with a number of attributes and finds an object that seperates the catagories. We will be looking at the application to classification, which looks very similar to K Nearest Neighbours but works better when data is seperated. We can then use the model to classify new data based on it's characteristics. Support vector machines are used in a wide variety of applications, including cancer diagnosis, which we'll have a look at later in this guide. By the end of this guide you should be comfortable explaining the theory behind support vector machines as well as applying it to some simple problems.\n",
    "\n",
    "## The Support Vector Machine Algorithm\n",
    "\n",
    "The best way to explain Support Vector Machines (SVMs) is in  two dimensional example, although this can be applied to any number of dimensions. We start with two sets of data points sorted into classes, and using a straight line, we try and seperate the two sets of points:\n",
    "\n",
    "![Image of svn](svn.png)\n",
    "\n",
    "From this we can see two important things - one is that there are infinitely many lines we can draw that seperate the two datasets, and the other is that the wider the gap between the datasets is, the easier it is for us to find a line that works. Typically, this algorithm is stronger on data that's been seperated, but there are workarounds for when this isn't the case.\n",
    "\n",
    "More importantly - how do we find the best line of seperation? One answer, (and prehaps the most intuitive) is to find the line which has the greatest \"margin\" between the two points. Throught the power of maths, we can do this - and this process is the support vector machine algorithm.\n",
    "\n",
    "## A Simple Example\n",
    "\n",
    "For this simple example let's look at some simple x,y data that is categorised:"
   ]
  },
  {
   "cell_type": "code",
   "execution_count": 1,
   "metadata": {},
   "outputs": [
    {
     "data": {
      "text/html": [
       "<div>\n",
       "<table border=\"1\" class=\"dataframe\">\n",
       "  <thead>\n",
       "    <tr style=\"text-align: right;\">\n",
       "      <th></th>\n",
       "      <th>class</th>\n",
       "      <th>x data</th>\n",
       "      <th>y data</th>\n",
       "    </tr>\n",
       "  </thead>\n",
       "  <tbody>\n",
       "    <tr>\n",
       "      <th>0</th>\n",
       "      <td>0</td>\n",
       "      <td>2.080281</td>\n",
       "      <td>9.675988</td>\n",
       "    </tr>\n",
       "    <tr>\n",
       "      <th>1</th>\n",
       "      <td>0</td>\n",
       "      <td>0.654487</td>\n",
       "      <td>8.406303</td>\n",
       "    </tr>\n",
       "    <tr>\n",
       "      <th>2</th>\n",
       "      <td>0</td>\n",
       "      <td>1.772212</td>\n",
       "      <td>9.421432</td>\n",
       "    </tr>\n",
       "    <tr>\n",
       "      <th>3</th>\n",
       "      <td>0</td>\n",
       "      <td>0.236009</td>\n",
       "      <td>9.317798</td>\n",
       "    </tr>\n",
       "    <tr>\n",
       "      <th>4</th>\n",
       "      <td>0</td>\n",
       "      <td>1.543208</td>\n",
       "      <td>8.849149</td>\n",
       "    </tr>\n",
       "  </tbody>\n",
       "</table>\n",
       "</div>"
      ],
      "text/plain": [
       "   class    x data    y data\n",
       "0      0  2.080281  9.675988\n",
       "1      0  0.654487  8.406303\n",
       "2      0  1.772212  9.421432\n",
       "3      0  0.236009  9.317798\n",
       "4      0  1.543208  8.849149"
      ]
     },
     "execution_count": 1,
     "metadata": {},
     "output_type": "execute_result"
    }
   ],
   "source": [
    "import numpy as np\n",
    "import pandas as pd\n",
    "import matplotlib.pyplot as plt\n",
    "from sklearn import svm\n",
    "\n",
    "df = pd.read_csv(\"example.csv\")\n",
    "\n",
    "df.head()"
   ]
  },
  {
   "cell_type": "markdown",
   "metadata": {},
   "source": [
    "The first thing we need to do is unpack our data into the format that sklearn likes - this is a list of data points in one numpy array along with their classes in a seperate numpy array. We can do this easily with the <i>as_matrix</i> method:\n",
    "    \n",
    "    "
   ]
  },
  {
   "cell_type": "code",
   "execution_count": 2,
   "metadata": {
    "collapsed": true
   },
   "outputs": [],
   "source": [
    "points = df[[\"x data\", \"y data\"]].as_matrix()\n",
    "classes = df['class']"
   ]
  },
  {
   "cell_type": "markdown",
   "metadata": {},
   "source": [
    "Now we have our data in the correct format, we can go ahead and use the SVC function to create our classification:"
   ]
  },
  {
   "cell_type": "code",
   "execution_count": 3,
   "metadata": {},
   "outputs": [
    {
     "data": {
      "text/plain": [
       "SVC(C=1.0, cache_size=200, class_weight=None, coef0=0.0,\n",
       "  decision_function_shape=None, degree=3, gamma='auto', kernel='linear',\n",
       "  max_iter=-1, probability=False, random_state=None, shrinking=True,\n",
       "  tol=0.001, verbose=False)"
      ]
     },
     "execution_count": 3,
     "metadata": {},
     "output_type": "execute_result"
    }
   ],
   "source": [
    "model = svm.SVC(kernel='linear')\n",
    "model.fit(points,classes)\n"
   ]
  },
  {
   "cell_type": "markdown",
   "metadata": {},
   "source": [
    "We can then predict points using the <i>predict</i> method:"
   ]
  },
  {
   "cell_type": "code",
   "execution_count": 4,
   "metadata": {},
   "outputs": [
    {
     "name": "stdout",
     "output_type": "stream",
     "text": [
      "[1 0]\n"
     ]
    }
   ],
   "source": [
    "print(model.predict([[6,1], [1,6]]))"
   ]
  },
  {
   "cell_type": "markdown",
   "metadata": {},
   "source": [
    "As with the nearest neighbours code, we can create a meshgrid to see the distribution of our predictions:"
   ]
  },
  {
   "cell_type": "code",
   "execution_count": 5,
   "metadata": {},
   "outputs": [
    {
     "data": {
      "image/png": "[encoded data removed]",
      "text/plain": [
       "<matplotlib.figure.Figure at 0x251ab22fd30>"
      ]
     },
     "metadata": {},
     "output_type": "display_data"
    }
   ],
   "source": [
    "#Setting up the meshgrid require a minimum and maximum bound - it makes sense to use the min and max values of our data for this:\n",
    "\n",
    "x_min, x_max = points[:, 0].min() - 1, points[:, 0].max() + 1\n",
    "y_min, y_max = points[:, 1].min() - 1, points[:, 1].max() + 1\n",
    "\n",
    "#h is the step size of the mesh - lower h means higher resolution.\n",
    "\n",
    "h=0.1\n",
    "\n",
    "xx, yy = np.meshgrid(np.arange(x_min, x_max, h), np.arange(y_min, y_max, h))\n",
    "\n",
    "#Ravel will take the 2 dimensional xx and yy arrays and \"unravel\" them into a 1d array.\n",
    "#c_ then pairs off these points to give a 1 dimensional array with x and y points for every point in the meshgrid.\n",
    "#We then predict every point and call this Z, then reshape it so it's the same shape as xx and yy\n",
    "\n",
    "Z = model.predict(np.c_[xx.ravel(),yy.ravel()]) \n",
    "Z = Z.reshape(xx.shape)\n",
    "\n",
    "#We then define our own colormaps (you can skip this step if you want), and plot our data using a colormesh and a scatter plot.\n",
    "\n",
    "from matplotlib.colors import ListedColormap\n",
    "\n",
    "cmap_light = ListedColormap(['#FFAAAA', '#AAFFAA'])\n",
    "cmap_bold = ListedColormap(['#FF0000', '#00FF00'])\n",
    "\n",
    "plt.pcolormesh(xx, yy, Z, cmap=cmap_light)\n",
    "plt.scatter(points[:, 0], points[:, 1], c=classes, cmap = cmap_bold)\n",
    "plt.plot()\n",
    "plt.xlim(xx.min(), xx.max())\n",
    "plt.ylim(yy.min(), yy.max())\n",
    "plt.show()"
   ]
  },
  {
   "cell_type": "markdown",
   "metadata": {},
   "source": [
    "With a bit of work we can also plot the seperating line and margins of our model. This involves getting the outputs from our model and manipulating them until we get what we want:"
   ]
  },
  {
   "cell_type": "code",
   "execution_count": 6,
   "metadata": {},
   "outputs": [
    {
     "data": {
      "image/png": "[encoded data removed]",
      "text/plain": [
       "<matplotlib.figure.Figure at 0x251ab65a630>"
      ]
     },
     "metadata": {},
     "output_type": "display_data"
    }
   ],
   "source": [
    "w = model.coef_[0]\n",
    "a = -w[0] / w[1]\n",
    "\n",
    "x = np.linspace (-2,12)\n",
    "y = a * x - model.intercept_[0]/w[1]\n",
    "margin = 1/np.sqrt(np.sum(model.coef_ ** 2))\n",
    "y_down = y + a * margin\n",
    "y_up = y - a * margin\n",
    "\n",
    "plt.plot(x,y, color=\"black\")\n",
    "plt.plot(x,y_down, color= \"grey\", ls=\":\")\n",
    "plt.plot(x,y_up, color=\"grey\", ls=\":\" )\n",
    "plt.scatter(points[:, 0], points[:, 1], c=classes, s=50)\n",
    "plt.show()"
   ]
  },
  {
   "cell_type": "markdown",
   "metadata": {},
   "source": [
    "This shows us that our model gives us the line with the largest margins from the data points - which is what we were hoping for!"
   ]
  },
  {
   "cell_type": "markdown",
   "metadata": {},
   "source": [
    "## Mini Project\n",
    "\n",
    "We're going to apply this simple example to a more complicated dataset. scikitlearn comes with a number of datasets that we can use for practice, and one of the most interesting to look at is the cancer dataset. This dataset contains the attributes of malignant and benign tumors from breast cancer patients. Your job is to create a model that predicts what class a test tumor falls into, depending on its attributes."
   ]
  },
  {
   "cell_type": "code",
   "execution_count": 7,
   "metadata": {},
   "outputs": [
    {
     "name": "stdout",
     "output_type": "stream",
     "text": [
      "   mean radius  mean texture  mean perimeter  mean area  mean smoothness  \\\n",
      "0        17.99         10.38          122.80     1001.0          0.11840   \n",
      "1        20.57         17.77          132.90     1326.0          0.08474   \n",
      "2        19.69         21.25          130.00     1203.0          0.10960   \n",
      "3        11.42         20.38           77.58      386.1          0.14250   \n",
      "4        20.29         14.34          135.10     1297.0          0.10030   \n",
      "\n",
      "   mean compactness  mean concavity  mean concave points  mean symmetry  \\\n",
      "0           0.27760          0.3001              0.14710         0.2419   \n",
      "1           0.07864          0.0869              0.07017         0.1812   \n",
      "2           0.15990          0.1974              0.12790         0.2069   \n",
      "3           0.28390          0.2414              0.10520         0.2597   \n",
      "4           0.13280          0.1980              0.10430         0.1809   \n",
      "\n",
      "   mean fractal dimension           ...             worst radius  \\\n",
      "0                 0.07871           ...                    25.38   \n",
      "1                 0.05667           ...                    24.99   \n",
      "2                 0.05999           ...                    23.57   \n",
      "3                 0.09744           ...                    14.91   \n",
      "4                 0.05883           ...                    22.54   \n",
      "\n",
      "   worst texture  worst perimeter  worst area  worst smoothness  \\\n",
      "0          17.33           184.60      2019.0            0.1622   \n",
      "1          23.41           158.80      1956.0            0.1238   \n",
      "2          25.53           152.50      1709.0            0.1444   \n",
      "3          26.50            98.87       567.7            0.2098   \n",
      "4          16.67           152.20      1575.0            0.1374   \n",
      "\n",
      "   worst compactness  worst concavity  worst concave points  worst symmetry  \\\n",
      "0             0.6656           0.7119                0.2654          0.4601   \n",
      "1             0.1866           0.2416                0.1860          0.2750   \n",
      "2             0.4245           0.4504                0.2430          0.3613   \n",
      "3             0.8663           0.6869                0.2575          0.6638   \n",
      "4             0.2050           0.4000                0.1625          0.2364   \n",
      "\n",
      "   worst fractal dimension  \n",
      "0                  0.11890  \n",
      "1                  0.08902  \n",
      "2                  0.08758  \n",
      "3                  0.17300  \n",
      "4                  0.07678  \n",
      "\n",
      "[5 rows x 30 columns]\n",
      "[0 0 0 0 0]\n"
     ]
    }
   ],
   "source": [
    "from sklearn.datasets import load_breast_cancer\n",
    "cancer = load_breast_cancer()\n",
    "\n",
    "features = pd.DataFrame(cancer['data'], columns=cancer['feature_names'])\n",
    "classes = cancer['target']\n",
    "\n",
    "#Test tumor attributes are in the same order as the features dataframe.\n",
    "test_tumor = [15.62, 22.583, 101.651, 680.24, 0.098241, 0.12187, 0.055693, 0.033638, 0.16566, 0.0661, 0.38258, 1.1198, 3.0239, 34.111, 0.0045177, 0.036168, 0.031031, 0.01485, 0.01771, 0.0030184, 18.095, 29.986, 123.31, 911.35, 0.12683, 0.3772, 0.27632, 0.14729, 0.27874, 0.086438]\n",
    "\n",
    "print(features.head())\n",
    "print(classes[:5]) #0 is malignant, 1 is benign.\n"
   ]
  }
 ],
 "metadata": {
  "kernelspec": {
   "display_name": "Python 3",
   "language": "python",
   "name": "python3"
  },
  "language_info": {
   "codemirror_mode": {
    "name": "ipython",
    "version": 3
   },
   "file_extension": ".py",
   "mimetype": "text/x-python",
   "name": "python",
   "nbconvert_exporter": "python",
   "pygments_lexer": "ipython3",
   "version": "3.6.0"
  }
 },
 "nbformat": 4,
 "nbformat_minor": 2
}
