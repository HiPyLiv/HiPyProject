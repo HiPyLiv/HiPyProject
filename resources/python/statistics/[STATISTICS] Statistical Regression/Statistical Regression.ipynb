{
 "cells": [
  {
   "cell_type": "markdown",
   "metadata": {},
   "source": [
    "![title](header.png)"
   ]
  },
  {
   "cell_type": "markdown",
   "metadata": {},
   "source": [
    "We've looked at Hypothesis testing and ANOVA, which can give us insights into continuous data that's categorically split. What if we have two continuous variables and we want to see the relationship between the two? We need to use regression. Regression using statistical libraries like scipy and statsmodels is different to scikit-learn's method due to the output being used for different things. Statistical libraries will output more analytical data and summary statistics, whereas scikit-learn's methodology is more about making a working model for predictions. By the end of this guide you should be comfortable with applying basic linear regression models to your own data."
   ]
  },
  {
   "cell_type": "markdown",
   "metadata": {},
   "source": [
    "## Regression using Scipy"
   ]
  },
  {
   "cell_type": "markdown",
   "metadata": {},
   "source": [
    "As with ANOVA, scipy gives us an easy way to come up with simple linear regression models at the price of having less customisation and output options. Let's look at an example of when we'd use regression analysis.\n",
    "\n",
    "First let's import all the libraries and data we'll be using:"
   ]
  },
  {
   "cell_type": "code",
   "execution_count": 86,
   "metadata": {},
   "outputs": [],
   "source": [
    "import numpy as np\n",
    "import scipy.stats as stats\n",
    "import matplotlib.pyplot as plt\n",
    "import statsmodels.api as sm\n",
    "import pandas as pd\n",
    "\n",
    "testData = pd.read_csv(\"testData.csv\")"
   ]
  },
  {
   "cell_type": "markdown",
   "metadata": {},
   "source": [
    "Now let's look at our test data:"
   ]
  },
  {
   "cell_type": "code",
   "execution_count": 30,
   "metadata": {},
   "outputs": [
    {
     "name": "stdout",
     "output_type": "stream",
     "text": [
      "      x data      y data\n",
      "0  10.262790   97.858634\n",
      "1  54.042887  373.536304\n",
      "2  24.821802  120.470881\n",
      "3  30.117078  242.484869\n",
      "4  59.304158  335.920346\n"
     ]
    },
    {
     "data": {
      "image/png": "[encoded data removed]",
      "text/plain": [
       "<matplotlib.figure.Figure at 0x2222607a3c8>"
      ]
     },
     "metadata": {},
     "output_type": "display_data"
    }
   ],
   "source": [
    "print(testData.head())\n",
    "\n",
    "plt.scatter(testData['x data'], testData['y data'])\n",
    "plt.show()"
   ]
  },
  {
   "cell_type": "markdown",
   "metadata": {},
   "source": [
    "We can see here a general upward trend of our data - but how can we statistically analyse it? The <i>linregress</i> function under the scipy.stats library is the function we need:"
   ]
  },
  {
   "cell_type": "code",
   "execution_count": 33,
   "metadata": {},
   "outputs": [
    {
     "name": "stdout",
     "output_type": "stream",
     "text": [
      "LinregressResult(slope=6.1914361788023147, intercept=43.146485599323341, rvalue=0.6912805901775535, pvalue=1.7066342530959711e-15, stderr=0.65375315815832835)\n"
     ]
    }
   ],
   "source": [
    "print(stats.linregress(x,y))\n",
    "\n",
    "slope, intercept, r_value, p_value, std_err = stats.linregress(x,y) #Storing the output values for later use"
   ]
  },
  {
   "cell_type": "markdown",
   "metadata": {},
   "source": [
    "Here we get a load of ourputs - the <i>slope</i> and the <i>intercept</i> correspond to the line of best fit we're interested in. In fact, if we get a little clever with matplotlib, we can plot the datapoints and the line on the same graph:"
   ]
  },
  {
   "cell_type": "code",
   "execution_count": 57,
   "metadata": {},
   "outputs": [
    {
     "data": {
      "image/png": "[encoded data removed]",
      "text/plain": [
       "<matplotlib.figure.Figure at 0x22227c84c50>"
      ]
     },
     "metadata": {},
     "output_type": "display_data"
    }
   ],
   "source": [
    "xfit = np.linspace(5, 65, 101)\n",
    "yfit = slope * xfit + intercept  #Equation of fitted line\n",
    "\n",
    "fig = plt.figure()\n",
    "ax = fig.add_axes([0,0,1,1])\n",
    "\n",
    "ax.plot(xfit, yfit, color=\"red\") #Plot fitted line\n",
    "ax.scatter(x,y, s=15) #Plot data again\n",
    "\n",
    "plt.show()"
   ]
  },
  {
   "cell_type": "markdown",
   "metadata": {},
   "source": [
    "Great - we have the most important parts of our analysis - the model, but how useful is the model? The r_value will give us some insight:"
   ]
  },
  {
   "cell_type": "code",
   "execution_count": 58,
   "metadata": {},
   "outputs": [
    {
     "name": "stdout",
     "output_type": "stream",
     "text": [
      "0.477868854356\n"
     ]
    }
   ],
   "source": [
    "print(r_value ** 2) #Prints the R-Squared value"
   ]
  },
  {
   "cell_type": "markdown",
   "metadata": {},
   "source": [
    "The R-Squared value is a measure of how well our model fits the data - it goes between 0 and 100%, so 0.47 means we <i>might</i> have problems with our model (i.e, it might not be linear!). In reality, it depends on the test we're trying to do. Psychology data for example typically has smaller R-Squared values than chemical data as humans are harder to predict than particles. You need to use your statistical experience to tell if this value is <i>actually</i> small.\n",
    "\n",
    "The p_value is the p-value for a hypothesis test with null hypothesis of the slope being equal to zero. In other words, this is the p-value for the data being related to some extent (if they weren't, we'd expect our slope to be around zero!). Here our p-value is very small, so we can say with confidence that our two variables are related.\n",
    "\n",
    "Finally, stderr is the standard error of the estimate. This gives us an idea about how \"wide\" the data is spread - i.e if we put a number into the model, what the standard error we can expect is."
   ]
  },
  {
   "cell_type": "markdown",
   "metadata": {},
   "source": [
    "## Regression using Statsmodels"
   ]
  },
  {
   "cell_type": "markdown",
   "metadata": {},
   "source": [
    "As with ANOVA, statsmodels gives us far more control over what we're doing with linear regression, and lets us move to regression with more than one factor. For example, take the data below:"
   ]
  },
  {
   "cell_type": "code",
   "execution_count": 95,
   "metadata": {},
   "outputs": [
    {
     "name": "stdout",
     "output_type": "stream",
     "text": [
      "   measurement     x data     y data     z data\n",
      "0   162.067984  52.893388  48.853263  25.191883\n",
      "1   229.634127   3.391961   5.694731  76.401828\n",
      "2   157.195925  38.324961  23.015755  30.632007\n",
      "3   203.279546  21.297441  17.965501  51.450576\n",
      "4   260.999635   6.619755  47.818250  62.471135\n"
     ]
    },
    {
     "data": {
      "image/png": "[encoded data removed]",
      "text/plain": [
       "<matplotlib.figure.Figure at 0x2222800b668>"
      ]
     },
     "metadata": {},
     "output_type": "display_data"
    }
   ],
   "source": [
    "multReg = pd.read_csv(\"multiple.csv\")\n",
    "\n",
    "print(multReg.head())\n",
    "\n",
    "\n",
    "#Graphing our data\n",
    "\n",
    "fig, ax = plt.subplots(1,3)\n",
    "fig.set_size_inches(15,5) #Sneaky way of increasing the size of our plot for readablity\n",
    "plt.tight_layout()\n",
    "\n",
    "ax[0].scatter(multReg['x data'], multReg['measurement'], color = \"#80d4ff\")\n",
    "ax[1].scatter(multReg['y data'], multReg['measurement'], color = \"#ff6666\")\n",
    "ax[2].scatter(multReg['z data'], multReg['measurement'], color = \"#99ff99\")\n",
    "\n",
    "ax[0].set_title(\"x data\")\n",
    "ax[1].set_title(\"y data\")\n",
    "ax[2].set_title(\"z data\")\n",
    "\n",
    "plt.show()"
   ]
  },
  {
   "cell_type": "markdown",
   "metadata": {},
   "source": [
    "Here we can make some simple observations - it looks obvious that our z-data has some correlation with our measurement, but for our y and x data it's very unclear. We need a statistical model!"
   ]
  },
  {
   "cell_type": "code",
   "execution_count": 99,
   "metadata": {},
   "outputs": [
    {
     "name": "stdout",
     "output_type": "stream",
     "text": [
      "                            OLS Regression Results                            \n",
      "==============================================================================\n",
      "Dep. Variable:            measurement   R-squared:                       0.997\n",
      "Model:                            OLS   Adj. R-squared:                  0.997\n",
      "Method:                 Least Squares   F-statistic:                 1.095e+04\n",
      "Date:                Tue, 27 Jun 2017   Prob (F-statistic):          1.36e-122\n",
      "Time:                        11:38:53   Log-Likelihood:                -376.22\n",
      "No. Observations:                 100   AIC:                             758.4\n",
      "Df Residuals:                      97   BIC:                             766.3\n",
      "Df Model:                           3                                         \n",
      "Covariance Type:            nonrobust                                         \n",
      "==============================================================================\n",
      "                 coef    std err          t      P>|t|      [95.0% Conf. Int.]\n",
      "------------------------------------------------------------------------------\n",
      "x data         0.6976      0.045     15.445      0.000         0.608     0.787\n",
      "y data         1.1880      0.063     18.779      0.000         1.062     1.314\n",
      "z data         2.9738      0.039     76.740      0.000         2.897     3.051\n",
      "==============================================================================\n",
      "Omnibus:                        2.655   Durbin-Watson:                   1.963\n",
      "Prob(Omnibus):                  0.265   Jarque-Bera (JB):                2.653\n",
      "Skew:                           0.380   Prob(JB):                        0.265\n",
      "Kurtosis:                       2.754   Cond. No.                         4.10\n",
      "==============================================================================\n",
      "\n",
      "Warnings:\n",
      "[1] Standard Errors assume that the covariance matrix of the errors is correctly specified.\n"
     ]
    }
   ],
   "source": [
    "y = multReg[\"measurement\"] #Dependent variable\n",
    "x = multReg[[\"x data\", \"y data\", \"z data\"]] #Independent variables\n",
    "#x = sm.add_constant(x) #Typically we expect a non-0 y-intercept, this line deals with that.\n",
    "\n",
    "model = sm.OLS(y,x).fit()\n",
    "print(model.summary())"
   ]
  },
  {
   "cell_type": "markdown",
   "metadata": {},
   "source": [
    "That's a lot of outputs! The most important ones to look at are the Prob(F-statistic), the R-Squared, the coef column, and the P>|t| column.\n",
    "\n",
    "The Prob(F-statistic) gives us the p-value corresponding to the null hypotheis of <i>all</i> slopes/coefficients being equal to 0. The R-Squared gives us an idea of how helpful out model is as before.\n",
    "\n",
    "The coeff column gives us an indication of what coefficient is associated with each variable, and the P>|t| gives us a p-value for the null hypothesis of the coefficient being equal to 0. To test this out more visually, we can graph the points of the measured data versus the variables with their associated coefficients:"
   ]
  },
  {
   "cell_type": "code",
   "execution_count": 114,
   "metadata": {},
   "outputs": [
    {
     "data": {
      "image/png": "[encoded data removed]",
      "text/plain": [
       "<matplotlib.figure.Figure at 0x22228f76898>"
      ]
     },
     "metadata": {},
     "output_type": "display_data"
    }
   ],
   "source": [
    "x = 0.7  * multReg['x data'] + 1.2  * multReg['y data'] + 3 * multReg['z data']\n",
    "y = multReg['measurement']\n",
    "\n",
    "#We expect x to equal y, plus or minus a CONSTANT amount\n",
    "\n",
    "dummy = np.linspace(0,350, 100)\n",
    "\n",
    "fig, ax = plt.subplots()\n",
    "\n",
    "ax.scatter(x,y, s=2)\n",
    "ax.plot(dummy, dummy, color=\"black\") #The line x = y\n",
    "\n",
    "plt.show()"
   ]
  },
  {
   "cell_type": "markdown",
   "metadata": {},
   "source": [
    "That looks pretty good! If the variable x and y are equal it means we've found the right coefficients for the data, and our model is complete."
   ]
  },
  {
   "cell_type": "markdown",
   "metadata": {},
   "source": [
    "## Mini Project"
   ]
  },
  {
   "cell_type": "markdown",
   "metadata": {},
   "source": [
    "Below we have some data and we want to see if it's linearly correlated. Try performing a linear regression test and interpret the results:"
   ]
  },
  {
   "cell_type": "code",
   "execution_count": 149,
   "metadata": {},
   "outputs": [
    {
     "name": "stdout",
     "output_type": "stream",
     "text": [
      "            x            y\n",
      "0  421.210608  5560.364046\n",
      "1  421.504662  5228.252219\n",
      "2  394.042457  5255.783030\n",
      "3  406.042636  5969.146412\n",
      "4  346.577200  9788.628920\n"
     ]
    }
   ],
   "source": [
    "projectData = pd.read_csv(\"project.csv\")\n",
    "\n",
    "print(projectData.head())"
   ]
  },
  {
   "cell_type": "code",
   "execution_count": null,
   "metadata": {
    "collapsed": true
   },
   "outputs": [],
   "source": []
  }
 ],
 "metadata": {
  "kernelspec": {
   "display_name": "Python 3",
   "language": "python",
   "name": "python3"
  },
  "language_info": {
   "codemirror_mode": {
    "name": "ipython",
    "version": 3
   },
   "file_extension": ".py",
   "mimetype": "text/x-python",
   "name": "python",
   "nbconvert_exporter": "python",
   "pygments_lexer": "ipython3",
   "version": "3.6.0"
  }
 },
 "nbformat": 4,
 "nbformat_minor": 2
}
