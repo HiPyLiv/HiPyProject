{
 "cells": [
  {
   "cell_type": "markdown",
   "metadata": {},
   "source": [
    "![title](header.png)"
   ]
  },
  {
   "cell_type": "markdown",
   "metadata": {},
   "source": [
    "## Introduction"
   ]
  },
  {
   "cell_type": "markdown",
   "metadata": {},
   "source": [
    "Sometimes data is stored online and is in a format that isn't so easy to convert to a file to download. Python has a number of packages that can read data from webpages, as well as some packages that can interact with APIs such as Google Finance to retrive data from the web. Here we will be looking at how to use modules pandas-datareader and beautiful soup to collect data from the web ready for analysis."
   ]
  },
  {
   "cell_type": "markdown",
   "metadata": {},
   "source": [
    "## Pandas-Datareader"
   ]
  },
  {
   "cell_type": "markdown",
   "metadata": {},
   "source": [
    "Anaconda doesn't come with this module as default, but there are many ways to install this. The easiest is through the package manager in the Anaconda Navigator, but we can do it through the command prompt by passing the command: <code>conda install pandas-datareader</code>\n",
    "\n",
    "After this we are ready to go!\n",
    "\n",
    "Pandas-datareader lets us get data from a number of sources, including Google and Yahoo finance, and the World Bank, and import them into our workbook. Doing this is very simple:\n",
    "\n",
    "First we need to import our modules as usual - here we are importing datetime as well so we can specify a time window of stock prices."
   ]
  },
  {
   "cell_type": "code",
   "execution_count": 5,
   "metadata": {},
   "outputs": [],
   "source": [
    "import pandas as pd\n",
    "import pandas_datareader.data as web\n",
    "import datetime"
   ]
  },
  {
   "cell_type": "markdown",
   "metadata": {},
   "source": [
    "Then, we set our start and end dates:"
   ]
  },
  {
   "cell_type": "code",
   "execution_count": 6,
   "metadata": {
    "collapsed": true
   },
   "outputs": [],
   "source": [
    "start = datetime.datetime(2010, 1, 1)\n",
    "end = datetime.datetime(2017, 1, 1)"
   ]
  },
  {
   "cell_type": "markdown",
   "metadata": {},
   "source": [
    "Finally, we can import our data from Google Finance as follows:"
   ]
  },
  {
   "cell_type": "code",
   "execution_count": 7,
   "metadata": {},
   "outputs": [
    {
     "name": "stdout",
     "output_type": "stream",
     "text": [
      "             Open   High    Low  Close    Volume\n",
      "Date                                            \n",
      "2010-06-29  19.00  25.00  17.54  23.89  18783276\n",
      "2010-06-30  25.79  30.42  23.30  23.83  17194394\n",
      "2010-07-01  25.00  25.92  20.27  21.96   8229863\n",
      "2010-07-02  23.00  23.10  18.71  19.20   5141807\n",
      "2010-07-06  20.00  20.00  15.83  16.11   6879296\n"
     ]
    }
   ],
   "source": [
    "teslaStock = web.DataReader(\"TSLA\", 'google', start, end)\n",
    "\n",
    "print(teslaStock.head())"
   ]
  },
  {
   "cell_type": "markdown",
   "metadata": {
    "collapsed": true
   },
   "source": [
    "From here we can perform whatever analysis we want!"
   ]
  },
  {
   "cell_type": "markdown",
   "metadata": {},
   "source": [
    "## Beautiful Soup"
   ]
  },
  {
   "cell_type": "markdown",
   "metadata": {},
   "source": [
    "Sometimes our data doesn't play so nice - it might not be uploaded as a file pandas can read easily, or part of an API we can read with pandas-datareader. If all else fails, we can use Beautiful Soup to scrape the data straight from the web.\n",
    "\n",
    "Beautiful Soup is an <b>extremely</b> complicated library - scraping the data is hard enough but after that you might need to clean it, i.e remove any useless values, before we can perform any analysis. We will look at a very simple example, getting a list of all the subreddits on the front page of reddit.\n",
    "\n",
    "Before we start, you might need to install the BeautifulSoup packages using the Anaconda Navigator, or the command:\n",
    "\n",
    "<code>conda install beautifulsoup4</code> \n",
    "\n",
    "or \n",
    "\n",
    "<code>pip install beautifulsoup4</code>\n",
    "\n",
    "As always, we begin by importing our modules:"
   ]
  },
  {
   "cell_type": "code",
   "execution_count": 15,
   "metadata": {},
   "outputs": [],
   "source": [
    "from bs4 import BeautifulSoup\n",
    "from urllib.request import urlopen\n",
    "import pandas as pd\n",
    "import matplotlib.pyplot as plt"
   ]
  },
  {
   "cell_type": "markdown",
   "metadata": {},
   "source": [
    "Then we use the urlopen to import the webpage, and use beautifulsoup to parse it:"
   ]
  },
  {
   "cell_type": "code",
   "execution_count": 16,
   "metadata": {},
   "outputs": [],
   "source": [
    "url = \"http://www.reddit.com\"\n",
    "\n",
    "content = urlopen(url).read()\n",
    "\n",
    "soup = BeautifulSoup(content, \"lxml\")"
   ]
  },
  {
   "cell_type": "markdown",
   "metadata": {},
   "source": [
    "The variable \"soup\" is now jus the html code of the front page of reddit."
   ]
  },
  {
   "cell_type": "markdown",
   "metadata": {},
   "source": [
    "Next, we can use the .find_all method to give a list of elements on the webpage that have the \"a\" tag, which, in html, starts a hyperlink. Then we can use a for loop to print a list of all the links. To stop the output from getting crowded, we set up a loop to only give us the 20 outputs. For the purposes of this exercise, we're taking the outputs 60 to 80 to see some of the junk we'll get out:"
   ]
  },
  {
   "cell_type": "code",
   "execution_count": 40,
   "metadata": {},
   "outputs": [
    {
     "name": "stdout",
     "output_type": "stream",
     "text": [
      "https://www.reddit.com/gilded/\n",
      "https://www.reddit.com/wiki/\n",
      "https://www.reddit.com/ads/\n",
      "https://www.reddit.com/login\n",
      "javascript:void(0)\n",
      "https://www.reddit.com/wiki/search\n",
      "https://www.reddit.com/wiki/search\n",
      "/password\n",
      "https://www.reddit.com/submit\n",
      "https://www.reddit.com/submit?selftext=true\n",
      "/gold?goldtype=code&source=progressbar\n",
      "/gold/about\n",
      "/r/goldbenefits\n",
      "https://en.wikipedia.org/wiki/Pacific_Time_Zone\n",
      "None\n",
      "/newsletter\n",
      "#\n",
      "/r/GolemProject/?utm_content=trending_sr_4&utm_medium=trending_subreddits_bar&utm_source=reddit&utm_name=frontpage\n",
      "/r/lockpicking/?utm_content=trending_sr_3&utm_medium=trending_subreddits_bar&utm_source=reddit&utm_name=frontpage\n"
     ]
    }
   ],
   "source": [
    "counter = 0\n",
    "for links in soup.find_all('a'):\n",
    "    if counter < 80 and counter > 60:\n",
    "        print(links.get('href'))\n",
    "        counter += 1\n",
    "    else:\n",
    "        counter += 1"
   ]
  },
  {
   "cell_type": "markdown",
   "metadata": {},
   "source": [
    "From here we can see that we have some useful outputs, and also some useless ones. We can start to clean this up for analysis. This is going to get extremely messy, and isn't efficient, but you should only have to clean up data once, so it doesn't matter that much!\n",
    "\n",
    "We go through a similar procedure as before, but we only print the link if it starts with \"https://www.reddit.com/r/\" <b>and</b> stops after the subreddit. This is because we don't want to include links to particular posts, just the subreddits themselves. We also need to include a \"try\" and \"except\" clause to catch any errors that may come up because the code is messy. Again, for the sake of space, we've filtered a lot of the outputs out using a counter, but if you want you can remove the for loop to see the complete output:"
   ]
  },
  {
   "cell_type": "code",
   "execution_count": 41,
   "metadata": {},
   "outputs": [
    {
     "name": "stdout",
     "output_type": "stream",
     "text": [
      " \n",
      "https://www.reddit.com/r/funny/\n",
      "https://www.reddit.com/r/ProgrammerHumor/\n",
      "https://www.reddit.com/r/instant_regret/\n",
      "https://www.reddit.com/r/gaming/\n",
      "https://www.reddit.com/r/gifs/\n",
      "https://www.reddit.com/r/Whatcouldgowrong/\n",
      "https://www.reddit.com/r/oddlysatisfying/\n",
      "https://www.reddit.com/r/movies/\n",
      "https://www.reddit.com/r/technology/\n",
      "https://www.reddit.com/r/aww/\n",
      "https://www.reddit.com/r/worldnews/\n",
      "https://www.reddit.com/r/PrequelMemes/\n",
      "https://www.reddit.com/r/shittyrobots/\n",
      "https://www.reddit.com/r/woahdude/\n",
      "https://www.reddit.com/r/comics/\n",
      "https://www.reddit.com/r/DIY/\n",
      "https://www.reddit.com/r/HighQualityGifs/\n",
      "https://www.reddit.com/r/hacking/\n",
      "https://www.reddit.com/r/mildlyinteresting/\n"
     ]
    }
   ],
   "source": [
    "counter = 0\n",
    "for links in soup.find_all('a'):\n",
    "    if counter < 80 and counter > 60:\n",
    "        try:\n",
    "            if links.get('href').split(\"/\")[0:4] == ['https:', '', 'www.reddit.com', 'r'] and len(links.get('href').split(\"/\")) == 6:\n",
    "                print (links.get('href'))\n",
    "                counter += 1\n",
    "        except AttributeError:\n",
    "            print(\" \")\n",
    "            \n",
    "    else:\n",
    "        counter += 1"
   ]
  },
  {
   "cell_type": "markdown",
   "metadata": {},
   "source": [
    "To finish cleaning up our data, we can alter our code again to get rid of the link and leave us with the subreddit name, and put all the names into a list:"
   ]
  },
  {
   "cell_type": "code",
   "execution_count": 42,
   "metadata": {},
   "outputs": [
    {
     "name": "stdout",
     "output_type": "stream",
     "text": [
      " \n"
     ]
    }
   ],
   "source": [
    "subredditList = []\n",
    "for links in soup.find_all('a'):\n",
    "    try:\n",
    "        if links.get('href').split(\"/\")[0:4] == ['https:', '', 'www.reddit.com', 'r'] and len(links.get('href').split(\"/\")) == 6:\n",
    "            subredditList.append(links.get('href').split(\"/\")[4])\n",
    "    except AttributeError:\n",
    "        print(\" \")"
   ]
  },
  {
   "cell_type": "markdown",
   "metadata": {},
   "source": [
    "Great! From here on it's plain sailing. Now let's take a look at our useful data, stored in the variable subredditList."
   ]
  },
  {
   "cell_type": "code",
   "execution_count": 46,
   "metadata": {},
   "outputs": [
    {
     "name": "stdout",
     "output_type": "stream",
     "text": [
      "['popular', 'all', 'random', 'AskReddit', 'funny', 'worldnews', 'pics', 'gaming', 'todayilearned', 'news', 'gifs', 'aww', 'videos', 'movies', 'Showerthoughts', 'mildlyinteresting', 'Jokes', 'explainlikeimfive', 'LifeProTips', 'television', 'IAmA']\n"
     ]
    }
   ],
   "source": [
    "print(subredditList[0:21]) #only taking the first 20 subreddits: "
   ]
  },
  {
   "cell_type": "markdown",
   "metadata": {},
   "source": [
    "Now we can start to work with our data - first we need to count how many times each subreddit is mentioned:"
   ]
  },
  {
   "cell_type": "code",
   "execution_count": 47,
   "metadata": {},
   "outputs": [
    {
     "name": "stdout",
     "output_type": "stream",
     "text": [
      "DIY                  2\n",
      "gifs                 2\n",
      "mildlyinteresting    2\n",
      "funny                2\n",
      "worldnews            2\n",
      "dtype: int64\n"
     ]
    }
   ],
   "source": [
    "counts = pd.Series(subredditList).value_counts() #Convert this to a pandas frame to work with\n",
    "print(counts.head())"
   ]
  },
  {
   "cell_type": "markdown",
   "metadata": {},
   "source": [
    "Then we can go ahead and graph this data using pandas in built barplot:"
   ]
  },
  {
   "cell_type": "code",
   "execution_count": 48,
   "metadata": {},
   "outputs": [
    {
     "data": {
      "image/png": "[encoded data removed]",
      "text/plain": [
       "<matplotlib.figure.Figure at 0x2cf7c7a45c0>"
      ]
     },
     "metadata": {},
     "output_type": "display_data"
    }
   ],
   "source": [
    "plt.figure(figsize=(20,10)) #Increase the figuresize for clarity\n",
    "counts.plot.bar() #Plot the data\n",
    "plt.show() #Show the plot"
   ]
  },
  {
   "cell_type": "markdown",
   "metadata": {},
   "source": [
    "If you've made it this far - well done! This is used as a brute force, last resort method to get data, and is very hard to do well. If you've understood the power of web scraping, you've done well!"
   ]
  },
  {
   "cell_type": "markdown",
   "metadata": {},
   "source": [
    "## Worked Example"
   ]
  },
  {
   "cell_type": "markdown",
   "metadata": {},
   "source": [
    "We are going to create a function that will output a graph of any stock we input, over the time period of the last year. Here's the complete annotated code below."
   ]
  },
  {
   "cell_type": "code",
   "execution_count": 49,
   "metadata": {
    "collapsed": true
   },
   "outputs": [],
   "source": [
    "# Import our modules:\n",
    "\n",
    "import pandas as pd\n",
    "import pandas_datareader.data as web\n",
    "import matplotlib.pyplot as plt\n",
    "import datetime\n",
    "\n",
    "\n",
    "# Start our function definition:\n",
    "\n",
    "def stockPriceGraph(symbol):\n",
    "    \n",
    "    # Define the start and end date as Jan 1 2016 and Jan 1 2017\n",
    "    \n",
    "    start = datetime.datetime(2016, 1, 1)\n",
    "    end = datetime.datetime(2017, 1, 1)\n",
    "    \n",
    "    # Get the data from the Google Finance API\n",
    "    \n",
    "    data = web.DataReader(symbol, 'google', start, end)\n",
    "    \n",
    "    # Plot and show the data\n",
    "    \n",
    "    plt.plot(data.index, data[\"Open\"])\n",
    "    plt.show()"
   ]
  },
  {
   "cell_type": "code",
   "execution_count": 82,
   "metadata": {},
   "outputs": [
    {
     "data": {
      "image/png": "[encoded data removed]",
      "text/plain": [
       "<matplotlib.figure.Figure at 0x1ff1b6c07b8>"
      ]
     },
     "metadata": {},
     "output_type": "display_data"
    }
   ],
   "source": [
    "stockPriceGraph(\"AAPL\")"
   ]
  },
  {
   "cell_type": "markdown",
   "metadata": {},
   "source": [
    "Great! From here we could change the plot to make it look nicer, or perform further analysis of the data"
   ]
  },
  {
   "cell_type": "markdown",
   "metadata": {},
   "source": [
    "## Mini Projects"
   ]
  },
  {
   "cell_type": "markdown",
   "metadata": {},
   "source": [
    "By editing the code above, and looking at the pandas and matplotlib documentation, can you:\n",
    "\n",
    "* Print the mean and variance of the stock along with the graph?\n",
    "\n",
    "* Show the value of the mean as a line on the graph?\n",
    "\n",
    "* Create a new column in the dataframe, that is a moving average of the stock price over the last 5 dates\n",
    "\n",
    "* Graph this moving average on the stock graph\n",
    "\n",
    "* Do the same thing with a moving average over 25 dates - do you notice anything when the two moving averages cross? (This is a form of techinical analysis stock traders use!)"
   ]
  },
  {
   "cell_type": "markdown",
   "metadata": {},
   "source": [
    "## Resources and Further Reading"
   ]
  },
  {
   "cell_type": "markdown",
   "metadata": {},
   "source": [
    "* https://www.crummy.com/software/BeautifulSoup/ - The documentation for Beautiful Soup\n",
    "* http://pandas.pydata.org/pandas-docs/stable/ - Pandas documentation\n",
    "* https://pandas-datareader.readthedocs.io/en/latest/ - Pandas datareader documentation"
   ]
  }
 ],
 "metadata": {
  "kernelspec": {
   "display_name": "Python 3",
   "language": "python",
   "name": "python3"
  },
  "language_info": {
   "codemirror_mode": {
    "name": "ipython",
    "version": 3
   },
   "file_extension": ".py",
   "mimetype": "text/x-python",
   "name": "python",
   "nbconvert_exporter": "python",
   "pygments_lexer": "ipython3",
   "version": "3.6.0"
  }
 },
 "nbformat": 4,
 "nbformat_minor": 2
}
