{
 "cells": [
  {
   "cell_type": "markdown",
   "metadata": {},
   "source": [
    "![title](header.png)"
   ]
  },
  {
   "cell_type": "markdown",
   "metadata": {},
   "source": [
    "## Introduction"
   ]
  },
  {
   "cell_type": "markdown",
   "metadata": {},
   "source": [
    "Pandas comes with some neat functions that are essential to know for importing data into Python. We will take a quick look at the two main file types you will recieve data in - CSV and Excel Files, and how to import them as pandas dataframes."
   ]
  },
  {
   "cell_type": "markdown",
   "metadata": {},
   "source": [
    "## Importing CSV Files"
   ]
  },
  {
   "cell_type": "markdown",
   "metadata": {},
   "source": [
    "CSV files (known as Comma Seperated Value Files) are a common format to see data in. Pandas has a built in method for importing this data. For this example, we will be using the example files found [here](https://github.com/stmball/HiPy-2017/tree/master/Importing%20Files%20With%20Pandas) - you will need to download this file to see the example code below work, or you can find your own CSV files and try it for yourself. Note that Python looks by default at the directory the notebook file is in - so try and keep the jupyter notebook file and all imported files in the same folder! The command for this to work is as follows:"
   ]
  },
  {
   "cell_type": "code",
   "execution_count": 3,
   "metadata": {},
   "outputs": [
    {
     "name": "stdout",
     "output_type": "stream",
     "text": [
      "    a   b   c   d\n",
      "0   0   1   2   3\n",
      "1   4   5   6   7\n",
      "2   8   9  10  11\n",
      "3  12  13  14  15\n"
     ]
    }
   ],
   "source": [
    "import numpy as np\n",
    "import pandas as pd\n",
    "\n",
    "df = pd.read_csv('example.csv')\n",
    "\n",
    "print(df)"
   ]
  },
  {
   "cell_type": "markdown",
   "metadata": {},
   "source": [
    "We can also use the same function to skip downloading CSV files and passing the arguement of the download link to the read_csv function:"
   ]
  },
  {
   "cell_type": "code",
   "execution_count": 8,
   "metadata": {},
   "outputs": [
    {
     "name": "stdout",
     "output_type": "stream",
     "text": [
      "   index-entry-number  entry-number       entry-timestamp  key  \\\n",
      "0                 357           357  2017-01-26T12:34:10Z  KIN   \n",
      "1                 356           356  2016-11-01T14:16:54Z  GLA   \n",
      "2                 355           355  2016-10-31T12:59:03Z  LND   \n",
      "3                 354           354  2016-10-21T16:11:20Z  WOT   \n",
      "4                 353           353  2016-10-21T16:11:20Z  MSS   \n",
      "\n",
      "  local-authority-eng local-authority-type                          name  \\\n",
      "0                 KIN                  NMD  King's Lynn and West Norfolk   \n",
      "1                 GLA                  SRA                Greater London   \n",
      "2                 LND                   CC                City of London   \n",
      "3                 WOT                  NMD                      Worthing   \n",
      "4                 MSS                  NMD                    Mid Sussex   \n",
      "\n",
      "                                     official-name  start-date  end-date  \n",
      "0  Borough Council of King's Lynn and West Norfolk         NaN       NaN  \n",
      "1                         Greater London Authority  1905-06-22       NaN  \n",
      "2                       City of London Corporation  1905-06-28       NaN  \n",
      "3                         Worthing Borough Council  1905-06-25       NaN  \n",
      "4                      Mid Sussex District Council  1974-04-01       NaN  \n"
     ]
    }
   ],
   "source": [
    "df = pd.read_csv('https://local-authority-eng.register.gov.uk/records.csv?page-size=5000')\n",
    "\n",
    "print(df.head())"
   ]
  },
  {
   "cell_type": "markdown",
   "metadata": {},
   "source": []
  },
  {
   "cell_type": "markdown",
   "metadata": {},
   "source": [
    "## Importing Excel Files"
   ]
  },
  {
   "cell_type": "markdown",
   "metadata": {},
   "source": [
    "Excel files can be imported into Python very easily using the following function - the file we're targeting can be found [here](https://github.com/stmball/HiPy-2017/tree/master/Importing%20Files%20With%20Pandas)."
   ]
  },
  {
   "cell_type": "code",
   "execution_count": 10,
   "metadata": {},
   "outputs": [
    {
     "name": "stdout",
     "output_type": "stream",
     "text": [
      "   a  b  c  d\n",
      "0  0  1  0  1\n",
      "1  1  0  1  0\n",
      "2  0  1  0  1\n",
      "3  1  0  1  0\n"
     ]
    }
   ],
   "source": [
    "df = pd.read_excel('Excel_Sample.xlsx',sheetname='Sheet1')\n",
    "print(df)"
   ]
  },
  {
   "cell_type": "markdown",
   "metadata": {},
   "source": [
    "## Worked Example"
   ]
  },
  {
   "cell_type": "markdown",
   "metadata": {},
   "source": [
    "We're going to work with the local authoity CSV, cleaning it up ready for some very basic analysis.\n",
    "\n",
    "First, we're going to load in our modules and import our data:"
   ]
  },
  {
   "cell_type": "code",
   "execution_count": 15,
   "metadata": {},
   "outputs": [
    {
     "name": "stdout",
     "output_type": "stream",
     "text": [
      "   index-entry-number  entry-number       entry-timestamp  key  \\\n",
      "0                 357           357  2017-01-26T12:34:10Z  KIN   \n",
      "1                 356           356  2016-11-01T14:16:54Z  GLA   \n",
      "2                 355           355  2016-10-31T12:59:03Z  LND   \n",
      "3                 354           354  2016-10-21T16:11:20Z  WOT   \n",
      "4                 353           353  2016-10-21T16:11:20Z  MSS   \n",
      "\n",
      "  local-authority-eng local-authority-type                          name  \\\n",
      "0                 KIN                  NMD  King's Lynn and West Norfolk   \n",
      "1                 GLA                  SRA                Greater London   \n",
      "2                 LND                   CC                City of London   \n",
      "3                 WOT                  NMD                      Worthing   \n",
      "4                 MSS                  NMD                    Mid Sussex   \n",
      "\n",
      "                                     official-name  start-date  end-date  \n",
      "0  Borough Council of King's Lynn and West Norfolk         NaN       NaN  \n",
      "1                         Greater London Authority  1905-06-22       NaN  \n",
      "2                       City of London Corporation  1905-06-28       NaN  \n",
      "3                         Worthing Borough Council  1905-06-25       NaN  \n",
      "4                      Mid Sussex District Council  1974-04-01       NaN  \n"
     ]
    }
   ],
   "source": [
    "import numpy as np\n",
    "import pandas as pd\n",
    "import matplotlib.pyplot as plt\n",
    "\n",
    "df = pd.read_csv('https://local-authority-eng.register.gov.uk/records.csv?page-size=5000')\n",
    "\n",
    "print(df.head())"
   ]
  },
  {
   "cell_type": "markdown",
   "metadata": {},
   "source": [
    "We're going to create a new dataframe with just the local authority code."
   ]
  },
  {
   "cell_type": "code",
   "execution_count": 16,
   "metadata": {},
   "outputs": [
    {
     "name": "stdout",
     "output_type": "stream",
     "text": [
      "0    KIN\n",
      "1    GLA\n",
      "2    LND\n",
      "3    WOT\n",
      "4    MSS\n",
      "Name: local-authority-eng, dtype: object\n"
     ]
    }
   ],
   "source": [
    "df = df['local-authority-eng'] #selecting the local authority code\n",
    "print(df.head())"
   ]
  },
  {
   "cell_type": "markdown",
   "metadata": {},
   "source": [
    "So we now have a list of all local authority codes in the UK. Let's try and get a frequency chart of the first letter of each authority's code. There are a lot of different ways of doing this, we will be using the most clear way - first we define a function that returns the first letter of the local authority code, then we use the \".apply\" method to run this function on every entry in our series above:"
   ]
  },
  {
   "cell_type": "code",
   "execution_count": 17,
   "metadata": {},
   "outputs": [],
   "source": [
    "def getFirstLetter(string):\n",
    "    return string[0]\n",
    "\n",
    "counts = df.apply(getFirstLetter)"
   ]
  },
  {
   "cell_type": "markdown",
   "metadata": {},
   "source": [
    "Then we use the \".value_counts\" method to count how many times each letter appears:"
   ]
  },
  {
   "cell_type": "code",
   "execution_count": 18,
   "metadata": {},
   "outputs": [
    {
     "data": {
      "text/plain": [
       "S    52\n",
       "W    38\n",
       "B    35\n",
       "C    30\n",
       "N    26\n",
       "H    25\n",
       "E    21\n",
       "R    19\n",
       "T    18\n",
       "M    15\n",
       "L    14\n",
       "D    13\n",
       "G    10\n",
       "K     8\n",
       "A     7\n",
       "P     7\n",
       "F     5\n",
       "O     4\n",
       "I     4\n",
       "V     1\n",
       "U     1\n",
       "Y     1\n",
       "Name: local-authority-eng, dtype: int64"
      ]
     },
     "execution_count": 18,
     "metadata": {},
     "output_type": "execute_result"
    }
   ],
   "source": [
    "counts = counts.value_counts()\n",
    "counts"
   ]
  },
  {
   "cell_type": "markdown",
   "metadata": {},
   "source": [
    "Finally, we <i>could</i> use matplotlib to graph the frequency charts of each letter - but a quicker and easier way to do this is to use panda's built in visualisation - we'll see how to use this later:"
   ]
  },
  {
   "cell_type": "code",
   "execution_count": 19,
   "metadata": {},
   "outputs": [
    {
     "data": {
      "image/png": "[encoded data removed]",
      "text/plain": [
       "<matplotlib.figure.Figure at 0x2801f918b70>"
      ]
     },
     "metadata": {},
     "output_type": "display_data"
    }
   ],
   "source": [
    "counts.plot.bar()\n",
    "plt.show()"
   ]
  },
  {
   "cell_type": "markdown",
   "metadata": {},
   "source": [
    "Cool! Do you think there's a reason that S is the most common letter? (If you have an idea, test it out using python!)"
   ]
  },
  {
   "cell_type": "markdown",
   "metadata": {},
   "source": [
    "## Mini Project"
   ]
  },
  {
   "cell_type": "markdown",
   "metadata": {},
   "source": [
    "The Feburary costs of the Department of Education over £25,000 can be found at this link (https://www.gov.uk/government/uploads/system/uploads/attachment_data/file/594112/DfE_and_EFA_Spend_January_2017.csv) in csv format. Can you find out how much money the Department of Education spent in Feburary (in costs of over £25000)? Can you break these down by the expense type, or supplier? (Hint: Look at the groupby function) "
   ]
  },
  {
   "cell_type": "markdown",
   "metadata": {},
   "source": [
    "## More information "
   ]
  },
  {
   "cell_type": "markdown",
   "metadata": {},
   "source": [
    "* Govenment data found at: https://data.gov.uk/\n",
    "* Pandas documentation: http://pandas.pydata.org/pandas-docs/stable/"
   ]
  }
 ],
 "metadata": {
  "kernelspec": {
   "display_name": "Python 3",
   "language": "python",
   "name": "python3"
  },
  "language_info": {
   "codemirror_mode": {
    "name": "ipython",
    "version": 3
   },
   "file_extension": ".py",
   "mimetype": "text/x-python",
   "name": "python",
   "nbconvert_exporter": "python",
   "pygments_lexer": "ipython3",
   "version": "3.6.0"
  }
 },
 "nbformat": 4,
 "nbformat_minor": 2
}
